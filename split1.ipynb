{
  "nbformat": 4,
  "nbformat_minor": 0,
  "metadata": {
    "colab": {
      "provenance": [],
      "gpuType": "T4"
    },
    "kernelspec": {
      "name": "python3",
      "display_name": "Python 3"
    },
    "language_info": {
      "name": "python"
    },
    "accelerator": "GPU"
  },
  "cells": [
    {
      "cell_type": "code",
      "execution_count": null,
      "metadata": {
        "id": "_RtW6icehRaL"
      },
      "outputs": [],
      "source": [
        "import numpy as np\n",
        "import pandas as pd\n",
        "import random"
      ]
    },
    {
      "cell_type": "markdown",
      "source": [
        "**Generating samples for the Split On Two Accounts Workflow**"
      ],
      "metadata": {
        "id": "ilXxq_BwMZ4Q"
      }
    },
    {
      "cell_type": "code",
      "source": [
        "def generate_example():\n",
        "    rptid = random.randint(1000,400000)\n",
        "    trdid = random.randint(20281004800, 40281004800)\n",
        "    trdtyp = random.choice([0, 1, 2, 3, 11, 15, 20, 29, 31, 45])\n",
        "    mtchid = random.randint(20281001777, 40281001777)\n",
        "    pxtyp = random.choice([2, 10])\n",
        "    lastpx = random.choice([100, 370, 876, 250.45, 300.9, 540.698, 1050, 3590.59])\n",
        "    trdt = random.choice([\"2022-12-17\",\"2022-12-21\",\"2023-01-02\",\"2023-01-05\"])\n",
        "    bizdt = random.choice([\"2023-01-06\",\"2023-01-11\",\"2023-01-20\",\"2023-02-05\",\"2023-02-10\"])\n",
        "    t = random.choice([\"2023-02-15\",\"2023-02-21\",\"2023-03-20\",\"2023-03-30\"])\n",
        "    time1 = random.choice(['T05:17:30','T10:18:15','T12:25:13','T16:40:55'])\n",
        "    r1 = random.choice(['.100','.230','.326'])\n",
        "    r2 = random.choice(['.350','.470','.768'])\n",
        "    tz1 = random.choice(['-5:00','-6:00','-7:00'])\n",
        "    txntm= t+time1+r1+tz1\n",
        "    time2 = random.choice(['T17:30:55.600','T19:33:05.333','T22:03:12.436'])\n",
        "    snt1 = t+time1+r2+tz1\n",
        "    snt2 = t+time2+'+01:00'\n",
        "    snt3 = t+'T00:12:55.138'+tz1\n",
        "    snt4 = t+'T00:12:55.160'+tz1\n",
        "    sym = random.choice([\"BUI\",\"ABP\",\"TMP\"])\n",
        "    id5 = random.choice(['B','W','AS','LM','BUI','IP0'])\n",
        "    my = random.choice([\"2023-05\",\"2023-07\",\"2023-10\"])\n",
        "    mmy = my.replace('-','')\n",
        "    matdt = my+'-'+str(random.randint(1,28))\n",
        "    inptsrc = random.choice(['MA','EL','SY'])\n",
        "    clordid = random.choice(['123','134','145','146ZBT','245BTN','987NL','OrdAT'])\n",
        "    tid = random.choice(['ABCD','D210','B509','HBPL','TL98'])\n",
        "    id2 = random.choice(['Emira-115','Ahlem-110','Karim-200','Mohamed-300','acc-AT','bl-NL','Mariem','ahmed'])\n",
        "    typ = random.randint(20,30)\n",
        "    id3 = random.choice([\"FIRMACT1\",\"AKLPM9\",\"MPLAMP6\",\"00120007\",\"Hassen\",\"Ahlem\",'arij'])\n",
        "    custcpcty1 = random.randint(1,4)\n",
        "    custcpcty2 = random.randint(1,4)\n",
        "    custcpcty3 = random.randint(1,4)\n",
        "    ex = random.choice(['BTNL','SNTL','HDPL','XMGE'])\n",
        "    mult = random.choice([0.1, 0.2, 0.3, 0.4, 0.9, 1000, 2000, 5000, 300, 200, 50, 70])\n",
        "    pos1 = random.choice(['Y','N'])\n",
        "    pos3 = random.choice(['Y','N'])\n",
        "    cfi = random.choice(['FCCPXX','APYBKL','MKLPON','FCAPSX'])\n",
        "    pos2 = random.choice(['O','C'])\n",
        "    side = random.randint(1,2)\n",
        "    id26 = random.randint(1,2)\n",
        "    mlrty = random.randint(1,3)\n",
        "    inpdev = random.choice(['PORTAL','EXCHANGE','API','CLEARING'])\n",
        "    id4 = random.randint(100,500)\n",
        "    id12 = random.choice(['100','200','400','A123','B115'])\n",
        "    cfi2 = random.choice(['FCCPXX','APYBKL','MKLPON','FCAPSX'])\n",
        "    qt1 = random.randint(2,50)\n",
        "    qt2 = random.randint(2,50)\n",
        "    id242 = random.choice(['6db3a','5cot9','najet','FIRMACT2'])\n",
        "    inalocn = random.randint(1071378091562369024,2171378091562369024)\n",
        "    trdt2 = trdt.replace('-','')\n",
        "    inch1 = random.choice(['5d135','9la98','ckpla'])\n",
        "    inch2 = random.choice(['el8ab','c2537','3tlpa'])\n",
        "    indal1 = str(inalocn)+'@'+ex+'>'+str(trdid)+'FS@'+trdt2+'||'+inch1\n",
        "    indal2 = str(inalocn)+'@'+ex+'&gt;'+str(trdid)+'FS@'+trdt2+'||'+inch1\n",
        "    indal3 = str(inalocn)+'@'+ex+'>'+str(trdid)+'FS@'+trdt2+'||'+inch2\n",
        "    indal4 = str(inalocn)+'@'+ex+'&gt;'+str(trdid)+'FS@'+trdt2+'||'+inch2\n",
        "    lastqty = qt1+qt2\n",
        "    return (\n",
        "        f\"\"\"<TrdCaptRpt RptID=\"{rptid}\" TrdID=\"{trdid}\" TransTyp=\"0\" RptTyp=\"2\" TrdTyp=\"{trdtyp}\" MtchID=\"{mtchid}\" PxTyp=\"{pxtyp}\" LastQty=\"{lastqty}\" LastPx=\"{lastpx}\" TrdDt=\"{trdt}\"\n",
        " BizDt=\"{bizdt}\" TxnTm=\"{txntm}\"><Hdr SID=\"MGEX\" TID=\"{tid}\" PosDup=\"{pos1}\" PosRsnd=\"{pos3}\" Snt=\"{snt1}\"></Hdr>\n",
        "<Instrmt Sym=\"{sym}\" ID=\"{id5}\" Src=\"H\" CFI=\"{cfi}\" MMY=\"{mmy}\" MatDt=\"{matdt}\" Mult=\"{mult}\" Exch=\"{ex}\"></Instrmt><RptSide Side=\"{side}\" Ccy=\"USD\" InptSrc=\"{inptsrc}\"\n",
        " InptDev=\"{inpdev}\" CustCpcty=\"{custcpcty1}\" PosEfct=\"{pos2}\" ClOrdID=\"{clordid}\" MLegRptTyp=\"{mlrty}\" AllocInd=\"0\"><Pty ID=\"MGEX\" R=\"21\"></Pty><Pty ID=\"210\" R=\"1\"></Pty><Pty ID=\"210\" R=\"4\"></Pty>\n",
        "<Pty ID=\"{id2}\" R=\"24\"><Sub ID=\"{id26}\" Typ=\"26\"></Sub></Pty><Pty ID=\"{id12}\" R=\"12\"></Pty><TrdRegTS TS=\"{txntm}\" Typ=\"1\">\n",
        "</TrdRegTS></RptSide></TrdCaptRpt>\"\"\".replace('\\n', ''),\n",
        "        f\"\"\"<TrdCaptRpt RptID=\"{trdid}\" TrdDt=\"{trdt}\" BizDt=\"{bizdt}\" TxnTm=\"{txntm}\" TrdID=\"{trdid}\" TransTyp=\"2\" RptTyp=\"0\" LastQty=\"{float(lastqty)}\"\n",
        " LastPx=\"{float(lastpx)}\"><Hdr Snt=\"{snt2}\" TID=\"MGEX\" SID=\"{tid}\"/><Instrmt Exch=\"{ex}\" ID=\"{id5}\" MMY=\"{mmy}\" CFI=\"{cfi2}\"/><RptSide Side=\"{side}\" AllocInd=\"2\" CustCpcty=\"{custcpcty2}\"><Pty\n",
        " ID=\"210\" R=\"1\"/><Alloc Qty=\"{float(qt1)}\" CustCpcty=\"{custcpcty2}\" IndAllocID=\"{indal1}\"><Pty ID=\"{id3}\" R=\"24\"><Sub ID=\"{id26}\" Typ=\"26\"/></Pty></Alloc>\n",
        "<Alloc Qty=\"{float(qt2)}\" CustCpcty=\"{custcpcty3}\" IndAllocID=\"{indal3}\"><Pty ID=\"{id242}\" R=\"24\"><Sub ID=\"{id26}\" Typ=\"26\"/></Pty></Alloc></RptSide>\n",
        "</TrdCaptRpt>\"\"\".replace('\\n', ''),\n",
        "\n",
        "        f\"\"\"<TrdCaptRpt RptID=\"380198\" TrdID=\"{trdid}\" TransTyp=\"2\" RptTyp=\"2\" TrdTyp=\"{trdtyp}\" MtchID=\"{mtchid}\" PxTyp=\"{pxtyp}\" LastQty=\"{float(qt1)}\" LastPx=\"{lastpx}\" TrdDt=\"{trdt}\"\n",
        " BizDt=\"{bizdt}\" TxnTm=\"{snt3}\"><Hdr SID=\"MGEX\" TID=\"{tid}\" PosDup=\"{pos1}\" PosRsnd=\"{pos3}\" Snt=\"{snt4}\"></Hdr>\n",
        "<Instrmt Sym=\"{sym}\" ID=\"{id5}\" Src=\"H\" CFI=\"{cfi}\" MMY=\"{mmy}\" MatDt=\"{matdt}\" Mult=\"{mult}\" Exch=\"{ex}\"></Instrmt><RptSide Side=\"{side}\" Ccy=\"USD\" InptSrc=\"{inptsrc}\"\n",
        " InptDev=\"API\" CustCpcty=\"{custcpcty2}\" PosEfct=\"{pos2}\" ClOrdID=\"{clordid}\" MLegRptTyp=\"{mlrty}\" AllocInd=\"0\"><Pty ID=\"MGEX\" R=\"21\"></Pty><Pty ID=\"210\" R=\"1\"></Pty><Pty ID=\"210\" R=\"4\"></Pty>\n",
        "<Pty ID=\"{id3}\" R=\"24\"><Sub ID=\"{id26}\" Typ=\"26\"></Sub></Pty><Pty ID=\"{id12}\" R=\"12\"></Pty><Alloc IndAllocID=\"{indal2}\"></Alloc><TrdRegTS TS=\"{txntm}\" Typ=\"1\"></TrdRegTS></RptSide>\n",
        "</TrdCaptRpt>\"\"\".replace('\\n', ''),\n",
        "        f\"\"\"<TrdCaptRpt RptID=\"380199\" TrdID=\"18061000020\" TransTyp=\"0\" RptTyp=\"2\" TrdTyp=\"{trdtyp}\" OrigTrdID=\"{trdid}\" MtchID=\"{mtchid}\" PxTyp=\"{pxtyp}\" LastQty=\"{float(qt2)}\" LastPx=\"{lastpx}\" TrdDt=\"{trdt}\"\n",
        " BizDt=\"{bizdt}\" TxnTm=\"{snt3}\"><Hdr SID=\"MGEX\" TID=\"{tid}\" PosDup=\"{pos1}\" PosRsnd=\"{pos3}\" Snt=\"{snt4}\"></Hdr>\n",
        "<Instrmt Sym=\"{sym}\" ID=\"{id5}\" Src=\"H\" CFI=\"{cfi}\" MMY=\"{mmy}\" MatDt=\"{matdt}\" Mult=\"{mult}\" Exch=\"{ex}\"></Instrmt><RptSide Side=\"{side}\" Ccy=\"USD\" InptSrc=\"{inptsrc}\"\n",
        " InptDev=\"API\" CustCpcty=\"{custcpcty3}\" PosEfct=\"{pos2}\" ClOrdID=\"{clordid}\" MLegRptTyp=\"{mlrty}\" AllocInd=\"0\"><Pty ID=\"MGEX\" R=\"21\"></Pty><Pty ID=\"210\" R=\"1\"></Pty><Pty ID=\"210\" R=\"4\"></Pty>\n",
        "<Pty ID=\"{id242}\" R=\"24\"><Sub ID=\"{id26}\" Typ=\"26\"></Sub></Pty><Pty ID=\"{id12}\" R=\"12\"></Pty><Alloc IndAllocID=\"{indal4}\"></Alloc><TrdRegTS TS=\"{txntm}\" Typ=\"1\"></TrdRegTS></RptSide>\n",
        "</TrdCaptRpt>\"\"\".replace('\\n', '')\n",
        "    )"
      ],
      "metadata": {
        "id": "o5oV-TTGhWrr"
      },
      "execution_count": null,
      "outputs": []
    },
    {
      "cell_type": "code",
      "source": [
        "dataset = [generate_example() for _ in range(1000)]"
      ],
      "metadata": {
        "id": "yLhk1bcU8w-1"
      },
      "execution_count": null,
      "outputs": []
    },
    {
      "cell_type": "code",
      "source": [
        "dataset[0][0]"
      ],
      "metadata": {
        "colab": {
          "base_uri": "https://localhost:8080/",
          "height": 105
        },
        "id": "D-Ag5gReBJgM",
        "outputId": "051aa348-745a-4694-e99e-15237cb009b0"
      },
      "execution_count": null,
      "outputs": [
        {
          "output_type": "execute_result",
          "data": {
            "text/plain": [
              "'<TrdCaptRpt RptID=\"136826\" TrdID=\"35740661331\" TransTyp=\"0\" RptTyp=\"2\" TrdTyp=\"3\" MtchID=\"22138400181\" PxTyp=\"2\" LastQty=\"40\" LastPx=\"3590.59\" TrdDt=\"2022-12-17\" BizDt=\"2023-01-11\" TxnTm=\"2023-02-15T12:25:13.230-7:00\"><Hdr SID=\"MGEX\" TID=\"TL98\" PosDup=\"Y\" PosRsnd=\"N\" Snt=\"2023-02-15T12:25:13.350-7:00\"></Hdr><Instrmt Sym=\"ABP\" ID=\"BUI\" Src=\"H\" CFI=\"APYBKL\" MMY=\"202310\" MatDt=\"2023-10-2\" Mult=\"0.9\" Exch=\"BTNL\"></Instrmt><RptSide Side=\"2\" Ccy=\"USD\" InptSrc=\"MA\" InptDev=\"API\" CustCpcty=\"1\" PosEfct=\"C\" ClOrdID=\"987NL\" MLegRptTyp=\"2\" AllocInd=\"0\"><Pty ID=\"MGEX\" R=\"21\"></Pty><Pty ID=\"210\" R=\"1\"></Pty><Pty ID=\"210\" R=\"4\"></Pty><Pty ID=\"Karim-200\" R=\"24\"><Sub ID=\"2\" Typ=\"26\"></Sub></Pty><Pty ID=\"100\" R=\"12\"></Pty><TrdRegTS TS=\"2023-02-15T12:25:13.230-7:00\" Typ=\"1\"></TrdRegTS></RptSide></TrdCaptRpt>'"
            ],
            "application/vnd.google.colaboratory.intrinsic+json": {
              "type": "string"
            }
          },
          "metadata": {},
          "execution_count": 59
        }
      ]
    },
    {
      "cell_type": "code",
      "source": [
        "dataset[0][1]"
      ],
      "metadata": {
        "colab": {
          "base_uri": "https://localhost:8080/",
          "height": 88
        },
        "id": "GQt8ZjnfBLbl",
        "outputId": "04d8c9ef-dea9-4c02-e694-f22b69565e26"
      },
      "execution_count": null,
      "outputs": [
        {
          "output_type": "execute_result",
          "data": {
            "text/plain": [
              "'<TrdCaptRpt RptID=\"35740661331\" TrdDt=\"2022-12-17\" BizDt=\"2023-01-11\" TxnTm=\"2023-02-15T12:25:13.230-7:00\" TrdID=\"35740661331\" TransTyp=\"2\" RptTyp=\"0\" LastQty=\"40.0\" LastPx=\"3590.59\"><Hdr Snt=\"2023-02-15T19:33:05.333+01:00\" TID=\"MGEX\" SID=\"TL98\"/><Instrmt Exch=\"BTNL\" ID=\"BUI\" MMY=\"202310\" CFI=\"MKLPON\"/><RptSide Side=\"2\" AllocInd=\"2\" CustCpcty=\"2\"><Pty ID=\"210\" R=\"1\"/><Alloc Qty=\"25.0\" CustCpcty=\"2\" IndAllocID=\"1938463012888430837@BTNL>35740661331FS@20221217||5d135\"><Pty ID=\"Ahlem\" R=\"24\"><Sub ID=\"2\" Typ=\"26\"/></Pty></Alloc><Alloc Qty=\"15.0\" CustCpcty=\"2\" IndAllocID=\"1938463012888430837@BTNL>35740661331FS@20221217||c2537\"><Pty ID=\"5cot9\" R=\"24\"><Sub ID=\"2\" Typ=\"26\"/></Pty></Alloc></RptSide></TrdCaptRpt>'"
            ],
            "application/vnd.google.colaboratory.intrinsic+json": {
              "type": "string"
            }
          },
          "metadata": {},
          "execution_count": 60
        }
      ]
    },
    {
      "cell_type": "code",
      "source": [
        "dataset[0][2]"
      ],
      "metadata": {
        "colab": {
          "base_uri": "https://localhost:8080/",
          "height": 105
        },
        "id": "HzN7UAS-BU5p",
        "outputId": "63bc14df-72af-4907-b03d-7cb7bbc0959c"
      },
      "execution_count": null,
      "outputs": [
        {
          "output_type": "execute_result",
          "data": {
            "text/plain": [
              "'<TrdCaptRpt RptID=\"380198\" TrdID=\"35740661331\" TransTyp=\"2\" RptTyp=\"2\" TrdTyp=\"3\" MtchID=\"22138400181\" PxTyp=\"2\" LastQty=\"25.0\" LastPx=\"3590.59\" TrdDt=\"2022-12-17\" BizDt=\"2023-01-11\" TxnTm=\"2023-02-15T00:12:55.138-7:00\"><Hdr SID=\"MGEX\" TID=\"TL98\" PosDup=\"Y\" PosRsnd=\"N\" Snt=\"2023-02-15T00:12:55.160-7:00\"></Hdr><Instrmt Sym=\"ABP\" ID=\"BUI\" Src=\"H\" CFI=\"APYBKL\" MMY=\"202310\" MatDt=\"2023-10-2\" Mult=\"0.9\" Exch=\"BTNL\"></Instrmt><RptSide Side=\"2\" Ccy=\"USD\" InptSrc=\"MA\" InptDev=\"API\" CustCpcty=\"2\" PosEfct=\"C\" ClOrdID=\"987NL\" MLegRptTyp=\"2\" AllocInd=\"0\"><Pty ID=\"MGEX\" R=\"21\"></Pty><Pty ID=\"210\" R=\"1\"></Pty><Pty ID=\"210\" R=\"4\"></Pty><Pty ID=\"Ahlem\" R=\"24\"><Sub ID=\"2\" Typ=\"26\"></Sub></Pty><Pty ID=\"100\" R=\"12\"></Pty><Alloc IndAllocID=\"1938463012888430837@BTNL&gt;35740661331FS@20221217||5d135\"></Alloc><TrdRegTS TS=\"2023-02-15T12:25:13.230-7:00\" Typ=\"1\"></TrdRegTS></RptSide></TrdCaptRpt>'"
            ],
            "application/vnd.google.colaboratory.intrinsic+json": {
              "type": "string"
            }
          },
          "metadata": {},
          "execution_count": 61
        }
      ]
    },
    {
      "cell_type": "code",
      "source": [
        "dataset[0][3]"
      ],
      "metadata": {
        "colab": {
          "base_uri": "https://localhost:8080/",
          "height": 105
        },
        "id": "0qW9-W8aBWzb",
        "outputId": "66759387-d83a-4b9c-8d0f-b785d94878cb"
      },
      "execution_count": null,
      "outputs": [
        {
          "output_type": "execute_result",
          "data": {
            "text/plain": [
              "'<TrdCaptRpt RptID=\"380199\" TrdID=\"18061000020\" TransTyp=\"0\" RptTyp=\"2\" TrdTyp=\"3\" OrigTrdID=\"35740661331\" MtchID=\"22138400181\" PxTyp=\"2\" LastQty=\"15.0\" LastPx=\"3590.59\" TrdDt=\"2022-12-17\" BizDt=\"2023-01-11\" TxnTm=\"2023-02-15T00:12:55.138-7:00\"><Hdr SID=\"MGEX\" TID=\"TL98\" PosDup=\"Y\" PosRsnd=\"N\" Snt=\"2023-02-15T00:12:55.160-7:00\"></Hdr><Instrmt Sym=\"ABP\" ID=\"BUI\" Src=\"H\" CFI=\"APYBKL\" MMY=\"202310\" MatDt=\"2023-10-2\" Mult=\"0.9\" Exch=\"BTNL\"></Instrmt><RptSide Side=\"2\" Ccy=\"USD\" InptSrc=\"MA\" InptDev=\"API\" CustCpcty=\"2\" PosEfct=\"C\" ClOrdID=\"987NL\" MLegRptTyp=\"2\" AllocInd=\"0\"><Pty ID=\"MGEX\" R=\"21\"></Pty><Pty ID=\"210\" R=\"1\"></Pty><Pty ID=\"210\" R=\"4\"></Pty><Pty ID=\"5cot9\" R=\"24\"><Sub ID=\"2\" Typ=\"26\"></Sub></Pty><Pty ID=\"100\" R=\"12\"></Pty><Alloc IndAllocID=\"1938463012888430837@BTNL&gt;35740661331FS@20221217||c2537\"></Alloc><TrdRegTS TS=\"2023-02-15T12:25:13.230-7:00\" Typ=\"1\"></TrdRegTS></RptSide></TrdCaptRpt>'"
            ],
            "application/vnd.google.colaboratory.intrinsic+json": {
              "type": "string"
            }
          },
          "metadata": {},
          "execution_count": 62
        }
      ]
    },
    {
      "cell_type": "markdown",
      "source": [
        "**Creating a DataFrame with the generated samples**"
      ],
      "metadata": {
        "id": "uE9oziCjMtxZ"
      }
    },
    {
      "cell_type": "code",
      "source": [
        "column1_data = [example[0] for example in dataset]\n",
        "column2_data = [example[1] for example in dataset]\n",
        "column3_data = [example[2] for example in dataset]\n",
        "column4_data = [example[3] for example in dataset]\n",
        "\n",
        "df = pd.DataFrame({\n",
        "    'Trade_message': column1_data,\n",
        "    'SGW_Operation': column2_data,\n",
        "    'CCP_Message1': column3_data,\n",
        "    'CCP_Message2': column4_data\n",
        "})"
      ],
      "metadata": {
        "id": "3kHHeJAUBo25"
      },
      "execution_count": null,
      "outputs": []
    },
    {
      "cell_type": "code",
      "source": [
        "df.head()"
      ],
      "metadata": {
        "colab": {
          "base_uri": "https://localhost:8080/",
          "height": 293
        },
        "id": "kdeSUP4LF-Oc",
        "outputId": "2a2c3f33-a91b-436b-f1c6-95b802a47fd6"
      },
      "execution_count": null,
      "outputs": [
        {
          "output_type": "execute_result",
          "data": {
            "text/plain": [
              "                                       Trade_message  \\\n",
              "0  <TrdCaptRpt RptID=\"136826\" TrdID=\"35740661331\"...   \n",
              "1  <TrdCaptRpt RptID=\"350087\" TrdID=\"24981651263\"...   \n",
              "2  <TrdCaptRpt RptID=\"311717\" TrdID=\"32785059736\"...   \n",
              "3  <TrdCaptRpt RptID=\"16312\" TrdID=\"20425984430\" ...   \n",
              "4  <TrdCaptRpt RptID=\"364833\" TrdID=\"36945109897\"...   \n",
              "\n",
              "                                       SGW_Operation  \\\n",
              "0  <TrdCaptRpt RptID=\"35740661331\" TrdDt=\"2022-12...   \n",
              "1  <TrdCaptRpt RptID=\"24981651263\" TrdDt=\"2022-12...   \n",
              "2  <TrdCaptRpt RptID=\"32785059736\" TrdDt=\"2022-12...   \n",
              "3  <TrdCaptRpt RptID=\"20425984430\" TrdDt=\"2022-12...   \n",
              "4  <TrdCaptRpt RptID=\"36945109897\" TrdDt=\"2023-01...   \n",
              "\n",
              "                                        CCP_Message1  \\\n",
              "0  <TrdCaptRpt RptID=\"380198\" TrdID=\"35740661331\"...   \n",
              "1  <TrdCaptRpt RptID=\"380198\" TrdID=\"24981651263\"...   \n",
              "2  <TrdCaptRpt RptID=\"380198\" TrdID=\"32785059736\"...   \n",
              "3  <TrdCaptRpt RptID=\"380198\" TrdID=\"20425984430\"...   \n",
              "4  <TrdCaptRpt RptID=\"380198\" TrdID=\"36945109897\"...   \n",
              "\n",
              "                                        CCP_Message2  \n",
              "0  <TrdCaptRpt RptID=\"380199\" TrdID=\"18061000020\"...  \n",
              "1  <TrdCaptRpt RptID=\"380199\" TrdID=\"18061000020\"...  \n",
              "2  <TrdCaptRpt RptID=\"380199\" TrdID=\"18061000020\"...  \n",
              "3  <TrdCaptRpt RptID=\"380199\" TrdID=\"18061000020\"...  \n",
              "4  <TrdCaptRpt RptID=\"380199\" TrdID=\"18061000020\"...  "
            ],
            "text/html": [
              "\n",
              "  <div id=\"df-78e504cf-3e2c-4749-a399-94a4c6b8b9ec\" class=\"colab-df-container\">\n",
              "    <div>\n",
              "<style scoped>\n",
              "    .dataframe tbody tr th:only-of-type {\n",
              "        vertical-align: middle;\n",
              "    }\n",
              "\n",
              "    .dataframe tbody tr th {\n",
              "        vertical-align: top;\n",
              "    }\n",
              "\n",
              "    .dataframe thead th {\n",
              "        text-align: right;\n",
              "    }\n",
              "</style>\n",
              "<table border=\"1\" class=\"dataframe\">\n",
              "  <thead>\n",
              "    <tr style=\"text-align: right;\">\n",
              "      <th></th>\n",
              "      <th>Trade_message</th>\n",
              "      <th>SGW_Operation</th>\n",
              "      <th>CCP_Message1</th>\n",
              "      <th>CCP_Message2</th>\n",
              "    </tr>\n",
              "  </thead>\n",
              "  <tbody>\n",
              "    <tr>\n",
              "      <th>0</th>\n",
              "      <td>&lt;TrdCaptRpt RptID=\"136826\" TrdID=\"35740661331\"...</td>\n",
              "      <td>&lt;TrdCaptRpt RptID=\"35740661331\" TrdDt=\"2022-12...</td>\n",
              "      <td>&lt;TrdCaptRpt RptID=\"380198\" TrdID=\"35740661331\"...</td>\n",
              "      <td>&lt;TrdCaptRpt RptID=\"380199\" TrdID=\"18061000020\"...</td>\n",
              "    </tr>\n",
              "    <tr>\n",
              "      <th>1</th>\n",
              "      <td>&lt;TrdCaptRpt RptID=\"350087\" TrdID=\"24981651263\"...</td>\n",
              "      <td>&lt;TrdCaptRpt RptID=\"24981651263\" TrdDt=\"2022-12...</td>\n",
              "      <td>&lt;TrdCaptRpt RptID=\"380198\" TrdID=\"24981651263\"...</td>\n",
              "      <td>&lt;TrdCaptRpt RptID=\"380199\" TrdID=\"18061000020\"...</td>\n",
              "    </tr>\n",
              "    <tr>\n",
              "      <th>2</th>\n",
              "      <td>&lt;TrdCaptRpt RptID=\"311717\" TrdID=\"32785059736\"...</td>\n",
              "      <td>&lt;TrdCaptRpt RptID=\"32785059736\" TrdDt=\"2022-12...</td>\n",
              "      <td>&lt;TrdCaptRpt RptID=\"380198\" TrdID=\"32785059736\"...</td>\n",
              "      <td>&lt;TrdCaptRpt RptID=\"380199\" TrdID=\"18061000020\"...</td>\n",
              "    </tr>\n",
              "    <tr>\n",
              "      <th>3</th>\n",
              "      <td>&lt;TrdCaptRpt RptID=\"16312\" TrdID=\"20425984430\" ...</td>\n",
              "      <td>&lt;TrdCaptRpt RptID=\"20425984430\" TrdDt=\"2022-12...</td>\n",
              "      <td>&lt;TrdCaptRpt RptID=\"380198\" TrdID=\"20425984430\"...</td>\n",
              "      <td>&lt;TrdCaptRpt RptID=\"380199\" TrdID=\"18061000020\"...</td>\n",
              "    </tr>\n",
              "    <tr>\n",
              "      <th>4</th>\n",
              "      <td>&lt;TrdCaptRpt RptID=\"364833\" TrdID=\"36945109897\"...</td>\n",
              "      <td>&lt;TrdCaptRpt RptID=\"36945109897\" TrdDt=\"2023-01...</td>\n",
              "      <td>&lt;TrdCaptRpt RptID=\"380198\" TrdID=\"36945109897\"...</td>\n",
              "      <td>&lt;TrdCaptRpt RptID=\"380199\" TrdID=\"18061000020\"...</td>\n",
              "    </tr>\n",
              "  </tbody>\n",
              "</table>\n",
              "</div>\n",
              "    <div class=\"colab-df-buttons\">\n",
              "\n",
              "  <div class=\"colab-df-container\">\n",
              "    <button class=\"colab-df-convert\" onclick=\"convertToInteractive('df-78e504cf-3e2c-4749-a399-94a4c6b8b9ec')\"\n",
              "            title=\"Convert this dataframe to an interactive table.\"\n",
              "            style=\"display:none;\">\n",
              "\n",
              "  <svg xmlns=\"http://www.w3.org/2000/svg\" height=\"24px\" viewBox=\"0 -960 960 960\">\n",
              "    <path d=\"M120-120v-720h720v720H120Zm60-500h600v-160H180v160Zm220 220h160v-160H400v160Zm0 220h160v-160H400v160ZM180-400h160v-160H180v160Zm440 0h160v-160H620v160ZM180-180h160v-160H180v160Zm440 0h160v-160H620v160Z\"/>\n",
              "  </svg>\n",
              "    </button>\n",
              "\n",
              "  <style>\n",
              "    .colab-df-container {\n",
              "      display:flex;\n",
              "      gap: 12px;\n",
              "    }\n",
              "\n",
              "    .colab-df-convert {\n",
              "      background-color: #E8F0FE;\n",
              "      border: none;\n",
              "      border-radius: 50%;\n",
              "      cursor: pointer;\n",
              "      display: none;\n",
              "      fill: #1967D2;\n",
              "      height: 32px;\n",
              "      padding: 0 0 0 0;\n",
              "      width: 32px;\n",
              "    }\n",
              "\n",
              "    .colab-df-convert:hover {\n",
              "      background-color: #E2EBFA;\n",
              "      box-shadow: 0px 1px 2px rgba(60, 64, 67, 0.3), 0px 1px 3px 1px rgba(60, 64, 67, 0.15);\n",
              "      fill: #174EA6;\n",
              "    }\n",
              "\n",
              "    .colab-df-buttons div {\n",
              "      margin-bottom: 4px;\n",
              "    }\n",
              "\n",
              "    [theme=dark] .colab-df-convert {\n",
              "      background-color: #3B4455;\n",
              "      fill: #D2E3FC;\n",
              "    }\n",
              "\n",
              "    [theme=dark] .colab-df-convert:hover {\n",
              "      background-color: #434B5C;\n",
              "      box-shadow: 0px 1px 3px 1px rgba(0, 0, 0, 0.15);\n",
              "      filter: drop-shadow(0px 1px 2px rgba(0, 0, 0, 0.3));\n",
              "      fill: #FFFFFF;\n",
              "    }\n",
              "  </style>\n",
              "\n",
              "    <script>\n",
              "      const buttonEl =\n",
              "        document.querySelector('#df-78e504cf-3e2c-4749-a399-94a4c6b8b9ec button.colab-df-convert');\n",
              "      buttonEl.style.display =\n",
              "        google.colab.kernel.accessAllowed ? 'block' : 'none';\n",
              "\n",
              "      async function convertToInteractive(key) {\n",
              "        const element = document.querySelector('#df-78e504cf-3e2c-4749-a399-94a4c6b8b9ec');\n",
              "        const dataTable =\n",
              "          await google.colab.kernel.invokeFunction('convertToInteractive',\n",
              "                                                    [key], {});\n",
              "        if (!dataTable) return;\n",
              "\n",
              "        const docLinkHtml = 'Like what you see? Visit the ' +\n",
              "          '<a target=\"_blank\" href=https://colab.research.google.com/notebooks/data_table.ipynb>data table notebook</a>'\n",
              "          + ' to learn more about interactive tables.';\n",
              "        element.innerHTML = '';\n",
              "        dataTable['output_type'] = 'display_data';\n",
              "        await google.colab.output.renderOutput(dataTable, element);\n",
              "        const docLink = document.createElement('div');\n",
              "        docLink.innerHTML = docLinkHtml;\n",
              "        element.appendChild(docLink);\n",
              "      }\n",
              "    </script>\n",
              "  </div>\n",
              "\n",
              "\n",
              "<div id=\"df-612572e6-d912-4278-b105-a5b8d05a5073\">\n",
              "  <button class=\"colab-df-quickchart\" onclick=\"quickchart('df-612572e6-d912-4278-b105-a5b8d05a5073')\"\n",
              "            title=\"Suggest charts\"\n",
              "            style=\"display:none;\">\n",
              "\n",
              "<svg xmlns=\"http://www.w3.org/2000/svg\" height=\"24px\"viewBox=\"0 0 24 24\"\n",
              "     width=\"24px\">\n",
              "    <g>\n",
              "        <path d=\"M19 3H5c-1.1 0-2 .9-2 2v14c0 1.1.9 2 2 2h14c1.1 0 2-.9 2-2V5c0-1.1-.9-2-2-2zM9 17H7v-7h2v7zm4 0h-2V7h2v10zm4 0h-2v-4h2v4z\"/>\n",
              "    </g>\n",
              "</svg>\n",
              "  </button>\n",
              "\n",
              "<style>\n",
              "  .colab-df-quickchart {\n",
              "      --bg-color: #E8F0FE;\n",
              "      --fill-color: #1967D2;\n",
              "      --hover-bg-color: #E2EBFA;\n",
              "      --hover-fill-color: #174EA6;\n",
              "      --disabled-fill-color: #AAA;\n",
              "      --disabled-bg-color: #DDD;\n",
              "  }\n",
              "\n",
              "  [theme=dark] .colab-df-quickchart {\n",
              "      --bg-color: #3B4455;\n",
              "      --fill-color: #D2E3FC;\n",
              "      --hover-bg-color: #434B5C;\n",
              "      --hover-fill-color: #FFFFFF;\n",
              "      --disabled-bg-color: #3B4455;\n",
              "      --disabled-fill-color: #666;\n",
              "  }\n",
              "\n",
              "  .colab-df-quickchart {\n",
              "    background-color: var(--bg-color);\n",
              "    border: none;\n",
              "    border-radius: 50%;\n",
              "    cursor: pointer;\n",
              "    display: none;\n",
              "    fill: var(--fill-color);\n",
              "    height: 32px;\n",
              "    padding: 0;\n",
              "    width: 32px;\n",
              "  }\n",
              "\n",
              "  .colab-df-quickchart:hover {\n",
              "    background-color: var(--hover-bg-color);\n",
              "    box-shadow: 0 1px 2px rgba(60, 64, 67, 0.3), 0 1px 3px 1px rgba(60, 64, 67, 0.15);\n",
              "    fill: var(--button-hover-fill-color);\n",
              "  }\n",
              "\n",
              "  .colab-df-quickchart-complete:disabled,\n",
              "  .colab-df-quickchart-complete:disabled:hover {\n",
              "    background-color: var(--disabled-bg-color);\n",
              "    fill: var(--disabled-fill-color);\n",
              "    box-shadow: none;\n",
              "  }\n",
              "\n",
              "  .colab-df-spinner {\n",
              "    border: 2px solid var(--fill-color);\n",
              "    border-color: transparent;\n",
              "    border-bottom-color: var(--fill-color);\n",
              "    animation:\n",
              "      spin 1s steps(1) infinite;\n",
              "  }\n",
              "\n",
              "  @keyframes spin {\n",
              "    0% {\n",
              "      border-color: transparent;\n",
              "      border-bottom-color: var(--fill-color);\n",
              "      border-left-color: var(--fill-color);\n",
              "    }\n",
              "    20% {\n",
              "      border-color: transparent;\n",
              "      border-left-color: var(--fill-color);\n",
              "      border-top-color: var(--fill-color);\n",
              "    }\n",
              "    30% {\n",
              "      border-color: transparent;\n",
              "      border-left-color: var(--fill-color);\n",
              "      border-top-color: var(--fill-color);\n",
              "      border-right-color: var(--fill-color);\n",
              "    }\n",
              "    40% {\n",
              "      border-color: transparent;\n",
              "      border-right-color: var(--fill-color);\n",
              "      border-top-color: var(--fill-color);\n",
              "    }\n",
              "    60% {\n",
              "      border-color: transparent;\n",
              "      border-right-color: var(--fill-color);\n",
              "    }\n",
              "    80% {\n",
              "      border-color: transparent;\n",
              "      border-right-color: var(--fill-color);\n",
              "      border-bottom-color: var(--fill-color);\n",
              "    }\n",
              "    90% {\n",
              "      border-color: transparent;\n",
              "      border-bottom-color: var(--fill-color);\n",
              "    }\n",
              "  }\n",
              "</style>\n",
              "\n",
              "  <script>\n",
              "    async function quickchart(key) {\n",
              "      const quickchartButtonEl =\n",
              "        document.querySelector('#' + key + ' button');\n",
              "      quickchartButtonEl.disabled = true;  // To prevent multiple clicks.\n",
              "      quickchartButtonEl.classList.add('colab-df-spinner');\n",
              "      try {\n",
              "        const charts = await google.colab.kernel.invokeFunction(\n",
              "            'suggestCharts', [key], {});\n",
              "      } catch (error) {\n",
              "        console.error('Error during call to suggestCharts:', error);\n",
              "      }\n",
              "      quickchartButtonEl.classList.remove('colab-df-spinner');\n",
              "      quickchartButtonEl.classList.add('colab-df-quickchart-complete');\n",
              "    }\n",
              "    (() => {\n",
              "      let quickchartButtonEl =\n",
              "        document.querySelector('#df-612572e6-d912-4278-b105-a5b8d05a5073 button');\n",
              "      quickchartButtonEl.style.display =\n",
              "        google.colab.kernel.accessAllowed ? 'block' : 'none';\n",
              "    })();\n",
              "  </script>\n",
              "</div>\n",
              "\n",
              "    </div>\n",
              "  </div>\n"
            ],
            "application/vnd.google.colaboratory.intrinsic+json": {
              "type": "dataframe",
              "variable_name": "df",
              "summary": "{\n  \"name\": \"df\",\n  \"rows\": 1000,\n  \"fields\": [\n    {\n      \"column\": \"Trade_message\",\n      \"properties\": {\n        \"dtype\": \"string\",\n        \"num_unique_values\": 1000,\n        \"samples\": [\n          \"<TrdCaptRpt RptID=\\\"94015\\\" TrdID=\\\"39839858992\\\" TransTyp=\\\"0\\\" RptTyp=\\\"2\\\" TrdTyp=\\\"0\\\" MtchID=\\\"27649729368\\\" PxTyp=\\\"2\\\" LastQty=\\\"51\\\" LastPx=\\\"250.45\\\" TrdDt=\\\"2023-01-05\\\" BizDt=\\\"2023-02-05\\\" TxnTm=\\\"2023-03-20T10:18:15.100-5:00\\\"><Hdr SID=\\\"MGEX\\\" TID=\\\"HBPL\\\" PosDup=\\\"Y\\\" PosRsnd=\\\"Y\\\" Snt=\\\"2023-03-20T10:18:15.350-5:00\\\"></Hdr><Instrmt Sym=\\\"BUI\\\" ID=\\\"LM\\\" Src=\\\"H\\\" CFI=\\\"APYBKL\\\" MMY=\\\"202305\\\" MatDt=\\\"2023-05-15\\\" Mult=\\\"1000\\\" Exch=\\\"HDPL\\\"></Instrmt><RptSide Side=\\\"2\\\" Ccy=\\\"USD\\\" InptSrc=\\\"SY\\\" InptDev=\\\"PORTAL\\\" CustCpcty=\\\"3\\\" PosEfct=\\\"O\\\" ClOrdID=\\\"146ZBT\\\" MLegRptTyp=\\\"3\\\" AllocInd=\\\"0\\\"><Pty ID=\\\"MGEX\\\" R=\\\"21\\\"></Pty><Pty ID=\\\"210\\\" R=\\\"1\\\"></Pty><Pty ID=\\\"210\\\" R=\\\"4\\\"></Pty><Pty ID=\\\"Mohamed-300\\\" R=\\\"24\\\"><Sub ID=\\\"1\\\" Typ=\\\"26\\\"></Sub></Pty><Pty ID=\\\"400\\\" R=\\\"12\\\"></Pty><TrdRegTS TS=\\\"2023-03-20T10:18:15.100-5:00\\\" Typ=\\\"1\\\"></TrdRegTS></RptSide></TrdCaptRpt>\",\n          \"<TrdCaptRpt RptID=\\\"127213\\\" TrdID=\\\"22301545467\\\" TransTyp=\\\"0\\\" RptTyp=\\\"2\\\" TrdTyp=\\\"29\\\" MtchID=\\\"29584296168\\\" PxTyp=\\\"2\\\" LastQty=\\\"76\\\" LastPx=\\\"3590.59\\\" TrdDt=\\\"2022-12-17\\\" BizDt=\\\"2023-01-06\\\" TxnTm=\\\"2023-03-20T16:40:55.100-6:00\\\"><Hdr SID=\\\"MGEX\\\" TID=\\\"HBPL\\\" PosDup=\\\"Y\\\" PosRsnd=\\\"N\\\" Snt=\\\"2023-03-20T16:40:55.350-6:00\\\"></Hdr><Instrmt Sym=\\\"TMP\\\" ID=\\\"B\\\" Src=\\\"H\\\" CFI=\\\"FCCPXX\\\" MMY=\\\"202310\\\" MatDt=\\\"2023-10-23\\\" Mult=\\\"0.2\\\" Exch=\\\"BTNL\\\"></Instrmt><RptSide Side=\\\"2\\\" Ccy=\\\"USD\\\" InptSrc=\\\"MA\\\" InptDev=\\\"API\\\" CustCpcty=\\\"3\\\" PosEfct=\\\"C\\\" ClOrdID=\\\"245BTN\\\" MLegRptTyp=\\\"3\\\" AllocInd=\\\"0\\\"><Pty ID=\\\"MGEX\\\" R=\\\"21\\\"></Pty><Pty ID=\\\"210\\\" R=\\\"1\\\"></Pty><Pty ID=\\\"210\\\" R=\\\"4\\\"></Pty><Pty ID=\\\"Mohamed-300\\\" R=\\\"24\\\"><Sub ID=\\\"2\\\" Typ=\\\"26\\\"></Sub></Pty><Pty ID=\\\"A123\\\" R=\\\"12\\\"></Pty><TrdRegTS TS=\\\"2023-03-20T16:40:55.100-6:00\\\" Typ=\\\"1\\\"></TrdRegTS></RptSide></TrdCaptRpt>\",\n          \"<TrdCaptRpt RptID=\\\"36622\\\" TrdID=\\\"29347201620\\\" TransTyp=\\\"0\\\" RptTyp=\\\"2\\\" TrdTyp=\\\"29\\\" MtchID=\\\"26206748973\\\" PxTyp=\\\"10\\\" LastQty=\\\"52\\\" LastPx=\\\"3590.59\\\" TrdDt=\\\"2022-12-17\\\" BizDt=\\\"2023-01-06\\\" TxnTm=\\\"2023-03-30T05:17:30.100-7:00\\\"><Hdr SID=\\\"MGEX\\\" TID=\\\"ABCD\\\" PosDup=\\\"N\\\" PosRsnd=\\\"N\\\" Snt=\\\"2023-03-30T05:17:30.768-7:00\\\"></Hdr><Instrmt Sym=\\\"TMP\\\" ID=\\\"AS\\\" Src=\\\"H\\\" CFI=\\\"APYBKL\\\" MMY=\\\"202310\\\" MatDt=\\\"2023-10-6\\\" Mult=\\\"0.2\\\" Exch=\\\"BTNL\\\"></Instrmt><RptSide Side=\\\"1\\\" Ccy=\\\"USD\\\" InptSrc=\\\"EL\\\" InptDev=\\\"EXCHANGE\\\" CustCpcty=\\\"4\\\" PosEfct=\\\"C\\\" ClOrdID=\\\"145\\\" MLegRptTyp=\\\"3\\\" AllocInd=\\\"0\\\"><Pty ID=\\\"MGEX\\\" R=\\\"21\\\"></Pty><Pty ID=\\\"210\\\" R=\\\"1\\\"></Pty><Pty ID=\\\"210\\\" R=\\\"4\\\"></Pty><Pty ID=\\\"acc-AT\\\" R=\\\"24\\\"><Sub ID=\\\"2\\\" Typ=\\\"26\\\"></Sub></Pty><Pty ID=\\\"B115\\\" R=\\\"12\\\"></Pty><TrdRegTS TS=\\\"2023-03-30T05:17:30.100-7:00\\\" Typ=\\\"1\\\"></TrdRegTS></RptSide></TrdCaptRpt>\"\n        ],\n        \"semantic_type\": \"\",\n        \"description\": \"\"\n      }\n    },\n    {\n      \"column\": \"SGW_Operation\",\n      \"properties\": {\n        \"dtype\": \"string\",\n        \"num_unique_values\": 1000,\n        \"samples\": [\n          \"<TrdCaptRpt RptID=\\\"39839858992\\\" TrdDt=\\\"2023-01-05\\\" BizDt=\\\"2023-02-05\\\" TxnTm=\\\"2023-03-20T10:18:15.100-5:00\\\" TrdID=\\\"39839858992\\\" TransTyp=\\\"2\\\" RptTyp=\\\"0\\\" LastQty=\\\"51.0\\\" LastPx=\\\"250.45\\\"><Hdr Snt=\\\"2023-03-20T19:33:05.333+01:00\\\" TID=\\\"MGEX\\\" SID=\\\"HBPL\\\"/><Instrmt Exch=\\\"HDPL\\\" ID=\\\"LM\\\" MMY=\\\"202305\\\" CFI=\\\"APYBKL\\\"/><RptSide Side=\\\"2\\\" AllocInd=\\\"2\\\" CustCpcty=\\\"1\\\"><Pty ID=\\\"210\\\" R=\\\"1\\\"/><Alloc Qty=\\\"31.0\\\" CustCpcty=\\\"1\\\" IndAllocID=\\\"1368901292857489911@HDPL>39839858992FS@20230105||5d135\\\"><Pty ID=\\\"Hassen\\\" R=\\\"24\\\"><Sub ID=\\\"1\\\" Typ=\\\"26\\\"/></Pty></Alloc><Alloc Qty=\\\"20.0\\\" CustCpcty=\\\"3\\\" IndAllocID=\\\"1368901292857489911@HDPL>39839858992FS@20230105||c2537\\\"><Pty ID=\\\"najet\\\" R=\\\"24\\\"><Sub ID=\\\"1\\\" Typ=\\\"26\\\"/></Pty></Alloc></RptSide></TrdCaptRpt>\",\n          \"<TrdCaptRpt RptID=\\\"22301545467\\\" TrdDt=\\\"2022-12-17\\\" BizDt=\\\"2023-01-06\\\" TxnTm=\\\"2023-03-20T16:40:55.100-6:00\\\" TrdID=\\\"22301545467\\\" TransTyp=\\\"2\\\" RptTyp=\\\"0\\\" LastQty=\\\"76.0\\\" LastPx=\\\"3590.59\\\"><Hdr Snt=\\\"2023-03-20T17:30:55.600+01:00\\\" TID=\\\"MGEX\\\" SID=\\\"HBPL\\\"/><Instrmt Exch=\\\"BTNL\\\" ID=\\\"B\\\" MMY=\\\"202310\\\" CFI=\\\"FCCPXX\\\"/><RptSide Side=\\\"2\\\" AllocInd=\\\"2\\\" CustCpcty=\\\"2\\\"><Pty ID=\\\"210\\\" R=\\\"1\\\"/><Alloc Qty=\\\"30.0\\\" CustCpcty=\\\"2\\\" IndAllocID=\\\"1377074409007447049@BTNL>22301545467FS@20221217||ckpla\\\"><Pty ID=\\\"arij\\\" R=\\\"24\\\"><Sub ID=\\\"2\\\" Typ=\\\"26\\\"/></Pty></Alloc><Alloc Qty=\\\"46.0\\\" CustCpcty=\\\"4\\\" IndAllocID=\\\"1377074409007447049@BTNL>22301545467FS@20221217||c2537\\\"><Pty ID=\\\"FIRMACT2\\\" R=\\\"24\\\"><Sub ID=\\\"2\\\" Typ=\\\"26\\\"/></Pty></Alloc></RptSide></TrdCaptRpt>\",\n          \"<TrdCaptRpt RptID=\\\"29347201620\\\" TrdDt=\\\"2022-12-17\\\" BizDt=\\\"2023-01-06\\\" TxnTm=\\\"2023-03-30T05:17:30.100-7:00\\\" TrdID=\\\"29347201620\\\" TransTyp=\\\"2\\\" RptTyp=\\\"0\\\" LastQty=\\\"52.0\\\" LastPx=\\\"3590.59\\\"><Hdr Snt=\\\"2023-03-30T19:33:05.333+01:00\\\" TID=\\\"MGEX\\\" SID=\\\"ABCD\\\"/><Instrmt Exch=\\\"BTNL\\\" ID=\\\"AS\\\" MMY=\\\"202310\\\" CFI=\\\"APYBKL\\\"/><RptSide Side=\\\"1\\\" AllocInd=\\\"2\\\" CustCpcty=\\\"1\\\"><Pty ID=\\\"210\\\" R=\\\"1\\\"/><Alloc Qty=\\\"47.0\\\" CustCpcty=\\\"1\\\" IndAllocID=\\\"1972895200133532971@BTNL>29347201620FS@20221217||ckpla\\\"><Pty ID=\\\"Hassen\\\" R=\\\"24\\\"><Sub ID=\\\"2\\\" Typ=\\\"26\\\"/></Pty></Alloc><Alloc Qty=\\\"5.0\\\" CustCpcty=\\\"2\\\" IndAllocID=\\\"1972895200133532971@BTNL>29347201620FS@20221217||el8ab\\\"><Pty ID=\\\"najet\\\" R=\\\"24\\\"><Sub ID=\\\"2\\\" Typ=\\\"26\\\"/></Pty></Alloc></RptSide></TrdCaptRpt>\"\n        ],\n        \"semantic_type\": \"\",\n        \"description\": \"\"\n      }\n    },\n    {\n      \"column\": \"CCP_Message1\",\n      \"properties\": {\n        \"dtype\": \"string\",\n        \"num_unique_values\": 1000,\n        \"samples\": [\n          \"<TrdCaptRpt RptID=\\\"380198\\\" TrdID=\\\"39839858992\\\" TransTyp=\\\"2\\\" RptTyp=\\\"2\\\" TrdTyp=\\\"0\\\" MtchID=\\\"27649729368\\\" PxTyp=\\\"2\\\" LastQty=\\\"31.0\\\" LastPx=\\\"250.45\\\" TrdDt=\\\"2023-01-05\\\" BizDt=\\\"2023-02-05\\\" TxnTm=\\\"2023-03-20T00:12:55.138-5:00\\\"><Hdr SID=\\\"MGEX\\\" TID=\\\"HBPL\\\" PosDup=\\\"Y\\\" PosRsnd=\\\"Y\\\" Snt=\\\"2023-03-20T00:12:55.160-5:00\\\"></Hdr><Instrmt Sym=\\\"BUI\\\" ID=\\\"LM\\\" Src=\\\"H\\\" CFI=\\\"APYBKL\\\" MMY=\\\"202305\\\" MatDt=\\\"2023-05-15\\\" Mult=\\\"1000\\\" Exch=\\\"HDPL\\\"></Instrmt><RptSide Side=\\\"2\\\" Ccy=\\\"USD\\\" InptSrc=\\\"SY\\\" InptDev=\\\"API\\\" CustCpcty=\\\"1\\\" PosEfct=\\\"O\\\" ClOrdID=\\\"146ZBT\\\" MLegRptTyp=\\\"3\\\" AllocInd=\\\"0\\\"><Pty ID=\\\"MGEX\\\" R=\\\"21\\\"></Pty><Pty ID=\\\"210\\\" R=\\\"1\\\"></Pty><Pty ID=\\\"210\\\" R=\\\"4\\\"></Pty><Pty ID=\\\"Hassen\\\" R=\\\"24\\\"><Sub ID=\\\"1\\\" Typ=\\\"26\\\"></Sub></Pty><Pty ID=\\\"400\\\" R=\\\"12\\\"></Pty><Alloc IndAllocID=\\\"1368901292857489911@HDPL&gt;39839858992FS@20230105||5d135\\\"></Alloc><TrdRegTS TS=\\\"2023-03-20T10:18:15.100-5:00\\\" Typ=\\\"1\\\"></TrdRegTS></RptSide></TrdCaptRpt>\",\n          \"<TrdCaptRpt RptID=\\\"380198\\\" TrdID=\\\"22301545467\\\" TransTyp=\\\"2\\\" RptTyp=\\\"2\\\" TrdTyp=\\\"29\\\" MtchID=\\\"29584296168\\\" PxTyp=\\\"2\\\" LastQty=\\\"30.0\\\" LastPx=\\\"3590.59\\\" TrdDt=\\\"2022-12-17\\\" BizDt=\\\"2023-01-06\\\" TxnTm=\\\"2023-03-20T00:12:55.138-6:00\\\"><Hdr SID=\\\"MGEX\\\" TID=\\\"HBPL\\\" PosDup=\\\"Y\\\" PosRsnd=\\\"N\\\" Snt=\\\"2023-03-20T00:12:55.160-6:00\\\"></Hdr><Instrmt Sym=\\\"TMP\\\" ID=\\\"B\\\" Src=\\\"H\\\" CFI=\\\"FCCPXX\\\" MMY=\\\"202310\\\" MatDt=\\\"2023-10-23\\\" Mult=\\\"0.2\\\" Exch=\\\"BTNL\\\"></Instrmt><RptSide Side=\\\"2\\\" Ccy=\\\"USD\\\" InptSrc=\\\"MA\\\" InptDev=\\\"API\\\" CustCpcty=\\\"2\\\" PosEfct=\\\"C\\\" ClOrdID=\\\"245BTN\\\" MLegRptTyp=\\\"3\\\" AllocInd=\\\"0\\\"><Pty ID=\\\"MGEX\\\" R=\\\"21\\\"></Pty><Pty ID=\\\"210\\\" R=\\\"1\\\"></Pty><Pty ID=\\\"210\\\" R=\\\"4\\\"></Pty><Pty ID=\\\"arij\\\" R=\\\"24\\\"><Sub ID=\\\"2\\\" Typ=\\\"26\\\"></Sub></Pty><Pty ID=\\\"A123\\\" R=\\\"12\\\"></Pty><Alloc IndAllocID=\\\"1377074409007447049@BTNL&gt;22301545467FS@20221217||ckpla\\\"></Alloc><TrdRegTS TS=\\\"2023-03-20T16:40:55.100-6:00\\\" Typ=\\\"1\\\"></TrdRegTS></RptSide></TrdCaptRpt>\",\n          \"<TrdCaptRpt RptID=\\\"380198\\\" TrdID=\\\"29347201620\\\" TransTyp=\\\"2\\\" RptTyp=\\\"2\\\" TrdTyp=\\\"29\\\" MtchID=\\\"26206748973\\\" PxTyp=\\\"10\\\" LastQty=\\\"47.0\\\" LastPx=\\\"3590.59\\\" TrdDt=\\\"2022-12-17\\\" BizDt=\\\"2023-01-06\\\" TxnTm=\\\"2023-03-30T00:12:55.138-7:00\\\"><Hdr SID=\\\"MGEX\\\" TID=\\\"ABCD\\\" PosDup=\\\"N\\\" PosRsnd=\\\"N\\\" Snt=\\\"2023-03-30T00:12:55.160-7:00\\\"></Hdr><Instrmt Sym=\\\"TMP\\\" ID=\\\"AS\\\" Src=\\\"H\\\" CFI=\\\"APYBKL\\\" MMY=\\\"202310\\\" MatDt=\\\"2023-10-6\\\" Mult=\\\"0.2\\\" Exch=\\\"BTNL\\\"></Instrmt><RptSide Side=\\\"1\\\" Ccy=\\\"USD\\\" InptSrc=\\\"EL\\\" InptDev=\\\"API\\\" CustCpcty=\\\"1\\\" PosEfct=\\\"C\\\" ClOrdID=\\\"145\\\" MLegRptTyp=\\\"3\\\" AllocInd=\\\"0\\\"><Pty ID=\\\"MGEX\\\" R=\\\"21\\\"></Pty><Pty ID=\\\"210\\\" R=\\\"1\\\"></Pty><Pty ID=\\\"210\\\" R=\\\"4\\\"></Pty><Pty ID=\\\"Hassen\\\" R=\\\"24\\\"><Sub ID=\\\"2\\\" Typ=\\\"26\\\"></Sub></Pty><Pty ID=\\\"B115\\\" R=\\\"12\\\"></Pty><Alloc IndAllocID=\\\"1972895200133532971@BTNL&gt;29347201620FS@20221217||ckpla\\\"></Alloc><TrdRegTS TS=\\\"2023-03-30T05:17:30.100-7:00\\\" Typ=\\\"1\\\"></TrdRegTS></RptSide></TrdCaptRpt>\"\n        ],\n        \"semantic_type\": \"\",\n        \"description\": \"\"\n      }\n    },\n    {\n      \"column\": \"CCP_Message2\",\n      \"properties\": {\n        \"dtype\": \"string\",\n        \"num_unique_values\": 1000,\n        \"samples\": [\n          \"<TrdCaptRpt RptID=\\\"380199\\\" TrdID=\\\"18061000020\\\" TransTyp=\\\"0\\\" RptTyp=\\\"2\\\" TrdTyp=\\\"0\\\" OrigTrdID=\\\"39839858992\\\" MtchID=\\\"27649729368\\\" PxTyp=\\\"2\\\" LastQty=\\\"20.0\\\" LastPx=\\\"250.45\\\" TrdDt=\\\"2023-01-05\\\" BizDt=\\\"2023-02-05\\\" TxnTm=\\\"2023-03-20T00:12:55.138-5:00\\\"><Hdr SID=\\\"MGEX\\\" TID=\\\"HBPL\\\" PosDup=\\\"Y\\\" PosRsnd=\\\"Y\\\" Snt=\\\"2023-03-20T00:12:55.160-5:00\\\"></Hdr><Instrmt Sym=\\\"BUI\\\" ID=\\\"LM\\\" Src=\\\"H\\\" CFI=\\\"APYBKL\\\" MMY=\\\"202305\\\" MatDt=\\\"2023-05-15\\\" Mult=\\\"1000\\\" Exch=\\\"HDPL\\\"></Instrmt><RptSide Side=\\\"2\\\" Ccy=\\\"USD\\\" InptSrc=\\\"SY\\\" InptDev=\\\"API\\\" CustCpcty=\\\"3\\\" PosEfct=\\\"O\\\" ClOrdID=\\\"146ZBT\\\" MLegRptTyp=\\\"3\\\" AllocInd=\\\"0\\\"><Pty ID=\\\"MGEX\\\" R=\\\"21\\\"></Pty><Pty ID=\\\"210\\\" R=\\\"1\\\"></Pty><Pty ID=\\\"210\\\" R=\\\"4\\\"></Pty><Pty ID=\\\"najet\\\" R=\\\"24\\\"><Sub ID=\\\"1\\\" Typ=\\\"26\\\"></Sub></Pty><Pty ID=\\\"400\\\" R=\\\"12\\\"></Pty><Alloc IndAllocID=\\\"1368901292857489911@HDPL&gt;39839858992FS@20230105||c2537\\\"></Alloc><TrdRegTS TS=\\\"2023-03-20T10:18:15.100-5:00\\\" Typ=\\\"1\\\"></TrdRegTS></RptSide></TrdCaptRpt>\",\n          \"<TrdCaptRpt RptID=\\\"380199\\\" TrdID=\\\"18061000020\\\" TransTyp=\\\"0\\\" RptTyp=\\\"2\\\" TrdTyp=\\\"29\\\" OrigTrdID=\\\"22301545467\\\" MtchID=\\\"29584296168\\\" PxTyp=\\\"2\\\" LastQty=\\\"46.0\\\" LastPx=\\\"3590.59\\\" TrdDt=\\\"2022-12-17\\\" BizDt=\\\"2023-01-06\\\" TxnTm=\\\"2023-03-20T00:12:55.138-6:00\\\"><Hdr SID=\\\"MGEX\\\" TID=\\\"HBPL\\\" PosDup=\\\"Y\\\" PosRsnd=\\\"N\\\" Snt=\\\"2023-03-20T00:12:55.160-6:00\\\"></Hdr><Instrmt Sym=\\\"TMP\\\" ID=\\\"B\\\" Src=\\\"H\\\" CFI=\\\"FCCPXX\\\" MMY=\\\"202310\\\" MatDt=\\\"2023-10-23\\\" Mult=\\\"0.2\\\" Exch=\\\"BTNL\\\"></Instrmt><RptSide Side=\\\"2\\\" Ccy=\\\"USD\\\" InptSrc=\\\"MA\\\" InptDev=\\\"API\\\" CustCpcty=\\\"4\\\" PosEfct=\\\"C\\\" ClOrdID=\\\"245BTN\\\" MLegRptTyp=\\\"3\\\" AllocInd=\\\"0\\\"><Pty ID=\\\"MGEX\\\" R=\\\"21\\\"></Pty><Pty ID=\\\"210\\\" R=\\\"1\\\"></Pty><Pty ID=\\\"210\\\" R=\\\"4\\\"></Pty><Pty ID=\\\"FIRMACT2\\\" R=\\\"24\\\"><Sub ID=\\\"2\\\" Typ=\\\"26\\\"></Sub></Pty><Pty ID=\\\"A123\\\" R=\\\"12\\\"></Pty><Alloc IndAllocID=\\\"1377074409007447049@BTNL&gt;22301545467FS@20221217||c2537\\\"></Alloc><TrdRegTS TS=\\\"2023-03-20T16:40:55.100-6:00\\\" Typ=\\\"1\\\"></TrdRegTS></RptSide></TrdCaptRpt>\",\n          \"<TrdCaptRpt RptID=\\\"380199\\\" TrdID=\\\"18061000020\\\" TransTyp=\\\"0\\\" RptTyp=\\\"2\\\" TrdTyp=\\\"29\\\" OrigTrdID=\\\"29347201620\\\" MtchID=\\\"26206748973\\\" PxTyp=\\\"10\\\" LastQty=\\\"5.0\\\" LastPx=\\\"3590.59\\\" TrdDt=\\\"2022-12-17\\\" BizDt=\\\"2023-01-06\\\" TxnTm=\\\"2023-03-30T00:12:55.138-7:00\\\"><Hdr SID=\\\"MGEX\\\" TID=\\\"ABCD\\\" PosDup=\\\"N\\\" PosRsnd=\\\"N\\\" Snt=\\\"2023-03-30T00:12:55.160-7:00\\\"></Hdr><Instrmt Sym=\\\"TMP\\\" ID=\\\"AS\\\" Src=\\\"H\\\" CFI=\\\"APYBKL\\\" MMY=\\\"202310\\\" MatDt=\\\"2023-10-6\\\" Mult=\\\"0.2\\\" Exch=\\\"BTNL\\\"></Instrmt><RptSide Side=\\\"1\\\" Ccy=\\\"USD\\\" InptSrc=\\\"EL\\\" InptDev=\\\"API\\\" CustCpcty=\\\"2\\\" PosEfct=\\\"C\\\" ClOrdID=\\\"145\\\" MLegRptTyp=\\\"3\\\" AllocInd=\\\"0\\\"><Pty ID=\\\"MGEX\\\" R=\\\"21\\\"></Pty><Pty ID=\\\"210\\\" R=\\\"1\\\"></Pty><Pty ID=\\\"210\\\" R=\\\"4\\\"></Pty><Pty ID=\\\"najet\\\" R=\\\"24\\\"><Sub ID=\\\"2\\\" Typ=\\\"26\\\"></Sub></Pty><Pty ID=\\\"B115\\\" R=\\\"12\\\"></Pty><Alloc IndAllocID=\\\"1972895200133532971@BTNL&gt;29347201620FS@20221217||el8ab\\\"></Alloc><TrdRegTS TS=\\\"2023-03-30T05:17:30.100-7:00\\\" Typ=\\\"1\\\"></TrdRegTS></RptSide></TrdCaptRpt>\"\n        ],\n        \"semantic_type\": \"\",\n        \"description\": \"\"\n      }\n    }\n  ]\n}"
            }
          },
          "metadata": {},
          "execution_count": 64
        }
      ]
    },
    {
      "cell_type": "markdown",
      "source": [
        "**Creating two columns SGW_Operation1\tand SGW_Operation2 containing the two allocations of the SGW_Operation**"
      ],
      "metadata": {
        "id": "GdcupdWGNRXJ"
      }
    },
    {
      "cell_type": "code",
      "source": [
        "import xml.etree.ElementTree as ET"
      ],
      "metadata": {
        "id": "0NVyhk_GGCNo"
      },
      "execution_count": null,
      "outputs": []
    },
    {
      "cell_type": "code",
      "source": [
        "def extract_first_alloc(xml_string):\n",
        "    root = ET.fromstring(xml_string)\n",
        "    first_alloc = root.find(\".//Alloc\")\n",
        "    return ET.tostring(first_alloc, encoding='utf-8', method='xml').decode()"
      ],
      "metadata": {
        "id": "xy89buSCHV6K"
      },
      "execution_count": null,
      "outputs": []
    },
    {
      "cell_type": "code",
      "source": [
        "def extract_second_alloc(xml_string):\n",
        "    root = ET.fromstring(xml_string)\n",
        "    all_allocs = root.findall(\".//Alloc\")\n",
        "    second_alloc = all_allocs[1]\n",
        "    return ET.tostring(second_alloc, encoding='utf-8', method='xml').decode()"
      ],
      "metadata": {
        "id": "zvdE0ugPHimK"
      },
      "execution_count": null,
      "outputs": []
    },
    {
      "cell_type": "code",
      "source": [
        "extract_first_alloc(df.iloc[0]['SGW_Operation'])"
      ],
      "metadata": {
        "colab": {
          "base_uri": "https://localhost:8080/",
          "height": 36
        },
        "id": "hBE9X6ULH8BQ",
        "outputId": "73f8948a-aae7-41ff-d4b5-4616b79d0301"
      },
      "execution_count": null,
      "outputs": [
        {
          "output_type": "execute_result",
          "data": {
            "text/plain": [
              "'<Alloc Qty=\"25.0\" CustCpcty=\"2\" IndAllocID=\"1938463012888430837@BTNL&gt;35740661331FS@20221217||5d135\"><Pty ID=\"Ahlem\" R=\"24\"><Sub ID=\"2\" Typ=\"26\" /></Pty></Alloc>'"
            ],
            "application/vnd.google.colaboratory.intrinsic+json": {
              "type": "string"
            }
          },
          "metadata": {},
          "execution_count": 68
        }
      ]
    },
    {
      "cell_type": "code",
      "source": [
        "extract_second_alloc(df.iloc[0]['SGW_Operation'])"
      ],
      "metadata": {
        "colab": {
          "base_uri": "https://localhost:8080/",
          "height": 36
        },
        "id": "u2nZOU3_IIWa",
        "outputId": "29fee01b-efcd-4c8d-9c5d-c90a77a66f71"
      },
      "execution_count": null,
      "outputs": [
        {
          "output_type": "execute_result",
          "data": {
            "text/plain": [
              "'<Alloc Qty=\"15.0\" CustCpcty=\"2\" IndAllocID=\"1938463012888430837@BTNL&gt;35740661331FS@20221217||c2537\"><Pty ID=\"5cot9\" R=\"24\"><Sub ID=\"2\" Typ=\"26\" /></Pty></Alloc>'"
            ],
            "application/vnd.google.colaboratory.intrinsic+json": {
              "type": "string"
            }
          },
          "metadata": {},
          "execution_count": 69
        }
      ]
    },
    {
      "cell_type": "code",
      "source": [
        "df0 = df.copy()"
      ],
      "metadata": {
        "id": "sGV6c-UFIRtR"
      },
      "execution_count": null,
      "outputs": []
    },
    {
      "cell_type": "code",
      "source": [
        "df0['SGW_Operation1'] = df0['SGW_Operation'].apply(extract_first_alloc)"
      ],
      "metadata": {
        "id": "jJuNs7MbIcnR"
      },
      "execution_count": null,
      "outputs": []
    },
    {
      "cell_type": "code",
      "source": [
        "df0['SGW_Operation2'] = df0['SGW_Operation'].apply(extract_second_alloc)"
      ],
      "metadata": {
        "id": "8GCceaJrItwz"
      },
      "execution_count": null,
      "outputs": []
    },
    {
      "cell_type": "code",
      "source": [
        "df0.drop('SGW_Operation', axis=1, inplace=True)"
      ],
      "metadata": {
        "id": "FVEKcHi_IzfO"
      },
      "execution_count": null,
      "outputs": []
    },
    {
      "cell_type": "code",
      "source": [
        "df0.head()"
      ],
      "metadata": {
        "colab": {
          "base_uri": "https://localhost:8080/",
          "height": 293
        },
        "id": "rUqRAfolI9E9",
        "outputId": "265497e2-87b4-4e9b-a980-fc88181372af"
      },
      "execution_count": null,
      "outputs": [
        {
          "output_type": "execute_result",
          "data": {
            "text/plain": [
              "                                       Trade_message  \\\n",
              "0  <TrdCaptRpt RptID=\"136826\" TrdID=\"35740661331\"...   \n",
              "1  <TrdCaptRpt RptID=\"350087\" TrdID=\"24981651263\"...   \n",
              "2  <TrdCaptRpt RptID=\"311717\" TrdID=\"32785059736\"...   \n",
              "3  <TrdCaptRpt RptID=\"16312\" TrdID=\"20425984430\" ...   \n",
              "4  <TrdCaptRpt RptID=\"364833\" TrdID=\"36945109897\"...   \n",
              "\n",
              "                                        CCP_Message1  \\\n",
              "0  <TrdCaptRpt RptID=\"380198\" TrdID=\"35740661331\"...   \n",
              "1  <TrdCaptRpt RptID=\"380198\" TrdID=\"24981651263\"...   \n",
              "2  <TrdCaptRpt RptID=\"380198\" TrdID=\"32785059736\"...   \n",
              "3  <TrdCaptRpt RptID=\"380198\" TrdID=\"20425984430\"...   \n",
              "4  <TrdCaptRpt RptID=\"380198\" TrdID=\"36945109897\"...   \n",
              "\n",
              "                                        CCP_Message2  \\\n",
              "0  <TrdCaptRpt RptID=\"380199\" TrdID=\"18061000020\"...   \n",
              "1  <TrdCaptRpt RptID=\"380199\" TrdID=\"18061000020\"...   \n",
              "2  <TrdCaptRpt RptID=\"380199\" TrdID=\"18061000020\"...   \n",
              "3  <TrdCaptRpt RptID=\"380199\" TrdID=\"18061000020\"...   \n",
              "4  <TrdCaptRpt RptID=\"380199\" TrdID=\"18061000020\"...   \n",
              "\n",
              "                                      SGW_Operation1  \\\n",
              "0  <Alloc Qty=\"25.0\" CustCpcty=\"2\" IndAllocID=\"19...   \n",
              "1  <Alloc Qty=\"22.0\" CustCpcty=\"1\" IndAllocID=\"13...   \n",
              "2  <Alloc Qty=\"33.0\" CustCpcty=\"4\" IndAllocID=\"14...   \n",
              "3  <Alloc Qty=\"17.0\" CustCpcty=\"4\" IndAllocID=\"11...   \n",
              "4  <Alloc Qty=\"10.0\" CustCpcty=\"1\" IndAllocID=\"16...   \n",
              "\n",
              "                                      SGW_Operation2  \n",
              "0  <Alloc Qty=\"15.0\" CustCpcty=\"2\" IndAllocID=\"19...  \n",
              "1  <Alloc Qty=\"10.0\" CustCpcty=\"1\" IndAllocID=\"13...  \n",
              "2  <Alloc Qty=\"44.0\" CustCpcty=\"1\" IndAllocID=\"14...  \n",
              "3  <Alloc Qty=\"25.0\" CustCpcty=\"3\" IndAllocID=\"11...  \n",
              "4  <Alloc Qty=\"27.0\" CustCpcty=\"2\" IndAllocID=\"16...  "
            ],
            "text/html": [
              "\n",
              "  <div id=\"df-9eaf0551-bccb-4a6f-ace7-8c517a395d40\" class=\"colab-df-container\">\n",
              "    <div>\n",
              "<style scoped>\n",
              "    .dataframe tbody tr th:only-of-type {\n",
              "        vertical-align: middle;\n",
              "    }\n",
              "\n",
              "    .dataframe tbody tr th {\n",
              "        vertical-align: top;\n",
              "    }\n",
              "\n",
              "    .dataframe thead th {\n",
              "        text-align: right;\n",
              "    }\n",
              "</style>\n",
              "<table border=\"1\" class=\"dataframe\">\n",
              "  <thead>\n",
              "    <tr style=\"text-align: right;\">\n",
              "      <th></th>\n",
              "      <th>Trade_message</th>\n",
              "      <th>CCP_Message1</th>\n",
              "      <th>CCP_Message2</th>\n",
              "      <th>SGW_Operation1</th>\n",
              "      <th>SGW_Operation2</th>\n",
              "    </tr>\n",
              "  </thead>\n",
              "  <tbody>\n",
              "    <tr>\n",
              "      <th>0</th>\n",
              "      <td>&lt;TrdCaptRpt RptID=\"136826\" TrdID=\"35740661331\"...</td>\n",
              "      <td>&lt;TrdCaptRpt RptID=\"380198\" TrdID=\"35740661331\"...</td>\n",
              "      <td>&lt;TrdCaptRpt RptID=\"380199\" TrdID=\"18061000020\"...</td>\n",
              "      <td>&lt;Alloc Qty=\"25.0\" CustCpcty=\"2\" IndAllocID=\"19...</td>\n",
              "      <td>&lt;Alloc Qty=\"15.0\" CustCpcty=\"2\" IndAllocID=\"19...</td>\n",
              "    </tr>\n",
              "    <tr>\n",
              "      <th>1</th>\n",
              "      <td>&lt;TrdCaptRpt RptID=\"350087\" TrdID=\"24981651263\"...</td>\n",
              "      <td>&lt;TrdCaptRpt RptID=\"380198\" TrdID=\"24981651263\"...</td>\n",
              "      <td>&lt;TrdCaptRpt RptID=\"380199\" TrdID=\"18061000020\"...</td>\n",
              "      <td>&lt;Alloc Qty=\"22.0\" CustCpcty=\"1\" IndAllocID=\"13...</td>\n",
              "      <td>&lt;Alloc Qty=\"10.0\" CustCpcty=\"1\" IndAllocID=\"13...</td>\n",
              "    </tr>\n",
              "    <tr>\n",
              "      <th>2</th>\n",
              "      <td>&lt;TrdCaptRpt RptID=\"311717\" TrdID=\"32785059736\"...</td>\n",
              "      <td>&lt;TrdCaptRpt RptID=\"380198\" TrdID=\"32785059736\"...</td>\n",
              "      <td>&lt;TrdCaptRpt RptID=\"380199\" TrdID=\"18061000020\"...</td>\n",
              "      <td>&lt;Alloc Qty=\"33.0\" CustCpcty=\"4\" IndAllocID=\"14...</td>\n",
              "      <td>&lt;Alloc Qty=\"44.0\" CustCpcty=\"1\" IndAllocID=\"14...</td>\n",
              "    </tr>\n",
              "    <tr>\n",
              "      <th>3</th>\n",
              "      <td>&lt;TrdCaptRpt RptID=\"16312\" TrdID=\"20425984430\" ...</td>\n",
              "      <td>&lt;TrdCaptRpt RptID=\"380198\" TrdID=\"20425984430\"...</td>\n",
              "      <td>&lt;TrdCaptRpt RptID=\"380199\" TrdID=\"18061000020\"...</td>\n",
              "      <td>&lt;Alloc Qty=\"17.0\" CustCpcty=\"4\" IndAllocID=\"11...</td>\n",
              "      <td>&lt;Alloc Qty=\"25.0\" CustCpcty=\"3\" IndAllocID=\"11...</td>\n",
              "    </tr>\n",
              "    <tr>\n",
              "      <th>4</th>\n",
              "      <td>&lt;TrdCaptRpt RptID=\"364833\" TrdID=\"36945109897\"...</td>\n",
              "      <td>&lt;TrdCaptRpt RptID=\"380198\" TrdID=\"36945109897\"...</td>\n",
              "      <td>&lt;TrdCaptRpt RptID=\"380199\" TrdID=\"18061000020\"...</td>\n",
              "      <td>&lt;Alloc Qty=\"10.0\" CustCpcty=\"1\" IndAllocID=\"16...</td>\n",
              "      <td>&lt;Alloc Qty=\"27.0\" CustCpcty=\"2\" IndAllocID=\"16...</td>\n",
              "    </tr>\n",
              "  </tbody>\n",
              "</table>\n",
              "</div>\n",
              "    <div class=\"colab-df-buttons\">\n",
              "\n",
              "  <div class=\"colab-df-container\">\n",
              "    <button class=\"colab-df-convert\" onclick=\"convertToInteractive('df-9eaf0551-bccb-4a6f-ace7-8c517a395d40')\"\n",
              "            title=\"Convert this dataframe to an interactive table.\"\n",
              "            style=\"display:none;\">\n",
              "\n",
              "  <svg xmlns=\"http://www.w3.org/2000/svg\" height=\"24px\" viewBox=\"0 -960 960 960\">\n",
              "    <path d=\"M120-120v-720h720v720H120Zm60-500h600v-160H180v160Zm220 220h160v-160H400v160Zm0 220h160v-160H400v160ZM180-400h160v-160H180v160Zm440 0h160v-160H620v160ZM180-180h160v-160H180v160Zm440 0h160v-160H620v160Z\"/>\n",
              "  </svg>\n",
              "    </button>\n",
              "\n",
              "  <style>\n",
              "    .colab-df-container {\n",
              "      display:flex;\n",
              "      gap: 12px;\n",
              "    }\n",
              "\n",
              "    .colab-df-convert {\n",
              "      background-color: #E8F0FE;\n",
              "      border: none;\n",
              "      border-radius: 50%;\n",
              "      cursor: pointer;\n",
              "      display: none;\n",
              "      fill: #1967D2;\n",
              "      height: 32px;\n",
              "      padding: 0 0 0 0;\n",
              "      width: 32px;\n",
              "    }\n",
              "\n",
              "    .colab-df-convert:hover {\n",
              "      background-color: #E2EBFA;\n",
              "      box-shadow: 0px 1px 2px rgba(60, 64, 67, 0.3), 0px 1px 3px 1px rgba(60, 64, 67, 0.15);\n",
              "      fill: #174EA6;\n",
              "    }\n",
              "\n",
              "    .colab-df-buttons div {\n",
              "      margin-bottom: 4px;\n",
              "    }\n",
              "\n",
              "    [theme=dark] .colab-df-convert {\n",
              "      background-color: #3B4455;\n",
              "      fill: #D2E3FC;\n",
              "    }\n",
              "\n",
              "    [theme=dark] .colab-df-convert:hover {\n",
              "      background-color: #434B5C;\n",
              "      box-shadow: 0px 1px 3px 1px rgba(0, 0, 0, 0.15);\n",
              "      filter: drop-shadow(0px 1px 2px rgba(0, 0, 0, 0.3));\n",
              "      fill: #FFFFFF;\n",
              "    }\n",
              "  </style>\n",
              "\n",
              "    <script>\n",
              "      const buttonEl =\n",
              "        document.querySelector('#df-9eaf0551-bccb-4a6f-ace7-8c517a395d40 button.colab-df-convert');\n",
              "      buttonEl.style.display =\n",
              "        google.colab.kernel.accessAllowed ? 'block' : 'none';\n",
              "\n",
              "      async function convertToInteractive(key) {\n",
              "        const element = document.querySelector('#df-9eaf0551-bccb-4a6f-ace7-8c517a395d40');\n",
              "        const dataTable =\n",
              "          await google.colab.kernel.invokeFunction('convertToInteractive',\n",
              "                                                    [key], {});\n",
              "        if (!dataTable) return;\n",
              "\n",
              "        const docLinkHtml = 'Like what you see? Visit the ' +\n",
              "          '<a target=\"_blank\" href=https://colab.research.google.com/notebooks/data_table.ipynb>data table notebook</a>'\n",
              "          + ' to learn more about interactive tables.';\n",
              "        element.innerHTML = '';\n",
              "        dataTable['output_type'] = 'display_data';\n",
              "        await google.colab.output.renderOutput(dataTable, element);\n",
              "        const docLink = document.createElement('div');\n",
              "        docLink.innerHTML = docLinkHtml;\n",
              "        element.appendChild(docLink);\n",
              "      }\n",
              "    </script>\n",
              "  </div>\n",
              "\n",
              "\n",
              "<div id=\"df-d0691724-cb29-4c8a-a9b0-4096a74fa6d3\">\n",
              "  <button class=\"colab-df-quickchart\" onclick=\"quickchart('df-d0691724-cb29-4c8a-a9b0-4096a74fa6d3')\"\n",
              "            title=\"Suggest charts\"\n",
              "            style=\"display:none;\">\n",
              "\n",
              "<svg xmlns=\"http://www.w3.org/2000/svg\" height=\"24px\"viewBox=\"0 0 24 24\"\n",
              "     width=\"24px\">\n",
              "    <g>\n",
              "        <path d=\"M19 3H5c-1.1 0-2 .9-2 2v14c0 1.1.9 2 2 2h14c1.1 0 2-.9 2-2V5c0-1.1-.9-2-2-2zM9 17H7v-7h2v7zm4 0h-2V7h2v10zm4 0h-2v-4h2v4z\"/>\n",
              "    </g>\n",
              "</svg>\n",
              "  </button>\n",
              "\n",
              "<style>\n",
              "  .colab-df-quickchart {\n",
              "      --bg-color: #E8F0FE;\n",
              "      --fill-color: #1967D2;\n",
              "      --hover-bg-color: #E2EBFA;\n",
              "      --hover-fill-color: #174EA6;\n",
              "      --disabled-fill-color: #AAA;\n",
              "      --disabled-bg-color: #DDD;\n",
              "  }\n",
              "\n",
              "  [theme=dark] .colab-df-quickchart {\n",
              "      --bg-color: #3B4455;\n",
              "      --fill-color: #D2E3FC;\n",
              "      --hover-bg-color: #434B5C;\n",
              "      --hover-fill-color: #FFFFFF;\n",
              "      --disabled-bg-color: #3B4455;\n",
              "      --disabled-fill-color: #666;\n",
              "  }\n",
              "\n",
              "  .colab-df-quickchart {\n",
              "    background-color: var(--bg-color);\n",
              "    border: none;\n",
              "    border-radius: 50%;\n",
              "    cursor: pointer;\n",
              "    display: none;\n",
              "    fill: var(--fill-color);\n",
              "    height: 32px;\n",
              "    padding: 0;\n",
              "    width: 32px;\n",
              "  }\n",
              "\n",
              "  .colab-df-quickchart:hover {\n",
              "    background-color: var(--hover-bg-color);\n",
              "    box-shadow: 0 1px 2px rgba(60, 64, 67, 0.3), 0 1px 3px 1px rgba(60, 64, 67, 0.15);\n",
              "    fill: var(--button-hover-fill-color);\n",
              "  }\n",
              "\n",
              "  .colab-df-quickchart-complete:disabled,\n",
              "  .colab-df-quickchart-complete:disabled:hover {\n",
              "    background-color: var(--disabled-bg-color);\n",
              "    fill: var(--disabled-fill-color);\n",
              "    box-shadow: none;\n",
              "  }\n",
              "\n",
              "  .colab-df-spinner {\n",
              "    border: 2px solid var(--fill-color);\n",
              "    border-color: transparent;\n",
              "    border-bottom-color: var(--fill-color);\n",
              "    animation:\n",
              "      spin 1s steps(1) infinite;\n",
              "  }\n",
              "\n",
              "  @keyframes spin {\n",
              "    0% {\n",
              "      border-color: transparent;\n",
              "      border-bottom-color: var(--fill-color);\n",
              "      border-left-color: var(--fill-color);\n",
              "    }\n",
              "    20% {\n",
              "      border-color: transparent;\n",
              "      border-left-color: var(--fill-color);\n",
              "      border-top-color: var(--fill-color);\n",
              "    }\n",
              "    30% {\n",
              "      border-color: transparent;\n",
              "      border-left-color: var(--fill-color);\n",
              "      border-top-color: var(--fill-color);\n",
              "      border-right-color: var(--fill-color);\n",
              "    }\n",
              "    40% {\n",
              "      border-color: transparent;\n",
              "      border-right-color: var(--fill-color);\n",
              "      border-top-color: var(--fill-color);\n",
              "    }\n",
              "    60% {\n",
              "      border-color: transparent;\n",
              "      border-right-color: var(--fill-color);\n",
              "    }\n",
              "    80% {\n",
              "      border-color: transparent;\n",
              "      border-right-color: var(--fill-color);\n",
              "      border-bottom-color: var(--fill-color);\n",
              "    }\n",
              "    90% {\n",
              "      border-color: transparent;\n",
              "      border-bottom-color: var(--fill-color);\n",
              "    }\n",
              "  }\n",
              "</style>\n",
              "\n",
              "  <script>\n",
              "    async function quickchart(key) {\n",
              "      const quickchartButtonEl =\n",
              "        document.querySelector('#' + key + ' button');\n",
              "      quickchartButtonEl.disabled = true;  // To prevent multiple clicks.\n",
              "      quickchartButtonEl.classList.add('colab-df-spinner');\n",
              "      try {\n",
              "        const charts = await google.colab.kernel.invokeFunction(\n",
              "            'suggestCharts', [key], {});\n",
              "      } catch (error) {\n",
              "        console.error('Error during call to suggestCharts:', error);\n",
              "      }\n",
              "      quickchartButtonEl.classList.remove('colab-df-spinner');\n",
              "      quickchartButtonEl.classList.add('colab-df-quickchart-complete');\n",
              "    }\n",
              "    (() => {\n",
              "      let quickchartButtonEl =\n",
              "        document.querySelector('#df-d0691724-cb29-4c8a-a9b0-4096a74fa6d3 button');\n",
              "      quickchartButtonEl.style.display =\n",
              "        google.colab.kernel.accessAllowed ? 'block' : 'none';\n",
              "    })();\n",
              "  </script>\n",
              "</div>\n",
              "\n",
              "    </div>\n",
              "  </div>\n"
            ],
            "application/vnd.google.colaboratory.intrinsic+json": {
              "type": "dataframe",
              "variable_name": "df0",
              "summary": "{\n  \"name\": \"df0\",\n  \"rows\": 1000,\n  \"fields\": [\n    {\n      \"column\": \"Trade_message\",\n      \"properties\": {\n        \"dtype\": \"string\",\n        \"num_unique_values\": 1000,\n        \"samples\": [\n          \"<TrdCaptRpt RptID=\\\"94015\\\" TrdID=\\\"39839858992\\\" TransTyp=\\\"0\\\" RptTyp=\\\"2\\\" TrdTyp=\\\"0\\\" MtchID=\\\"27649729368\\\" PxTyp=\\\"2\\\" LastQty=\\\"51\\\" LastPx=\\\"250.45\\\" TrdDt=\\\"2023-01-05\\\" BizDt=\\\"2023-02-05\\\" TxnTm=\\\"2023-03-20T10:18:15.100-5:00\\\"><Hdr SID=\\\"MGEX\\\" TID=\\\"HBPL\\\" PosDup=\\\"Y\\\" PosRsnd=\\\"Y\\\" Snt=\\\"2023-03-20T10:18:15.350-5:00\\\"></Hdr><Instrmt Sym=\\\"BUI\\\" ID=\\\"LM\\\" Src=\\\"H\\\" CFI=\\\"APYBKL\\\" MMY=\\\"202305\\\" MatDt=\\\"2023-05-15\\\" Mult=\\\"1000\\\" Exch=\\\"HDPL\\\"></Instrmt><RptSide Side=\\\"2\\\" Ccy=\\\"USD\\\" InptSrc=\\\"SY\\\" InptDev=\\\"PORTAL\\\" CustCpcty=\\\"3\\\" PosEfct=\\\"O\\\" ClOrdID=\\\"146ZBT\\\" MLegRptTyp=\\\"3\\\" AllocInd=\\\"0\\\"><Pty ID=\\\"MGEX\\\" R=\\\"21\\\"></Pty><Pty ID=\\\"210\\\" R=\\\"1\\\"></Pty><Pty ID=\\\"210\\\" R=\\\"4\\\"></Pty><Pty ID=\\\"Mohamed-300\\\" R=\\\"24\\\"><Sub ID=\\\"1\\\" Typ=\\\"26\\\"></Sub></Pty><Pty ID=\\\"400\\\" R=\\\"12\\\"></Pty><TrdRegTS TS=\\\"2023-03-20T10:18:15.100-5:00\\\" Typ=\\\"1\\\"></TrdRegTS></RptSide></TrdCaptRpt>\",\n          \"<TrdCaptRpt RptID=\\\"127213\\\" TrdID=\\\"22301545467\\\" TransTyp=\\\"0\\\" RptTyp=\\\"2\\\" TrdTyp=\\\"29\\\" MtchID=\\\"29584296168\\\" PxTyp=\\\"2\\\" LastQty=\\\"76\\\" LastPx=\\\"3590.59\\\" TrdDt=\\\"2022-12-17\\\" BizDt=\\\"2023-01-06\\\" TxnTm=\\\"2023-03-20T16:40:55.100-6:00\\\"><Hdr SID=\\\"MGEX\\\" TID=\\\"HBPL\\\" PosDup=\\\"Y\\\" PosRsnd=\\\"N\\\" Snt=\\\"2023-03-20T16:40:55.350-6:00\\\"></Hdr><Instrmt Sym=\\\"TMP\\\" ID=\\\"B\\\" Src=\\\"H\\\" CFI=\\\"FCCPXX\\\" MMY=\\\"202310\\\" MatDt=\\\"2023-10-23\\\" Mult=\\\"0.2\\\" Exch=\\\"BTNL\\\"></Instrmt><RptSide Side=\\\"2\\\" Ccy=\\\"USD\\\" InptSrc=\\\"MA\\\" InptDev=\\\"API\\\" CustCpcty=\\\"3\\\" PosEfct=\\\"C\\\" ClOrdID=\\\"245BTN\\\" MLegRptTyp=\\\"3\\\" AllocInd=\\\"0\\\"><Pty ID=\\\"MGEX\\\" R=\\\"21\\\"></Pty><Pty ID=\\\"210\\\" R=\\\"1\\\"></Pty><Pty ID=\\\"210\\\" R=\\\"4\\\"></Pty><Pty ID=\\\"Mohamed-300\\\" R=\\\"24\\\"><Sub ID=\\\"2\\\" Typ=\\\"26\\\"></Sub></Pty><Pty ID=\\\"A123\\\" R=\\\"12\\\"></Pty><TrdRegTS TS=\\\"2023-03-20T16:40:55.100-6:00\\\" Typ=\\\"1\\\"></TrdRegTS></RptSide></TrdCaptRpt>\",\n          \"<TrdCaptRpt RptID=\\\"36622\\\" TrdID=\\\"29347201620\\\" TransTyp=\\\"0\\\" RptTyp=\\\"2\\\" TrdTyp=\\\"29\\\" MtchID=\\\"26206748973\\\" PxTyp=\\\"10\\\" LastQty=\\\"52\\\" LastPx=\\\"3590.59\\\" TrdDt=\\\"2022-12-17\\\" BizDt=\\\"2023-01-06\\\" TxnTm=\\\"2023-03-30T05:17:30.100-7:00\\\"><Hdr SID=\\\"MGEX\\\" TID=\\\"ABCD\\\" PosDup=\\\"N\\\" PosRsnd=\\\"N\\\" Snt=\\\"2023-03-30T05:17:30.768-7:00\\\"></Hdr><Instrmt Sym=\\\"TMP\\\" ID=\\\"AS\\\" Src=\\\"H\\\" CFI=\\\"APYBKL\\\" MMY=\\\"202310\\\" MatDt=\\\"2023-10-6\\\" Mult=\\\"0.2\\\" Exch=\\\"BTNL\\\"></Instrmt><RptSide Side=\\\"1\\\" Ccy=\\\"USD\\\" InptSrc=\\\"EL\\\" InptDev=\\\"EXCHANGE\\\" CustCpcty=\\\"4\\\" PosEfct=\\\"C\\\" ClOrdID=\\\"145\\\" MLegRptTyp=\\\"3\\\" AllocInd=\\\"0\\\"><Pty ID=\\\"MGEX\\\" R=\\\"21\\\"></Pty><Pty ID=\\\"210\\\" R=\\\"1\\\"></Pty><Pty ID=\\\"210\\\" R=\\\"4\\\"></Pty><Pty ID=\\\"acc-AT\\\" R=\\\"24\\\"><Sub ID=\\\"2\\\" Typ=\\\"26\\\"></Sub></Pty><Pty ID=\\\"B115\\\" R=\\\"12\\\"></Pty><TrdRegTS TS=\\\"2023-03-30T05:17:30.100-7:00\\\" Typ=\\\"1\\\"></TrdRegTS></RptSide></TrdCaptRpt>\"\n        ],\n        \"semantic_type\": \"\",\n        \"description\": \"\"\n      }\n    },\n    {\n      \"column\": \"CCP_Message1\",\n      \"properties\": {\n        \"dtype\": \"string\",\n        \"num_unique_values\": 1000,\n        \"samples\": [\n          \"<TrdCaptRpt RptID=\\\"380198\\\" TrdID=\\\"39839858992\\\" TransTyp=\\\"2\\\" RptTyp=\\\"2\\\" TrdTyp=\\\"0\\\" MtchID=\\\"27649729368\\\" PxTyp=\\\"2\\\" LastQty=\\\"31.0\\\" LastPx=\\\"250.45\\\" TrdDt=\\\"2023-01-05\\\" BizDt=\\\"2023-02-05\\\" TxnTm=\\\"2023-03-20T00:12:55.138-5:00\\\"><Hdr SID=\\\"MGEX\\\" TID=\\\"HBPL\\\" PosDup=\\\"Y\\\" PosRsnd=\\\"Y\\\" Snt=\\\"2023-03-20T00:12:55.160-5:00\\\"></Hdr><Instrmt Sym=\\\"BUI\\\" ID=\\\"LM\\\" Src=\\\"H\\\" CFI=\\\"APYBKL\\\" MMY=\\\"202305\\\" MatDt=\\\"2023-05-15\\\" Mult=\\\"1000\\\" Exch=\\\"HDPL\\\"></Instrmt><RptSide Side=\\\"2\\\" Ccy=\\\"USD\\\" InptSrc=\\\"SY\\\" InptDev=\\\"API\\\" CustCpcty=\\\"1\\\" PosEfct=\\\"O\\\" ClOrdID=\\\"146ZBT\\\" MLegRptTyp=\\\"3\\\" AllocInd=\\\"0\\\"><Pty ID=\\\"MGEX\\\" R=\\\"21\\\"></Pty><Pty ID=\\\"210\\\" R=\\\"1\\\"></Pty><Pty ID=\\\"210\\\" R=\\\"4\\\"></Pty><Pty ID=\\\"Hassen\\\" R=\\\"24\\\"><Sub ID=\\\"1\\\" Typ=\\\"26\\\"></Sub></Pty><Pty ID=\\\"400\\\" R=\\\"12\\\"></Pty><Alloc IndAllocID=\\\"1368901292857489911@HDPL&gt;39839858992FS@20230105||5d135\\\"></Alloc><TrdRegTS TS=\\\"2023-03-20T10:18:15.100-5:00\\\" Typ=\\\"1\\\"></TrdRegTS></RptSide></TrdCaptRpt>\",\n          \"<TrdCaptRpt RptID=\\\"380198\\\" TrdID=\\\"22301545467\\\" TransTyp=\\\"2\\\" RptTyp=\\\"2\\\" TrdTyp=\\\"29\\\" MtchID=\\\"29584296168\\\" PxTyp=\\\"2\\\" LastQty=\\\"30.0\\\" LastPx=\\\"3590.59\\\" TrdDt=\\\"2022-12-17\\\" BizDt=\\\"2023-01-06\\\" TxnTm=\\\"2023-03-20T00:12:55.138-6:00\\\"><Hdr SID=\\\"MGEX\\\" TID=\\\"HBPL\\\" PosDup=\\\"Y\\\" PosRsnd=\\\"N\\\" Snt=\\\"2023-03-20T00:12:55.160-6:00\\\"></Hdr><Instrmt Sym=\\\"TMP\\\" ID=\\\"B\\\" Src=\\\"H\\\" CFI=\\\"FCCPXX\\\" MMY=\\\"202310\\\" MatDt=\\\"2023-10-23\\\" Mult=\\\"0.2\\\" Exch=\\\"BTNL\\\"></Instrmt><RptSide Side=\\\"2\\\" Ccy=\\\"USD\\\" InptSrc=\\\"MA\\\" InptDev=\\\"API\\\" CustCpcty=\\\"2\\\" PosEfct=\\\"C\\\" ClOrdID=\\\"245BTN\\\" MLegRptTyp=\\\"3\\\" AllocInd=\\\"0\\\"><Pty ID=\\\"MGEX\\\" R=\\\"21\\\"></Pty><Pty ID=\\\"210\\\" R=\\\"1\\\"></Pty><Pty ID=\\\"210\\\" R=\\\"4\\\"></Pty><Pty ID=\\\"arij\\\" R=\\\"24\\\"><Sub ID=\\\"2\\\" Typ=\\\"26\\\"></Sub></Pty><Pty ID=\\\"A123\\\" R=\\\"12\\\"></Pty><Alloc IndAllocID=\\\"1377074409007447049@BTNL&gt;22301545467FS@20221217||ckpla\\\"></Alloc><TrdRegTS TS=\\\"2023-03-20T16:40:55.100-6:00\\\" Typ=\\\"1\\\"></TrdRegTS></RptSide></TrdCaptRpt>\",\n          \"<TrdCaptRpt RptID=\\\"380198\\\" TrdID=\\\"29347201620\\\" TransTyp=\\\"2\\\" RptTyp=\\\"2\\\" TrdTyp=\\\"29\\\" MtchID=\\\"26206748973\\\" PxTyp=\\\"10\\\" LastQty=\\\"47.0\\\" LastPx=\\\"3590.59\\\" TrdDt=\\\"2022-12-17\\\" BizDt=\\\"2023-01-06\\\" TxnTm=\\\"2023-03-30T00:12:55.138-7:00\\\"><Hdr SID=\\\"MGEX\\\" TID=\\\"ABCD\\\" PosDup=\\\"N\\\" PosRsnd=\\\"N\\\" Snt=\\\"2023-03-30T00:12:55.160-7:00\\\"></Hdr><Instrmt Sym=\\\"TMP\\\" ID=\\\"AS\\\" Src=\\\"H\\\" CFI=\\\"APYBKL\\\" MMY=\\\"202310\\\" MatDt=\\\"2023-10-6\\\" Mult=\\\"0.2\\\" Exch=\\\"BTNL\\\"></Instrmt><RptSide Side=\\\"1\\\" Ccy=\\\"USD\\\" InptSrc=\\\"EL\\\" InptDev=\\\"API\\\" CustCpcty=\\\"1\\\" PosEfct=\\\"C\\\" ClOrdID=\\\"145\\\" MLegRptTyp=\\\"3\\\" AllocInd=\\\"0\\\"><Pty ID=\\\"MGEX\\\" R=\\\"21\\\"></Pty><Pty ID=\\\"210\\\" R=\\\"1\\\"></Pty><Pty ID=\\\"210\\\" R=\\\"4\\\"></Pty><Pty ID=\\\"Hassen\\\" R=\\\"24\\\"><Sub ID=\\\"2\\\" Typ=\\\"26\\\"></Sub></Pty><Pty ID=\\\"B115\\\" R=\\\"12\\\"></Pty><Alloc IndAllocID=\\\"1972895200133532971@BTNL&gt;29347201620FS@20221217||ckpla\\\"></Alloc><TrdRegTS TS=\\\"2023-03-30T05:17:30.100-7:00\\\" Typ=\\\"1\\\"></TrdRegTS></RptSide></TrdCaptRpt>\"\n        ],\n        \"semantic_type\": \"\",\n        \"description\": \"\"\n      }\n    },\n    {\n      \"column\": \"CCP_Message2\",\n      \"properties\": {\n        \"dtype\": \"string\",\n        \"num_unique_values\": 1000,\n        \"samples\": [\n          \"<TrdCaptRpt RptID=\\\"380199\\\" TrdID=\\\"18061000020\\\" TransTyp=\\\"0\\\" RptTyp=\\\"2\\\" TrdTyp=\\\"0\\\" OrigTrdID=\\\"39839858992\\\" MtchID=\\\"27649729368\\\" PxTyp=\\\"2\\\" LastQty=\\\"20.0\\\" LastPx=\\\"250.45\\\" TrdDt=\\\"2023-01-05\\\" BizDt=\\\"2023-02-05\\\" TxnTm=\\\"2023-03-20T00:12:55.138-5:00\\\"><Hdr SID=\\\"MGEX\\\" TID=\\\"HBPL\\\" PosDup=\\\"Y\\\" PosRsnd=\\\"Y\\\" Snt=\\\"2023-03-20T00:12:55.160-5:00\\\"></Hdr><Instrmt Sym=\\\"BUI\\\" ID=\\\"LM\\\" Src=\\\"H\\\" CFI=\\\"APYBKL\\\" MMY=\\\"202305\\\" MatDt=\\\"2023-05-15\\\" Mult=\\\"1000\\\" Exch=\\\"HDPL\\\"></Instrmt><RptSide Side=\\\"2\\\" Ccy=\\\"USD\\\" InptSrc=\\\"SY\\\" InptDev=\\\"API\\\" CustCpcty=\\\"3\\\" PosEfct=\\\"O\\\" ClOrdID=\\\"146ZBT\\\" MLegRptTyp=\\\"3\\\" AllocInd=\\\"0\\\"><Pty ID=\\\"MGEX\\\" R=\\\"21\\\"></Pty><Pty ID=\\\"210\\\" R=\\\"1\\\"></Pty><Pty ID=\\\"210\\\" R=\\\"4\\\"></Pty><Pty ID=\\\"najet\\\" R=\\\"24\\\"><Sub ID=\\\"1\\\" Typ=\\\"26\\\"></Sub></Pty><Pty ID=\\\"400\\\" R=\\\"12\\\"></Pty><Alloc IndAllocID=\\\"1368901292857489911@HDPL&gt;39839858992FS@20230105||c2537\\\"></Alloc><TrdRegTS TS=\\\"2023-03-20T10:18:15.100-5:00\\\" Typ=\\\"1\\\"></TrdRegTS></RptSide></TrdCaptRpt>\",\n          \"<TrdCaptRpt RptID=\\\"380199\\\" TrdID=\\\"18061000020\\\" TransTyp=\\\"0\\\" RptTyp=\\\"2\\\" TrdTyp=\\\"29\\\" OrigTrdID=\\\"22301545467\\\" MtchID=\\\"29584296168\\\" PxTyp=\\\"2\\\" LastQty=\\\"46.0\\\" LastPx=\\\"3590.59\\\" TrdDt=\\\"2022-12-17\\\" BizDt=\\\"2023-01-06\\\" TxnTm=\\\"2023-03-20T00:12:55.138-6:00\\\"><Hdr SID=\\\"MGEX\\\" TID=\\\"HBPL\\\" PosDup=\\\"Y\\\" PosRsnd=\\\"N\\\" Snt=\\\"2023-03-20T00:12:55.160-6:00\\\"></Hdr><Instrmt Sym=\\\"TMP\\\" ID=\\\"B\\\" Src=\\\"H\\\" CFI=\\\"FCCPXX\\\" MMY=\\\"202310\\\" MatDt=\\\"2023-10-23\\\" Mult=\\\"0.2\\\" Exch=\\\"BTNL\\\"></Instrmt><RptSide Side=\\\"2\\\" Ccy=\\\"USD\\\" InptSrc=\\\"MA\\\" InptDev=\\\"API\\\" CustCpcty=\\\"4\\\" PosEfct=\\\"C\\\" ClOrdID=\\\"245BTN\\\" MLegRptTyp=\\\"3\\\" AllocInd=\\\"0\\\"><Pty ID=\\\"MGEX\\\" R=\\\"21\\\"></Pty><Pty ID=\\\"210\\\" R=\\\"1\\\"></Pty><Pty ID=\\\"210\\\" R=\\\"4\\\"></Pty><Pty ID=\\\"FIRMACT2\\\" R=\\\"24\\\"><Sub ID=\\\"2\\\" Typ=\\\"26\\\"></Sub></Pty><Pty ID=\\\"A123\\\" R=\\\"12\\\"></Pty><Alloc IndAllocID=\\\"1377074409007447049@BTNL&gt;22301545467FS@20221217||c2537\\\"></Alloc><TrdRegTS TS=\\\"2023-03-20T16:40:55.100-6:00\\\" Typ=\\\"1\\\"></TrdRegTS></RptSide></TrdCaptRpt>\",\n          \"<TrdCaptRpt RptID=\\\"380199\\\" TrdID=\\\"18061000020\\\" TransTyp=\\\"0\\\" RptTyp=\\\"2\\\" TrdTyp=\\\"29\\\" OrigTrdID=\\\"29347201620\\\" MtchID=\\\"26206748973\\\" PxTyp=\\\"10\\\" LastQty=\\\"5.0\\\" LastPx=\\\"3590.59\\\" TrdDt=\\\"2022-12-17\\\" BizDt=\\\"2023-01-06\\\" TxnTm=\\\"2023-03-30T00:12:55.138-7:00\\\"><Hdr SID=\\\"MGEX\\\" TID=\\\"ABCD\\\" PosDup=\\\"N\\\" PosRsnd=\\\"N\\\" Snt=\\\"2023-03-30T00:12:55.160-7:00\\\"></Hdr><Instrmt Sym=\\\"TMP\\\" ID=\\\"AS\\\" Src=\\\"H\\\" CFI=\\\"APYBKL\\\" MMY=\\\"202310\\\" MatDt=\\\"2023-10-6\\\" Mult=\\\"0.2\\\" Exch=\\\"BTNL\\\"></Instrmt><RptSide Side=\\\"1\\\" Ccy=\\\"USD\\\" InptSrc=\\\"EL\\\" InptDev=\\\"API\\\" CustCpcty=\\\"2\\\" PosEfct=\\\"C\\\" ClOrdID=\\\"145\\\" MLegRptTyp=\\\"3\\\" AllocInd=\\\"0\\\"><Pty ID=\\\"MGEX\\\" R=\\\"21\\\"></Pty><Pty ID=\\\"210\\\" R=\\\"1\\\"></Pty><Pty ID=\\\"210\\\" R=\\\"4\\\"></Pty><Pty ID=\\\"najet\\\" R=\\\"24\\\"><Sub ID=\\\"2\\\" Typ=\\\"26\\\"></Sub></Pty><Pty ID=\\\"B115\\\" R=\\\"12\\\"></Pty><Alloc IndAllocID=\\\"1972895200133532971@BTNL&gt;29347201620FS@20221217||el8ab\\\"></Alloc><TrdRegTS TS=\\\"2023-03-30T05:17:30.100-7:00\\\" Typ=\\\"1\\\"></TrdRegTS></RptSide></TrdCaptRpt>\"\n        ],\n        \"semantic_type\": \"\",\n        \"description\": \"\"\n      }\n    },\n    {\n      \"column\": \"SGW_Operation1\",\n      \"properties\": {\n        \"dtype\": \"string\",\n        \"num_unique_values\": 1000,\n        \"samples\": [\n          \"<Alloc Qty=\\\"31.0\\\" CustCpcty=\\\"1\\\" IndAllocID=\\\"1368901292857489911@HDPL&gt;39839858992FS@20230105||5d135\\\"><Pty ID=\\\"Hassen\\\" R=\\\"24\\\"><Sub ID=\\\"1\\\" Typ=\\\"26\\\" /></Pty></Alloc>\",\n          \"<Alloc Qty=\\\"30.0\\\" CustCpcty=\\\"2\\\" IndAllocID=\\\"1377074409007447049@BTNL&gt;22301545467FS@20221217||ckpla\\\"><Pty ID=\\\"arij\\\" R=\\\"24\\\"><Sub ID=\\\"2\\\" Typ=\\\"26\\\" /></Pty></Alloc>\",\n          \"<Alloc Qty=\\\"47.0\\\" CustCpcty=\\\"1\\\" IndAllocID=\\\"1972895200133532971@BTNL&gt;29347201620FS@20221217||ckpla\\\"><Pty ID=\\\"Hassen\\\" R=\\\"24\\\"><Sub ID=\\\"2\\\" Typ=\\\"26\\\" /></Pty></Alloc>\"\n        ],\n        \"semantic_type\": \"\",\n        \"description\": \"\"\n      }\n    },\n    {\n      \"column\": \"SGW_Operation2\",\n      \"properties\": {\n        \"dtype\": \"string\",\n        \"num_unique_values\": 1000,\n        \"samples\": [\n          \"<Alloc Qty=\\\"20.0\\\" CustCpcty=\\\"3\\\" IndAllocID=\\\"1368901292857489911@HDPL&gt;39839858992FS@20230105||c2537\\\"><Pty ID=\\\"najet\\\" R=\\\"24\\\"><Sub ID=\\\"1\\\" Typ=\\\"26\\\" /></Pty></Alloc>\",\n          \"<Alloc Qty=\\\"46.0\\\" CustCpcty=\\\"4\\\" IndAllocID=\\\"1377074409007447049@BTNL&gt;22301545467FS@20221217||c2537\\\"><Pty ID=\\\"FIRMACT2\\\" R=\\\"24\\\"><Sub ID=\\\"2\\\" Typ=\\\"26\\\" /></Pty></Alloc>\",\n          \"<Alloc Qty=\\\"5.0\\\" CustCpcty=\\\"2\\\" IndAllocID=\\\"1972895200133532971@BTNL&gt;29347201620FS@20221217||el8ab\\\"><Pty ID=\\\"najet\\\" R=\\\"24\\\"><Sub ID=\\\"2\\\" Typ=\\\"26\\\" /></Pty></Alloc>\"\n        ],\n        \"semantic_type\": \"\",\n        \"description\": \"\"\n      }\n    }\n  ]\n}"
            }
          },
          "metadata": {},
          "execution_count": 74
        }
      ]
    },
    {
      "cell_type": "code",
      "source": [
        "df0.iloc[0]['SGW_Operation1']"
      ],
      "metadata": {
        "colab": {
          "base_uri": "https://localhost:8080/",
          "height": 36
        },
        "id": "XVtymZIUJCSj",
        "outputId": "ada7dffe-5d8a-4b11-b815-574358aed733"
      },
      "execution_count": null,
      "outputs": [
        {
          "output_type": "execute_result",
          "data": {
            "text/plain": [
              "'<Alloc Qty=\"25.0\" CustCpcty=\"2\" IndAllocID=\"1938463012888430837@BTNL&gt;35740661331FS@20221217||5d135\"><Pty ID=\"Ahlem\" R=\"24\"><Sub ID=\"2\" Typ=\"26\" /></Pty></Alloc>'"
            ],
            "application/vnd.google.colaboratory.intrinsic+json": {
              "type": "string"
            }
          },
          "metadata": {},
          "execution_count": 75
        }
      ]
    },
    {
      "cell_type": "code",
      "source": [
        "df0.iloc[0]['SGW_Operation2']"
      ],
      "metadata": {
        "colab": {
          "base_uri": "https://localhost:8080/",
          "height": 36
        },
        "id": "uESExlCsJKS_",
        "outputId": "34090e6a-dec8-4a39-bdd4-84037b8f6f77"
      },
      "execution_count": null,
      "outputs": [
        {
          "output_type": "execute_result",
          "data": {
            "text/plain": [
              "'<Alloc Qty=\"15.0\" CustCpcty=\"2\" IndAllocID=\"1938463012888430837@BTNL&gt;35740661331FS@20221217||c2537\"><Pty ID=\"5cot9\" R=\"24\"><Sub ID=\"2\" Typ=\"26\" /></Pty></Alloc>'"
            ],
            "application/vnd.google.colaboratory.intrinsic+json": {
              "type": "string"
            }
          },
          "metadata": {},
          "execution_count": 76
        }
      ]
    },
    {
      "cell_type": "markdown",
      "source": [
        "**Creating two columns input_message1 by concatenating Trade_message and SGW_Operation1 and input_message2 by concatenating Trade_message and SGW_Operation2 and updating the DataFrame to retain only input_message1, CCP_Message1 and CCP_Message2**"
      ],
      "metadata": {
        "id": "P0ojCBqVOTuj"
      }
    },
    {
      "cell_type": "code",
      "source": [
        "df1 = df0.copy()"
      ],
      "metadata": {
        "id": "Y6N3cJ_hJN7b"
      },
      "execution_count": null,
      "outputs": []
    },
    {
      "cell_type": "code",
      "source": [
        "def concat_columns(df):\n",
        "    df['input_message1'] = df['Trade_message'] + ' ' + df['SGW_Operation1']\n",
        "    df['input_message2'] = df['Trade_message'] + ' ' + df['SGW_Operation2']\n",
        "    df.drop(['Trade_message', 'SGW_Operation1', 'SGW_Operation2'], axis=1, inplace=True)\n",
        "    return df"
      ],
      "metadata": {
        "id": "9629-UWuJZsn"
      },
      "execution_count": null,
      "outputs": []
    },
    {
      "cell_type": "code",
      "source": [
        "df1 = concat_columns(df1)\n",
        "df1.head()"
      ],
      "metadata": {
        "colab": {
          "base_uri": "https://localhost:8080/",
          "height": 293
        },
        "id": "DM19ZIxGJbBg",
        "outputId": "90d23db6-69e3-4a23-d73b-5df6cb455459"
      },
      "execution_count": null,
      "outputs": [
        {
          "output_type": "execute_result",
          "data": {
            "text/plain": [
              "                                        CCP_Message1  \\\n",
              "0  <TrdCaptRpt RptID=\"380198\" TrdID=\"35740661331\"...   \n",
              "1  <TrdCaptRpt RptID=\"380198\" TrdID=\"24981651263\"...   \n",
              "2  <TrdCaptRpt RptID=\"380198\" TrdID=\"32785059736\"...   \n",
              "3  <TrdCaptRpt RptID=\"380198\" TrdID=\"20425984430\"...   \n",
              "4  <TrdCaptRpt RptID=\"380198\" TrdID=\"36945109897\"...   \n",
              "\n",
              "                                        CCP_Message2  \\\n",
              "0  <TrdCaptRpt RptID=\"380199\" TrdID=\"18061000020\"...   \n",
              "1  <TrdCaptRpt RptID=\"380199\" TrdID=\"18061000020\"...   \n",
              "2  <TrdCaptRpt RptID=\"380199\" TrdID=\"18061000020\"...   \n",
              "3  <TrdCaptRpt RptID=\"380199\" TrdID=\"18061000020\"...   \n",
              "4  <TrdCaptRpt RptID=\"380199\" TrdID=\"18061000020\"...   \n",
              "\n",
              "                                      input_message1  \\\n",
              "0  <TrdCaptRpt RptID=\"136826\" TrdID=\"35740661331\"...   \n",
              "1  <TrdCaptRpt RptID=\"350087\" TrdID=\"24981651263\"...   \n",
              "2  <TrdCaptRpt RptID=\"311717\" TrdID=\"32785059736\"...   \n",
              "3  <TrdCaptRpt RptID=\"16312\" TrdID=\"20425984430\" ...   \n",
              "4  <TrdCaptRpt RptID=\"364833\" TrdID=\"36945109897\"...   \n",
              "\n",
              "                                      input_message2  \n",
              "0  <TrdCaptRpt RptID=\"136826\" TrdID=\"35740661331\"...  \n",
              "1  <TrdCaptRpt RptID=\"350087\" TrdID=\"24981651263\"...  \n",
              "2  <TrdCaptRpt RptID=\"311717\" TrdID=\"32785059736\"...  \n",
              "3  <TrdCaptRpt RptID=\"16312\" TrdID=\"20425984430\" ...  \n",
              "4  <TrdCaptRpt RptID=\"364833\" TrdID=\"36945109897\"...  "
            ],
            "text/html": [
              "\n",
              "  <div id=\"df-7123334f-7a00-4fff-8f22-daa0f084e945\" class=\"colab-df-container\">\n",
              "    <div>\n",
              "<style scoped>\n",
              "    .dataframe tbody tr th:only-of-type {\n",
              "        vertical-align: middle;\n",
              "    }\n",
              "\n",
              "    .dataframe tbody tr th {\n",
              "        vertical-align: top;\n",
              "    }\n",
              "\n",
              "    .dataframe thead th {\n",
              "        text-align: right;\n",
              "    }\n",
              "</style>\n",
              "<table border=\"1\" class=\"dataframe\">\n",
              "  <thead>\n",
              "    <tr style=\"text-align: right;\">\n",
              "      <th></th>\n",
              "      <th>CCP_Message1</th>\n",
              "      <th>CCP_Message2</th>\n",
              "      <th>input_message1</th>\n",
              "      <th>input_message2</th>\n",
              "    </tr>\n",
              "  </thead>\n",
              "  <tbody>\n",
              "    <tr>\n",
              "      <th>0</th>\n",
              "      <td>&lt;TrdCaptRpt RptID=\"380198\" TrdID=\"35740661331\"...</td>\n",
              "      <td>&lt;TrdCaptRpt RptID=\"380199\" TrdID=\"18061000020\"...</td>\n",
              "      <td>&lt;TrdCaptRpt RptID=\"136826\" TrdID=\"35740661331\"...</td>\n",
              "      <td>&lt;TrdCaptRpt RptID=\"136826\" TrdID=\"35740661331\"...</td>\n",
              "    </tr>\n",
              "    <tr>\n",
              "      <th>1</th>\n",
              "      <td>&lt;TrdCaptRpt RptID=\"380198\" TrdID=\"24981651263\"...</td>\n",
              "      <td>&lt;TrdCaptRpt RptID=\"380199\" TrdID=\"18061000020\"...</td>\n",
              "      <td>&lt;TrdCaptRpt RptID=\"350087\" TrdID=\"24981651263\"...</td>\n",
              "      <td>&lt;TrdCaptRpt RptID=\"350087\" TrdID=\"24981651263\"...</td>\n",
              "    </tr>\n",
              "    <tr>\n",
              "      <th>2</th>\n",
              "      <td>&lt;TrdCaptRpt RptID=\"380198\" TrdID=\"32785059736\"...</td>\n",
              "      <td>&lt;TrdCaptRpt RptID=\"380199\" TrdID=\"18061000020\"...</td>\n",
              "      <td>&lt;TrdCaptRpt RptID=\"311717\" TrdID=\"32785059736\"...</td>\n",
              "      <td>&lt;TrdCaptRpt RptID=\"311717\" TrdID=\"32785059736\"...</td>\n",
              "    </tr>\n",
              "    <tr>\n",
              "      <th>3</th>\n",
              "      <td>&lt;TrdCaptRpt RptID=\"380198\" TrdID=\"20425984430\"...</td>\n",
              "      <td>&lt;TrdCaptRpt RptID=\"380199\" TrdID=\"18061000020\"...</td>\n",
              "      <td>&lt;TrdCaptRpt RptID=\"16312\" TrdID=\"20425984430\" ...</td>\n",
              "      <td>&lt;TrdCaptRpt RptID=\"16312\" TrdID=\"20425984430\" ...</td>\n",
              "    </tr>\n",
              "    <tr>\n",
              "      <th>4</th>\n",
              "      <td>&lt;TrdCaptRpt RptID=\"380198\" TrdID=\"36945109897\"...</td>\n",
              "      <td>&lt;TrdCaptRpt RptID=\"380199\" TrdID=\"18061000020\"...</td>\n",
              "      <td>&lt;TrdCaptRpt RptID=\"364833\" TrdID=\"36945109897\"...</td>\n",
              "      <td>&lt;TrdCaptRpt RptID=\"364833\" TrdID=\"36945109897\"...</td>\n",
              "    </tr>\n",
              "  </tbody>\n",
              "</table>\n",
              "</div>\n",
              "    <div class=\"colab-df-buttons\">\n",
              "\n",
              "  <div class=\"colab-df-container\">\n",
              "    <button class=\"colab-df-convert\" onclick=\"convertToInteractive('df-7123334f-7a00-4fff-8f22-daa0f084e945')\"\n",
              "            title=\"Convert this dataframe to an interactive table.\"\n",
              "            style=\"display:none;\">\n",
              "\n",
              "  <svg xmlns=\"http://www.w3.org/2000/svg\" height=\"24px\" viewBox=\"0 -960 960 960\">\n",
              "    <path d=\"M120-120v-720h720v720H120Zm60-500h600v-160H180v160Zm220 220h160v-160H400v160Zm0 220h160v-160H400v160ZM180-400h160v-160H180v160Zm440 0h160v-160H620v160ZM180-180h160v-160H180v160Zm440 0h160v-160H620v160Z\"/>\n",
              "  </svg>\n",
              "    </button>\n",
              "\n",
              "  <style>\n",
              "    .colab-df-container {\n",
              "      display:flex;\n",
              "      gap: 12px;\n",
              "    }\n",
              "\n",
              "    .colab-df-convert {\n",
              "      background-color: #E8F0FE;\n",
              "      border: none;\n",
              "      border-radius: 50%;\n",
              "      cursor: pointer;\n",
              "      display: none;\n",
              "      fill: #1967D2;\n",
              "      height: 32px;\n",
              "      padding: 0 0 0 0;\n",
              "      width: 32px;\n",
              "    }\n",
              "\n",
              "    .colab-df-convert:hover {\n",
              "      background-color: #E2EBFA;\n",
              "      box-shadow: 0px 1px 2px rgba(60, 64, 67, 0.3), 0px 1px 3px 1px rgba(60, 64, 67, 0.15);\n",
              "      fill: #174EA6;\n",
              "    }\n",
              "\n",
              "    .colab-df-buttons div {\n",
              "      margin-bottom: 4px;\n",
              "    }\n",
              "\n",
              "    [theme=dark] .colab-df-convert {\n",
              "      background-color: #3B4455;\n",
              "      fill: #D2E3FC;\n",
              "    }\n",
              "\n",
              "    [theme=dark] .colab-df-convert:hover {\n",
              "      background-color: #434B5C;\n",
              "      box-shadow: 0px 1px 3px 1px rgba(0, 0, 0, 0.15);\n",
              "      filter: drop-shadow(0px 1px 2px rgba(0, 0, 0, 0.3));\n",
              "      fill: #FFFFFF;\n",
              "    }\n",
              "  </style>\n",
              "\n",
              "    <script>\n",
              "      const buttonEl =\n",
              "        document.querySelector('#df-7123334f-7a00-4fff-8f22-daa0f084e945 button.colab-df-convert');\n",
              "      buttonEl.style.display =\n",
              "        google.colab.kernel.accessAllowed ? 'block' : 'none';\n",
              "\n",
              "      async function convertToInteractive(key) {\n",
              "        const element = document.querySelector('#df-7123334f-7a00-4fff-8f22-daa0f084e945');\n",
              "        const dataTable =\n",
              "          await google.colab.kernel.invokeFunction('convertToInteractive',\n",
              "                                                    [key], {});\n",
              "        if (!dataTable) return;\n",
              "\n",
              "        const docLinkHtml = 'Like what you see? Visit the ' +\n",
              "          '<a target=\"_blank\" href=https://colab.research.google.com/notebooks/data_table.ipynb>data table notebook</a>'\n",
              "          + ' to learn more about interactive tables.';\n",
              "        element.innerHTML = '';\n",
              "        dataTable['output_type'] = 'display_data';\n",
              "        await google.colab.output.renderOutput(dataTable, element);\n",
              "        const docLink = document.createElement('div');\n",
              "        docLink.innerHTML = docLinkHtml;\n",
              "        element.appendChild(docLink);\n",
              "      }\n",
              "    </script>\n",
              "  </div>\n",
              "\n",
              "\n",
              "<div id=\"df-c790002d-9f1c-4a3b-bd2b-8eb1f2397d28\">\n",
              "  <button class=\"colab-df-quickchart\" onclick=\"quickchart('df-c790002d-9f1c-4a3b-bd2b-8eb1f2397d28')\"\n",
              "            title=\"Suggest charts\"\n",
              "            style=\"display:none;\">\n",
              "\n",
              "<svg xmlns=\"http://www.w3.org/2000/svg\" height=\"24px\"viewBox=\"0 0 24 24\"\n",
              "     width=\"24px\">\n",
              "    <g>\n",
              "        <path d=\"M19 3H5c-1.1 0-2 .9-2 2v14c0 1.1.9 2 2 2h14c1.1 0 2-.9 2-2V5c0-1.1-.9-2-2-2zM9 17H7v-7h2v7zm4 0h-2V7h2v10zm4 0h-2v-4h2v4z\"/>\n",
              "    </g>\n",
              "</svg>\n",
              "  </button>\n",
              "\n",
              "<style>\n",
              "  .colab-df-quickchart {\n",
              "      --bg-color: #E8F0FE;\n",
              "      --fill-color: #1967D2;\n",
              "      --hover-bg-color: #E2EBFA;\n",
              "      --hover-fill-color: #174EA6;\n",
              "      --disabled-fill-color: #AAA;\n",
              "      --disabled-bg-color: #DDD;\n",
              "  }\n",
              "\n",
              "  [theme=dark] .colab-df-quickchart {\n",
              "      --bg-color: #3B4455;\n",
              "      --fill-color: #D2E3FC;\n",
              "      --hover-bg-color: #434B5C;\n",
              "      --hover-fill-color: #FFFFFF;\n",
              "      --disabled-bg-color: #3B4455;\n",
              "      --disabled-fill-color: #666;\n",
              "  }\n",
              "\n",
              "  .colab-df-quickchart {\n",
              "    background-color: var(--bg-color);\n",
              "    border: none;\n",
              "    border-radius: 50%;\n",
              "    cursor: pointer;\n",
              "    display: none;\n",
              "    fill: var(--fill-color);\n",
              "    height: 32px;\n",
              "    padding: 0;\n",
              "    width: 32px;\n",
              "  }\n",
              "\n",
              "  .colab-df-quickchart:hover {\n",
              "    background-color: var(--hover-bg-color);\n",
              "    box-shadow: 0 1px 2px rgba(60, 64, 67, 0.3), 0 1px 3px 1px rgba(60, 64, 67, 0.15);\n",
              "    fill: var(--button-hover-fill-color);\n",
              "  }\n",
              "\n",
              "  .colab-df-quickchart-complete:disabled,\n",
              "  .colab-df-quickchart-complete:disabled:hover {\n",
              "    background-color: var(--disabled-bg-color);\n",
              "    fill: var(--disabled-fill-color);\n",
              "    box-shadow: none;\n",
              "  }\n",
              "\n",
              "  .colab-df-spinner {\n",
              "    border: 2px solid var(--fill-color);\n",
              "    border-color: transparent;\n",
              "    border-bottom-color: var(--fill-color);\n",
              "    animation:\n",
              "      spin 1s steps(1) infinite;\n",
              "  }\n",
              "\n",
              "  @keyframes spin {\n",
              "    0% {\n",
              "      border-color: transparent;\n",
              "      border-bottom-color: var(--fill-color);\n",
              "      border-left-color: var(--fill-color);\n",
              "    }\n",
              "    20% {\n",
              "      border-color: transparent;\n",
              "      border-left-color: var(--fill-color);\n",
              "      border-top-color: var(--fill-color);\n",
              "    }\n",
              "    30% {\n",
              "      border-color: transparent;\n",
              "      border-left-color: var(--fill-color);\n",
              "      border-top-color: var(--fill-color);\n",
              "      border-right-color: var(--fill-color);\n",
              "    }\n",
              "    40% {\n",
              "      border-color: transparent;\n",
              "      border-right-color: var(--fill-color);\n",
              "      border-top-color: var(--fill-color);\n",
              "    }\n",
              "    60% {\n",
              "      border-color: transparent;\n",
              "      border-right-color: var(--fill-color);\n",
              "    }\n",
              "    80% {\n",
              "      border-color: transparent;\n",
              "      border-right-color: var(--fill-color);\n",
              "      border-bottom-color: var(--fill-color);\n",
              "    }\n",
              "    90% {\n",
              "      border-color: transparent;\n",
              "      border-bottom-color: var(--fill-color);\n",
              "    }\n",
              "  }\n",
              "</style>\n",
              "\n",
              "  <script>\n",
              "    async function quickchart(key) {\n",
              "      const quickchartButtonEl =\n",
              "        document.querySelector('#' + key + ' button');\n",
              "      quickchartButtonEl.disabled = true;  // To prevent multiple clicks.\n",
              "      quickchartButtonEl.classList.add('colab-df-spinner');\n",
              "      try {\n",
              "        const charts = await google.colab.kernel.invokeFunction(\n",
              "            'suggestCharts', [key], {});\n",
              "      } catch (error) {\n",
              "        console.error('Error during call to suggestCharts:', error);\n",
              "      }\n",
              "      quickchartButtonEl.classList.remove('colab-df-spinner');\n",
              "      quickchartButtonEl.classList.add('colab-df-quickchart-complete');\n",
              "    }\n",
              "    (() => {\n",
              "      let quickchartButtonEl =\n",
              "        document.querySelector('#df-c790002d-9f1c-4a3b-bd2b-8eb1f2397d28 button');\n",
              "      quickchartButtonEl.style.display =\n",
              "        google.colab.kernel.accessAllowed ? 'block' : 'none';\n",
              "    })();\n",
              "  </script>\n",
              "</div>\n",
              "\n",
              "    </div>\n",
              "  </div>\n"
            ],
            "application/vnd.google.colaboratory.intrinsic+json": {
              "type": "dataframe",
              "variable_name": "df1",
              "summary": "{\n  \"name\": \"df1\",\n  \"rows\": 1000,\n  \"fields\": [\n    {\n      \"column\": \"CCP_Message1\",\n      \"properties\": {\n        \"dtype\": \"string\",\n        \"num_unique_values\": 1000,\n        \"samples\": [\n          \"<TrdCaptRpt RptID=\\\"380198\\\" TrdID=\\\"39839858992\\\" TransTyp=\\\"2\\\" RptTyp=\\\"2\\\" TrdTyp=\\\"0\\\" MtchID=\\\"27649729368\\\" PxTyp=\\\"2\\\" LastQty=\\\"31.0\\\" LastPx=\\\"250.45\\\" TrdDt=\\\"2023-01-05\\\" BizDt=\\\"2023-02-05\\\" TxnTm=\\\"2023-03-20T00:12:55.138-5:00\\\"><Hdr SID=\\\"MGEX\\\" TID=\\\"HBPL\\\" PosDup=\\\"Y\\\" PosRsnd=\\\"Y\\\" Snt=\\\"2023-03-20T00:12:55.160-5:00\\\"></Hdr><Instrmt Sym=\\\"BUI\\\" ID=\\\"LM\\\" Src=\\\"H\\\" CFI=\\\"APYBKL\\\" MMY=\\\"202305\\\" MatDt=\\\"2023-05-15\\\" Mult=\\\"1000\\\" Exch=\\\"HDPL\\\"></Instrmt><RptSide Side=\\\"2\\\" Ccy=\\\"USD\\\" InptSrc=\\\"SY\\\" InptDev=\\\"API\\\" CustCpcty=\\\"1\\\" PosEfct=\\\"O\\\" ClOrdID=\\\"146ZBT\\\" MLegRptTyp=\\\"3\\\" AllocInd=\\\"0\\\"><Pty ID=\\\"MGEX\\\" R=\\\"21\\\"></Pty><Pty ID=\\\"210\\\" R=\\\"1\\\"></Pty><Pty ID=\\\"210\\\" R=\\\"4\\\"></Pty><Pty ID=\\\"Hassen\\\" R=\\\"24\\\"><Sub ID=\\\"1\\\" Typ=\\\"26\\\"></Sub></Pty><Pty ID=\\\"400\\\" R=\\\"12\\\"></Pty><Alloc IndAllocID=\\\"1368901292857489911@HDPL&gt;39839858992FS@20230105||5d135\\\"></Alloc><TrdRegTS TS=\\\"2023-03-20T10:18:15.100-5:00\\\" Typ=\\\"1\\\"></TrdRegTS></RptSide></TrdCaptRpt>\",\n          \"<TrdCaptRpt RptID=\\\"380198\\\" TrdID=\\\"22301545467\\\" TransTyp=\\\"2\\\" RptTyp=\\\"2\\\" TrdTyp=\\\"29\\\" MtchID=\\\"29584296168\\\" PxTyp=\\\"2\\\" LastQty=\\\"30.0\\\" LastPx=\\\"3590.59\\\" TrdDt=\\\"2022-12-17\\\" BizDt=\\\"2023-01-06\\\" TxnTm=\\\"2023-03-20T00:12:55.138-6:00\\\"><Hdr SID=\\\"MGEX\\\" TID=\\\"HBPL\\\" PosDup=\\\"Y\\\" PosRsnd=\\\"N\\\" Snt=\\\"2023-03-20T00:12:55.160-6:00\\\"></Hdr><Instrmt Sym=\\\"TMP\\\" ID=\\\"B\\\" Src=\\\"H\\\" CFI=\\\"FCCPXX\\\" MMY=\\\"202310\\\" MatDt=\\\"2023-10-23\\\" Mult=\\\"0.2\\\" Exch=\\\"BTNL\\\"></Instrmt><RptSide Side=\\\"2\\\" Ccy=\\\"USD\\\" InptSrc=\\\"MA\\\" InptDev=\\\"API\\\" CustCpcty=\\\"2\\\" PosEfct=\\\"C\\\" ClOrdID=\\\"245BTN\\\" MLegRptTyp=\\\"3\\\" AllocInd=\\\"0\\\"><Pty ID=\\\"MGEX\\\" R=\\\"21\\\"></Pty><Pty ID=\\\"210\\\" R=\\\"1\\\"></Pty><Pty ID=\\\"210\\\" R=\\\"4\\\"></Pty><Pty ID=\\\"arij\\\" R=\\\"24\\\"><Sub ID=\\\"2\\\" Typ=\\\"26\\\"></Sub></Pty><Pty ID=\\\"A123\\\" R=\\\"12\\\"></Pty><Alloc IndAllocID=\\\"1377074409007447049@BTNL&gt;22301545467FS@20221217||ckpla\\\"></Alloc><TrdRegTS TS=\\\"2023-03-20T16:40:55.100-6:00\\\" Typ=\\\"1\\\"></TrdRegTS></RptSide></TrdCaptRpt>\",\n          \"<TrdCaptRpt RptID=\\\"380198\\\" TrdID=\\\"29347201620\\\" TransTyp=\\\"2\\\" RptTyp=\\\"2\\\" TrdTyp=\\\"29\\\" MtchID=\\\"26206748973\\\" PxTyp=\\\"10\\\" LastQty=\\\"47.0\\\" LastPx=\\\"3590.59\\\" TrdDt=\\\"2022-12-17\\\" BizDt=\\\"2023-01-06\\\" TxnTm=\\\"2023-03-30T00:12:55.138-7:00\\\"><Hdr SID=\\\"MGEX\\\" TID=\\\"ABCD\\\" PosDup=\\\"N\\\" PosRsnd=\\\"N\\\" Snt=\\\"2023-03-30T00:12:55.160-7:00\\\"></Hdr><Instrmt Sym=\\\"TMP\\\" ID=\\\"AS\\\" Src=\\\"H\\\" CFI=\\\"APYBKL\\\" MMY=\\\"202310\\\" MatDt=\\\"2023-10-6\\\" Mult=\\\"0.2\\\" Exch=\\\"BTNL\\\"></Instrmt><RptSide Side=\\\"1\\\" Ccy=\\\"USD\\\" InptSrc=\\\"EL\\\" InptDev=\\\"API\\\" CustCpcty=\\\"1\\\" PosEfct=\\\"C\\\" ClOrdID=\\\"145\\\" MLegRptTyp=\\\"3\\\" AllocInd=\\\"0\\\"><Pty ID=\\\"MGEX\\\" R=\\\"21\\\"></Pty><Pty ID=\\\"210\\\" R=\\\"1\\\"></Pty><Pty ID=\\\"210\\\" R=\\\"4\\\"></Pty><Pty ID=\\\"Hassen\\\" R=\\\"24\\\"><Sub ID=\\\"2\\\" Typ=\\\"26\\\"></Sub></Pty><Pty ID=\\\"B115\\\" R=\\\"12\\\"></Pty><Alloc IndAllocID=\\\"1972895200133532971@BTNL&gt;29347201620FS@20221217||ckpla\\\"></Alloc><TrdRegTS TS=\\\"2023-03-30T05:17:30.100-7:00\\\" Typ=\\\"1\\\"></TrdRegTS></RptSide></TrdCaptRpt>\"\n        ],\n        \"semantic_type\": \"\",\n        \"description\": \"\"\n      }\n    },\n    {\n      \"column\": \"CCP_Message2\",\n      \"properties\": {\n        \"dtype\": \"string\",\n        \"num_unique_values\": 1000,\n        \"samples\": [\n          \"<TrdCaptRpt RptID=\\\"380199\\\" TrdID=\\\"18061000020\\\" TransTyp=\\\"0\\\" RptTyp=\\\"2\\\" TrdTyp=\\\"0\\\" OrigTrdID=\\\"39839858992\\\" MtchID=\\\"27649729368\\\" PxTyp=\\\"2\\\" LastQty=\\\"20.0\\\" LastPx=\\\"250.45\\\" TrdDt=\\\"2023-01-05\\\" BizDt=\\\"2023-02-05\\\" TxnTm=\\\"2023-03-20T00:12:55.138-5:00\\\"><Hdr SID=\\\"MGEX\\\" TID=\\\"HBPL\\\" PosDup=\\\"Y\\\" PosRsnd=\\\"Y\\\" Snt=\\\"2023-03-20T00:12:55.160-5:00\\\"></Hdr><Instrmt Sym=\\\"BUI\\\" ID=\\\"LM\\\" Src=\\\"H\\\" CFI=\\\"APYBKL\\\" MMY=\\\"202305\\\" MatDt=\\\"2023-05-15\\\" Mult=\\\"1000\\\" Exch=\\\"HDPL\\\"></Instrmt><RptSide Side=\\\"2\\\" Ccy=\\\"USD\\\" InptSrc=\\\"SY\\\" InptDev=\\\"API\\\" CustCpcty=\\\"3\\\" PosEfct=\\\"O\\\" ClOrdID=\\\"146ZBT\\\" MLegRptTyp=\\\"3\\\" AllocInd=\\\"0\\\"><Pty ID=\\\"MGEX\\\" R=\\\"21\\\"></Pty><Pty ID=\\\"210\\\" R=\\\"1\\\"></Pty><Pty ID=\\\"210\\\" R=\\\"4\\\"></Pty><Pty ID=\\\"najet\\\" R=\\\"24\\\"><Sub ID=\\\"1\\\" Typ=\\\"26\\\"></Sub></Pty><Pty ID=\\\"400\\\" R=\\\"12\\\"></Pty><Alloc IndAllocID=\\\"1368901292857489911@HDPL&gt;39839858992FS@20230105||c2537\\\"></Alloc><TrdRegTS TS=\\\"2023-03-20T10:18:15.100-5:00\\\" Typ=\\\"1\\\"></TrdRegTS></RptSide></TrdCaptRpt>\",\n          \"<TrdCaptRpt RptID=\\\"380199\\\" TrdID=\\\"18061000020\\\" TransTyp=\\\"0\\\" RptTyp=\\\"2\\\" TrdTyp=\\\"29\\\" OrigTrdID=\\\"22301545467\\\" MtchID=\\\"29584296168\\\" PxTyp=\\\"2\\\" LastQty=\\\"46.0\\\" LastPx=\\\"3590.59\\\" TrdDt=\\\"2022-12-17\\\" BizDt=\\\"2023-01-06\\\" TxnTm=\\\"2023-03-20T00:12:55.138-6:00\\\"><Hdr SID=\\\"MGEX\\\" TID=\\\"HBPL\\\" PosDup=\\\"Y\\\" PosRsnd=\\\"N\\\" Snt=\\\"2023-03-20T00:12:55.160-6:00\\\"></Hdr><Instrmt Sym=\\\"TMP\\\" ID=\\\"B\\\" Src=\\\"H\\\" CFI=\\\"FCCPXX\\\" MMY=\\\"202310\\\" MatDt=\\\"2023-10-23\\\" Mult=\\\"0.2\\\" Exch=\\\"BTNL\\\"></Instrmt><RptSide Side=\\\"2\\\" Ccy=\\\"USD\\\" InptSrc=\\\"MA\\\" InptDev=\\\"API\\\" CustCpcty=\\\"4\\\" PosEfct=\\\"C\\\" ClOrdID=\\\"245BTN\\\" MLegRptTyp=\\\"3\\\" AllocInd=\\\"0\\\"><Pty ID=\\\"MGEX\\\" R=\\\"21\\\"></Pty><Pty ID=\\\"210\\\" R=\\\"1\\\"></Pty><Pty ID=\\\"210\\\" R=\\\"4\\\"></Pty><Pty ID=\\\"FIRMACT2\\\" R=\\\"24\\\"><Sub ID=\\\"2\\\" Typ=\\\"26\\\"></Sub></Pty><Pty ID=\\\"A123\\\" R=\\\"12\\\"></Pty><Alloc IndAllocID=\\\"1377074409007447049@BTNL&gt;22301545467FS@20221217||c2537\\\"></Alloc><TrdRegTS TS=\\\"2023-03-20T16:40:55.100-6:00\\\" Typ=\\\"1\\\"></TrdRegTS></RptSide></TrdCaptRpt>\",\n          \"<TrdCaptRpt RptID=\\\"380199\\\" TrdID=\\\"18061000020\\\" TransTyp=\\\"0\\\" RptTyp=\\\"2\\\" TrdTyp=\\\"29\\\" OrigTrdID=\\\"29347201620\\\" MtchID=\\\"26206748973\\\" PxTyp=\\\"10\\\" LastQty=\\\"5.0\\\" LastPx=\\\"3590.59\\\" TrdDt=\\\"2022-12-17\\\" BizDt=\\\"2023-01-06\\\" TxnTm=\\\"2023-03-30T00:12:55.138-7:00\\\"><Hdr SID=\\\"MGEX\\\" TID=\\\"ABCD\\\" PosDup=\\\"N\\\" PosRsnd=\\\"N\\\" Snt=\\\"2023-03-30T00:12:55.160-7:00\\\"></Hdr><Instrmt Sym=\\\"TMP\\\" ID=\\\"AS\\\" Src=\\\"H\\\" CFI=\\\"APYBKL\\\" MMY=\\\"202310\\\" MatDt=\\\"2023-10-6\\\" Mult=\\\"0.2\\\" Exch=\\\"BTNL\\\"></Instrmt><RptSide Side=\\\"1\\\" Ccy=\\\"USD\\\" InptSrc=\\\"EL\\\" InptDev=\\\"API\\\" CustCpcty=\\\"2\\\" PosEfct=\\\"C\\\" ClOrdID=\\\"145\\\" MLegRptTyp=\\\"3\\\" AllocInd=\\\"0\\\"><Pty ID=\\\"MGEX\\\" R=\\\"21\\\"></Pty><Pty ID=\\\"210\\\" R=\\\"1\\\"></Pty><Pty ID=\\\"210\\\" R=\\\"4\\\"></Pty><Pty ID=\\\"najet\\\" R=\\\"24\\\"><Sub ID=\\\"2\\\" Typ=\\\"26\\\"></Sub></Pty><Pty ID=\\\"B115\\\" R=\\\"12\\\"></Pty><Alloc IndAllocID=\\\"1972895200133532971@BTNL&gt;29347201620FS@20221217||el8ab\\\"></Alloc><TrdRegTS TS=\\\"2023-03-30T05:17:30.100-7:00\\\" Typ=\\\"1\\\"></TrdRegTS></RptSide></TrdCaptRpt>\"\n        ],\n        \"semantic_type\": \"\",\n        \"description\": \"\"\n      }\n    },\n    {\n      \"column\": \"input_message1\",\n      \"properties\": {\n        \"dtype\": \"string\",\n        \"num_unique_values\": 1000,\n        \"samples\": [\n          \"<TrdCaptRpt RptID=\\\"94015\\\" TrdID=\\\"39839858992\\\" TransTyp=\\\"0\\\" RptTyp=\\\"2\\\" TrdTyp=\\\"0\\\" MtchID=\\\"27649729368\\\" PxTyp=\\\"2\\\" LastQty=\\\"51\\\" LastPx=\\\"250.45\\\" TrdDt=\\\"2023-01-05\\\" BizDt=\\\"2023-02-05\\\" TxnTm=\\\"2023-03-20T10:18:15.100-5:00\\\"><Hdr SID=\\\"MGEX\\\" TID=\\\"HBPL\\\" PosDup=\\\"Y\\\" PosRsnd=\\\"Y\\\" Snt=\\\"2023-03-20T10:18:15.350-5:00\\\"></Hdr><Instrmt Sym=\\\"BUI\\\" ID=\\\"LM\\\" Src=\\\"H\\\" CFI=\\\"APYBKL\\\" MMY=\\\"202305\\\" MatDt=\\\"2023-05-15\\\" Mult=\\\"1000\\\" Exch=\\\"HDPL\\\"></Instrmt><RptSide Side=\\\"2\\\" Ccy=\\\"USD\\\" InptSrc=\\\"SY\\\" InptDev=\\\"PORTAL\\\" CustCpcty=\\\"3\\\" PosEfct=\\\"O\\\" ClOrdID=\\\"146ZBT\\\" MLegRptTyp=\\\"3\\\" AllocInd=\\\"0\\\"><Pty ID=\\\"MGEX\\\" R=\\\"21\\\"></Pty><Pty ID=\\\"210\\\" R=\\\"1\\\"></Pty><Pty ID=\\\"210\\\" R=\\\"4\\\"></Pty><Pty ID=\\\"Mohamed-300\\\" R=\\\"24\\\"><Sub ID=\\\"1\\\" Typ=\\\"26\\\"></Sub></Pty><Pty ID=\\\"400\\\" R=\\\"12\\\"></Pty><TrdRegTS TS=\\\"2023-03-20T10:18:15.100-5:00\\\" Typ=\\\"1\\\"></TrdRegTS></RptSide></TrdCaptRpt> <Alloc Qty=\\\"31.0\\\" CustCpcty=\\\"1\\\" IndAllocID=\\\"1368901292857489911@HDPL&gt;39839858992FS@20230105||5d135\\\"><Pty ID=\\\"Hassen\\\" R=\\\"24\\\"><Sub ID=\\\"1\\\" Typ=\\\"26\\\" /></Pty></Alloc>\",\n          \"<TrdCaptRpt RptID=\\\"127213\\\" TrdID=\\\"22301545467\\\" TransTyp=\\\"0\\\" RptTyp=\\\"2\\\" TrdTyp=\\\"29\\\" MtchID=\\\"29584296168\\\" PxTyp=\\\"2\\\" LastQty=\\\"76\\\" LastPx=\\\"3590.59\\\" TrdDt=\\\"2022-12-17\\\" BizDt=\\\"2023-01-06\\\" TxnTm=\\\"2023-03-20T16:40:55.100-6:00\\\"><Hdr SID=\\\"MGEX\\\" TID=\\\"HBPL\\\" PosDup=\\\"Y\\\" PosRsnd=\\\"N\\\" Snt=\\\"2023-03-20T16:40:55.350-6:00\\\"></Hdr><Instrmt Sym=\\\"TMP\\\" ID=\\\"B\\\" Src=\\\"H\\\" CFI=\\\"FCCPXX\\\" MMY=\\\"202310\\\" MatDt=\\\"2023-10-23\\\" Mult=\\\"0.2\\\" Exch=\\\"BTNL\\\"></Instrmt><RptSide Side=\\\"2\\\" Ccy=\\\"USD\\\" InptSrc=\\\"MA\\\" InptDev=\\\"API\\\" CustCpcty=\\\"3\\\" PosEfct=\\\"C\\\" ClOrdID=\\\"245BTN\\\" MLegRptTyp=\\\"3\\\" AllocInd=\\\"0\\\"><Pty ID=\\\"MGEX\\\" R=\\\"21\\\"></Pty><Pty ID=\\\"210\\\" R=\\\"1\\\"></Pty><Pty ID=\\\"210\\\" R=\\\"4\\\"></Pty><Pty ID=\\\"Mohamed-300\\\" R=\\\"24\\\"><Sub ID=\\\"2\\\" Typ=\\\"26\\\"></Sub></Pty><Pty ID=\\\"A123\\\" R=\\\"12\\\"></Pty><TrdRegTS TS=\\\"2023-03-20T16:40:55.100-6:00\\\" Typ=\\\"1\\\"></TrdRegTS></RptSide></TrdCaptRpt> <Alloc Qty=\\\"30.0\\\" CustCpcty=\\\"2\\\" IndAllocID=\\\"1377074409007447049@BTNL&gt;22301545467FS@20221217||ckpla\\\"><Pty ID=\\\"arij\\\" R=\\\"24\\\"><Sub ID=\\\"2\\\" Typ=\\\"26\\\" /></Pty></Alloc>\",\n          \"<TrdCaptRpt RptID=\\\"36622\\\" TrdID=\\\"29347201620\\\" TransTyp=\\\"0\\\" RptTyp=\\\"2\\\" TrdTyp=\\\"29\\\" MtchID=\\\"26206748973\\\" PxTyp=\\\"10\\\" LastQty=\\\"52\\\" LastPx=\\\"3590.59\\\" TrdDt=\\\"2022-12-17\\\" BizDt=\\\"2023-01-06\\\" TxnTm=\\\"2023-03-30T05:17:30.100-7:00\\\"><Hdr SID=\\\"MGEX\\\" TID=\\\"ABCD\\\" PosDup=\\\"N\\\" PosRsnd=\\\"N\\\" Snt=\\\"2023-03-30T05:17:30.768-7:00\\\"></Hdr><Instrmt Sym=\\\"TMP\\\" ID=\\\"AS\\\" Src=\\\"H\\\" CFI=\\\"APYBKL\\\" MMY=\\\"202310\\\" MatDt=\\\"2023-10-6\\\" Mult=\\\"0.2\\\" Exch=\\\"BTNL\\\"></Instrmt><RptSide Side=\\\"1\\\" Ccy=\\\"USD\\\" InptSrc=\\\"EL\\\" InptDev=\\\"EXCHANGE\\\" CustCpcty=\\\"4\\\" PosEfct=\\\"C\\\" ClOrdID=\\\"145\\\" MLegRptTyp=\\\"3\\\" AllocInd=\\\"0\\\"><Pty ID=\\\"MGEX\\\" R=\\\"21\\\"></Pty><Pty ID=\\\"210\\\" R=\\\"1\\\"></Pty><Pty ID=\\\"210\\\" R=\\\"4\\\"></Pty><Pty ID=\\\"acc-AT\\\" R=\\\"24\\\"><Sub ID=\\\"2\\\" Typ=\\\"26\\\"></Sub></Pty><Pty ID=\\\"B115\\\" R=\\\"12\\\"></Pty><TrdRegTS TS=\\\"2023-03-30T05:17:30.100-7:00\\\" Typ=\\\"1\\\"></TrdRegTS></RptSide></TrdCaptRpt> <Alloc Qty=\\\"47.0\\\" CustCpcty=\\\"1\\\" IndAllocID=\\\"1972895200133532971@BTNL&gt;29347201620FS@20221217||ckpla\\\"><Pty ID=\\\"Hassen\\\" R=\\\"24\\\"><Sub ID=\\\"2\\\" Typ=\\\"26\\\" /></Pty></Alloc>\"\n        ],\n        \"semantic_type\": \"\",\n        \"description\": \"\"\n      }\n    },\n    {\n      \"column\": \"input_message2\",\n      \"properties\": {\n        \"dtype\": \"string\",\n        \"num_unique_values\": 1000,\n        \"samples\": [\n          \"<TrdCaptRpt RptID=\\\"94015\\\" TrdID=\\\"39839858992\\\" TransTyp=\\\"0\\\" RptTyp=\\\"2\\\" TrdTyp=\\\"0\\\" MtchID=\\\"27649729368\\\" PxTyp=\\\"2\\\" LastQty=\\\"51\\\" LastPx=\\\"250.45\\\" TrdDt=\\\"2023-01-05\\\" BizDt=\\\"2023-02-05\\\" TxnTm=\\\"2023-03-20T10:18:15.100-5:00\\\"><Hdr SID=\\\"MGEX\\\" TID=\\\"HBPL\\\" PosDup=\\\"Y\\\" PosRsnd=\\\"Y\\\" Snt=\\\"2023-03-20T10:18:15.350-5:00\\\"></Hdr><Instrmt Sym=\\\"BUI\\\" ID=\\\"LM\\\" Src=\\\"H\\\" CFI=\\\"APYBKL\\\" MMY=\\\"202305\\\" MatDt=\\\"2023-05-15\\\" Mult=\\\"1000\\\" Exch=\\\"HDPL\\\"></Instrmt><RptSide Side=\\\"2\\\" Ccy=\\\"USD\\\" InptSrc=\\\"SY\\\" InptDev=\\\"PORTAL\\\" CustCpcty=\\\"3\\\" PosEfct=\\\"O\\\" ClOrdID=\\\"146ZBT\\\" MLegRptTyp=\\\"3\\\" AllocInd=\\\"0\\\"><Pty ID=\\\"MGEX\\\" R=\\\"21\\\"></Pty><Pty ID=\\\"210\\\" R=\\\"1\\\"></Pty><Pty ID=\\\"210\\\" R=\\\"4\\\"></Pty><Pty ID=\\\"Mohamed-300\\\" R=\\\"24\\\"><Sub ID=\\\"1\\\" Typ=\\\"26\\\"></Sub></Pty><Pty ID=\\\"400\\\" R=\\\"12\\\"></Pty><TrdRegTS TS=\\\"2023-03-20T10:18:15.100-5:00\\\" Typ=\\\"1\\\"></TrdRegTS></RptSide></TrdCaptRpt> <Alloc Qty=\\\"20.0\\\" CustCpcty=\\\"3\\\" IndAllocID=\\\"1368901292857489911@HDPL&gt;39839858992FS@20230105||c2537\\\"><Pty ID=\\\"najet\\\" R=\\\"24\\\"><Sub ID=\\\"1\\\" Typ=\\\"26\\\" /></Pty></Alloc>\",\n          \"<TrdCaptRpt RptID=\\\"127213\\\" TrdID=\\\"22301545467\\\" TransTyp=\\\"0\\\" RptTyp=\\\"2\\\" TrdTyp=\\\"29\\\" MtchID=\\\"29584296168\\\" PxTyp=\\\"2\\\" LastQty=\\\"76\\\" LastPx=\\\"3590.59\\\" TrdDt=\\\"2022-12-17\\\" BizDt=\\\"2023-01-06\\\" TxnTm=\\\"2023-03-20T16:40:55.100-6:00\\\"><Hdr SID=\\\"MGEX\\\" TID=\\\"HBPL\\\" PosDup=\\\"Y\\\" PosRsnd=\\\"N\\\" Snt=\\\"2023-03-20T16:40:55.350-6:00\\\"></Hdr><Instrmt Sym=\\\"TMP\\\" ID=\\\"B\\\" Src=\\\"H\\\" CFI=\\\"FCCPXX\\\" MMY=\\\"202310\\\" MatDt=\\\"2023-10-23\\\" Mult=\\\"0.2\\\" Exch=\\\"BTNL\\\"></Instrmt><RptSide Side=\\\"2\\\" Ccy=\\\"USD\\\" InptSrc=\\\"MA\\\" InptDev=\\\"API\\\" CustCpcty=\\\"3\\\" PosEfct=\\\"C\\\" ClOrdID=\\\"245BTN\\\" MLegRptTyp=\\\"3\\\" AllocInd=\\\"0\\\"><Pty ID=\\\"MGEX\\\" R=\\\"21\\\"></Pty><Pty ID=\\\"210\\\" R=\\\"1\\\"></Pty><Pty ID=\\\"210\\\" R=\\\"4\\\"></Pty><Pty ID=\\\"Mohamed-300\\\" R=\\\"24\\\"><Sub ID=\\\"2\\\" Typ=\\\"26\\\"></Sub></Pty><Pty ID=\\\"A123\\\" R=\\\"12\\\"></Pty><TrdRegTS TS=\\\"2023-03-20T16:40:55.100-6:00\\\" Typ=\\\"1\\\"></TrdRegTS></RptSide></TrdCaptRpt> <Alloc Qty=\\\"46.0\\\" CustCpcty=\\\"4\\\" IndAllocID=\\\"1377074409007447049@BTNL&gt;22301545467FS@20221217||c2537\\\"><Pty ID=\\\"FIRMACT2\\\" R=\\\"24\\\"><Sub ID=\\\"2\\\" Typ=\\\"26\\\" /></Pty></Alloc>\",\n          \"<TrdCaptRpt RptID=\\\"36622\\\" TrdID=\\\"29347201620\\\" TransTyp=\\\"0\\\" RptTyp=\\\"2\\\" TrdTyp=\\\"29\\\" MtchID=\\\"26206748973\\\" PxTyp=\\\"10\\\" LastQty=\\\"52\\\" LastPx=\\\"3590.59\\\" TrdDt=\\\"2022-12-17\\\" BizDt=\\\"2023-01-06\\\" TxnTm=\\\"2023-03-30T05:17:30.100-7:00\\\"><Hdr SID=\\\"MGEX\\\" TID=\\\"ABCD\\\" PosDup=\\\"N\\\" PosRsnd=\\\"N\\\" Snt=\\\"2023-03-30T05:17:30.768-7:00\\\"></Hdr><Instrmt Sym=\\\"TMP\\\" ID=\\\"AS\\\" Src=\\\"H\\\" CFI=\\\"APYBKL\\\" MMY=\\\"202310\\\" MatDt=\\\"2023-10-6\\\" Mult=\\\"0.2\\\" Exch=\\\"BTNL\\\"></Instrmt><RptSide Side=\\\"1\\\" Ccy=\\\"USD\\\" InptSrc=\\\"EL\\\" InptDev=\\\"EXCHANGE\\\" CustCpcty=\\\"4\\\" PosEfct=\\\"C\\\" ClOrdID=\\\"145\\\" MLegRptTyp=\\\"3\\\" AllocInd=\\\"0\\\"><Pty ID=\\\"MGEX\\\" R=\\\"21\\\"></Pty><Pty ID=\\\"210\\\" R=\\\"1\\\"></Pty><Pty ID=\\\"210\\\" R=\\\"4\\\"></Pty><Pty ID=\\\"acc-AT\\\" R=\\\"24\\\"><Sub ID=\\\"2\\\" Typ=\\\"26\\\"></Sub></Pty><Pty ID=\\\"B115\\\" R=\\\"12\\\"></Pty><TrdRegTS TS=\\\"2023-03-30T05:17:30.100-7:00\\\" Typ=\\\"1\\\"></TrdRegTS></RptSide></TrdCaptRpt> <Alloc Qty=\\\"5.0\\\" CustCpcty=\\\"2\\\" IndAllocID=\\\"1972895200133532971@BTNL&gt;29347201620FS@20221217||el8ab\\\"><Pty ID=\\\"najet\\\" R=\\\"24\\\"><Sub ID=\\\"2\\\" Typ=\\\"26\\\" /></Pty></Alloc>\"\n        ],\n        \"semantic_type\": \"\",\n        \"description\": \"\"\n      }\n    }\n  ]\n}"
            }
          },
          "metadata": {},
          "execution_count": 79
        }
      ]
    },
    {
      "cell_type": "code",
      "source": [
        "df1.iloc[0]['input_message1']"
      ],
      "metadata": {
        "colab": {
          "base_uri": "https://localhost:8080/",
          "height": 122
        },
        "id": "7i5XDwA3J3M_",
        "outputId": "eb4058d5-49e7-4a73-9298-e04e04bef6f3"
      },
      "execution_count": null,
      "outputs": [
        {
          "output_type": "execute_result",
          "data": {
            "text/plain": [
              "'<TrdCaptRpt RptID=\"136826\" TrdID=\"35740661331\" TransTyp=\"0\" RptTyp=\"2\" TrdTyp=\"3\" MtchID=\"22138400181\" PxTyp=\"2\" LastQty=\"40\" LastPx=\"3590.59\" TrdDt=\"2022-12-17\" BizDt=\"2023-01-11\" TxnTm=\"2023-02-15T12:25:13.230-7:00\"><Hdr SID=\"MGEX\" TID=\"TL98\" PosDup=\"Y\" PosRsnd=\"N\" Snt=\"2023-02-15T12:25:13.350-7:00\"></Hdr><Instrmt Sym=\"ABP\" ID=\"BUI\" Src=\"H\" CFI=\"APYBKL\" MMY=\"202310\" MatDt=\"2023-10-2\" Mult=\"0.9\" Exch=\"BTNL\"></Instrmt><RptSide Side=\"2\" Ccy=\"USD\" InptSrc=\"MA\" InptDev=\"API\" CustCpcty=\"1\" PosEfct=\"C\" ClOrdID=\"987NL\" MLegRptTyp=\"2\" AllocInd=\"0\"><Pty ID=\"MGEX\" R=\"21\"></Pty><Pty ID=\"210\" R=\"1\"></Pty><Pty ID=\"210\" R=\"4\"></Pty><Pty ID=\"Karim-200\" R=\"24\"><Sub ID=\"2\" Typ=\"26\"></Sub></Pty><Pty ID=\"100\" R=\"12\"></Pty><TrdRegTS TS=\"2023-02-15T12:25:13.230-7:00\" Typ=\"1\"></TrdRegTS></RptSide></TrdCaptRpt> <Alloc Qty=\"25.0\" CustCpcty=\"2\" IndAllocID=\"1938463012888430837@BTNL&gt;35740661331FS@20221217||5d135\"><Pty ID=\"Ahlem\" R=\"24\"><Sub ID=\"2\" Typ=\"26\" /></Pty></Alloc>'"
            ],
            "application/vnd.google.colaboratory.intrinsic+json": {
              "type": "string"
            }
          },
          "metadata": {},
          "execution_count": 80
        }
      ]
    },
    {
      "cell_type": "code",
      "source": [
        "df1.iloc[0]['input_message2']"
      ],
      "metadata": {
        "colab": {
          "base_uri": "https://localhost:8080/",
          "height": 122
        },
        "id": "7bbJDzsdKD_G",
        "outputId": "f2259963-28e8-4167-894f-52510882ea9a"
      },
      "execution_count": null,
      "outputs": [
        {
          "output_type": "execute_result",
          "data": {
            "text/plain": [
              "'<TrdCaptRpt RptID=\"136826\" TrdID=\"35740661331\" TransTyp=\"0\" RptTyp=\"2\" TrdTyp=\"3\" MtchID=\"22138400181\" PxTyp=\"2\" LastQty=\"40\" LastPx=\"3590.59\" TrdDt=\"2022-12-17\" BizDt=\"2023-01-11\" TxnTm=\"2023-02-15T12:25:13.230-7:00\"><Hdr SID=\"MGEX\" TID=\"TL98\" PosDup=\"Y\" PosRsnd=\"N\" Snt=\"2023-02-15T12:25:13.350-7:00\"></Hdr><Instrmt Sym=\"ABP\" ID=\"BUI\" Src=\"H\" CFI=\"APYBKL\" MMY=\"202310\" MatDt=\"2023-10-2\" Mult=\"0.9\" Exch=\"BTNL\"></Instrmt><RptSide Side=\"2\" Ccy=\"USD\" InptSrc=\"MA\" InptDev=\"API\" CustCpcty=\"1\" PosEfct=\"C\" ClOrdID=\"987NL\" MLegRptTyp=\"2\" AllocInd=\"0\"><Pty ID=\"MGEX\" R=\"21\"></Pty><Pty ID=\"210\" R=\"1\"></Pty><Pty ID=\"210\" R=\"4\"></Pty><Pty ID=\"Karim-200\" R=\"24\"><Sub ID=\"2\" Typ=\"26\"></Sub></Pty><Pty ID=\"100\" R=\"12\"></Pty><TrdRegTS TS=\"2023-02-15T12:25:13.230-7:00\" Typ=\"1\"></TrdRegTS></RptSide></TrdCaptRpt> <Alloc Qty=\"15.0\" CustCpcty=\"2\" IndAllocID=\"1938463012888430837@BTNL&gt;35740661331FS@20221217||c2537\"><Pty ID=\"5cot9\" R=\"24\"><Sub ID=\"2\" Typ=\"26\" /></Pty></Alloc>'"
            ],
            "application/vnd.google.colaboratory.intrinsic+json": {
              "type": "string"
            }
          },
          "metadata": {},
          "execution_count": 81
        }
      ]
    },
    {
      "cell_type": "markdown",
      "source": [
        "**Cleaning the input_message1 and the input_message2 by removing certain special characters (<, \\ ,\", /) and Replacing > with a space**"
      ],
      "metadata": {
        "id": "_x6dLRN8Oyv-"
      }
    },
    {
      "cell_type": "code",
      "source": [
        "import re"
      ],
      "metadata": {
        "id": "e0QlqAF-KJrA"
      },
      "execution_count": null,
      "outputs": []
    },
    {
      "cell_type": "code",
      "source": [
        "def clean_sequence(input_seq):\n",
        "    pattern = r'[<\\\"/]'\n",
        "    cleaned_seq1 = re.sub(pattern, '', input_seq)\n",
        "    cleaned_seq = cleaned_seq1.replace('>',' ')\n",
        "    return cleaned_seq"
      ],
      "metadata": {
        "id": "ZRNmJKrvKSNe"
      },
      "execution_count": null,
      "outputs": []
    },
    {
      "cell_type": "code",
      "source": [
        "df2 = df1.copy()"
      ],
      "metadata": {
        "id": "QHkBeu1DKfl_"
      },
      "execution_count": null,
      "outputs": []
    },
    {
      "cell_type": "code",
      "source": [
        "df2['cleaned_input_message1'] = df2['input_message1'].apply(clean_sequence)\n",
        "df2['cleaned_input_message2'] = df2['input_message2'].apply(clean_sequence)\n",
        "df2 = df2.drop(['input_message1','input_message2'],axis=1)"
      ],
      "metadata": {
        "id": "KNheAyVPKsEu"
      },
      "execution_count": null,
      "outputs": []
    },
    {
      "cell_type": "code",
      "source": [
        "df2.head()"
      ],
      "metadata": {
        "colab": {
          "base_uri": "https://localhost:8080/",
          "height": 293
        },
        "id": "j6PJzhPCLPJ1",
        "outputId": "0c13eabd-0bf6-417e-84ac-e9a39379a64e"
      },
      "execution_count": null,
      "outputs": [
        {
          "output_type": "execute_result",
          "data": {
            "text/plain": [
              "                                        CCP_Message1  \\\n",
              "0  <TrdCaptRpt RptID=\"380198\" TrdID=\"35740661331\"...   \n",
              "1  <TrdCaptRpt RptID=\"380198\" TrdID=\"24981651263\"...   \n",
              "2  <TrdCaptRpt RptID=\"380198\" TrdID=\"32785059736\"...   \n",
              "3  <TrdCaptRpt RptID=\"380198\" TrdID=\"20425984430\"...   \n",
              "4  <TrdCaptRpt RptID=\"380198\" TrdID=\"36945109897\"...   \n",
              "\n",
              "                                        CCP_Message2  \\\n",
              "0  <TrdCaptRpt RptID=\"380199\" TrdID=\"18061000020\"...   \n",
              "1  <TrdCaptRpt RptID=\"380199\" TrdID=\"18061000020\"...   \n",
              "2  <TrdCaptRpt RptID=\"380199\" TrdID=\"18061000020\"...   \n",
              "3  <TrdCaptRpt RptID=\"380199\" TrdID=\"18061000020\"...   \n",
              "4  <TrdCaptRpt RptID=\"380199\" TrdID=\"18061000020\"...   \n",
              "\n",
              "                              cleaned_input_message1  \\\n",
              "0  TrdCaptRpt RptID=136826 TrdID=35740661331 Tran...   \n",
              "1  TrdCaptRpt RptID=350087 TrdID=24981651263 Tran...   \n",
              "2  TrdCaptRpt RptID=311717 TrdID=32785059736 Tran...   \n",
              "3  TrdCaptRpt RptID=16312 TrdID=20425984430 Trans...   \n",
              "4  TrdCaptRpt RptID=364833 TrdID=36945109897 Tran...   \n",
              "\n",
              "                              cleaned_input_message2  \n",
              "0  TrdCaptRpt RptID=136826 TrdID=35740661331 Tran...  \n",
              "1  TrdCaptRpt RptID=350087 TrdID=24981651263 Tran...  \n",
              "2  TrdCaptRpt RptID=311717 TrdID=32785059736 Tran...  \n",
              "3  TrdCaptRpt RptID=16312 TrdID=20425984430 Trans...  \n",
              "4  TrdCaptRpt RptID=364833 TrdID=36945109897 Tran...  "
            ],
            "text/html": [
              "\n",
              "  <div id=\"df-6b8867c4-6d43-4734-b3a3-b0538df28feb\" class=\"colab-df-container\">\n",
              "    <div>\n",
              "<style scoped>\n",
              "    .dataframe tbody tr th:only-of-type {\n",
              "        vertical-align: middle;\n",
              "    }\n",
              "\n",
              "    .dataframe tbody tr th {\n",
              "        vertical-align: top;\n",
              "    }\n",
              "\n",
              "    .dataframe thead th {\n",
              "        text-align: right;\n",
              "    }\n",
              "</style>\n",
              "<table border=\"1\" class=\"dataframe\">\n",
              "  <thead>\n",
              "    <tr style=\"text-align: right;\">\n",
              "      <th></th>\n",
              "      <th>CCP_Message1</th>\n",
              "      <th>CCP_Message2</th>\n",
              "      <th>cleaned_input_message1</th>\n",
              "      <th>cleaned_input_message2</th>\n",
              "    </tr>\n",
              "  </thead>\n",
              "  <tbody>\n",
              "    <tr>\n",
              "      <th>0</th>\n",
              "      <td>&lt;TrdCaptRpt RptID=\"380198\" TrdID=\"35740661331\"...</td>\n",
              "      <td>&lt;TrdCaptRpt RptID=\"380199\" TrdID=\"18061000020\"...</td>\n",
              "      <td>TrdCaptRpt RptID=136826 TrdID=35740661331 Tran...</td>\n",
              "      <td>TrdCaptRpt RptID=136826 TrdID=35740661331 Tran...</td>\n",
              "    </tr>\n",
              "    <tr>\n",
              "      <th>1</th>\n",
              "      <td>&lt;TrdCaptRpt RptID=\"380198\" TrdID=\"24981651263\"...</td>\n",
              "      <td>&lt;TrdCaptRpt RptID=\"380199\" TrdID=\"18061000020\"...</td>\n",
              "      <td>TrdCaptRpt RptID=350087 TrdID=24981651263 Tran...</td>\n",
              "      <td>TrdCaptRpt RptID=350087 TrdID=24981651263 Tran...</td>\n",
              "    </tr>\n",
              "    <tr>\n",
              "      <th>2</th>\n",
              "      <td>&lt;TrdCaptRpt RptID=\"380198\" TrdID=\"32785059736\"...</td>\n",
              "      <td>&lt;TrdCaptRpt RptID=\"380199\" TrdID=\"18061000020\"...</td>\n",
              "      <td>TrdCaptRpt RptID=311717 TrdID=32785059736 Tran...</td>\n",
              "      <td>TrdCaptRpt RptID=311717 TrdID=32785059736 Tran...</td>\n",
              "    </tr>\n",
              "    <tr>\n",
              "      <th>3</th>\n",
              "      <td>&lt;TrdCaptRpt RptID=\"380198\" TrdID=\"20425984430\"...</td>\n",
              "      <td>&lt;TrdCaptRpt RptID=\"380199\" TrdID=\"18061000020\"...</td>\n",
              "      <td>TrdCaptRpt RptID=16312 TrdID=20425984430 Trans...</td>\n",
              "      <td>TrdCaptRpt RptID=16312 TrdID=20425984430 Trans...</td>\n",
              "    </tr>\n",
              "    <tr>\n",
              "      <th>4</th>\n",
              "      <td>&lt;TrdCaptRpt RptID=\"380198\" TrdID=\"36945109897\"...</td>\n",
              "      <td>&lt;TrdCaptRpt RptID=\"380199\" TrdID=\"18061000020\"...</td>\n",
              "      <td>TrdCaptRpt RptID=364833 TrdID=36945109897 Tran...</td>\n",
              "      <td>TrdCaptRpt RptID=364833 TrdID=36945109897 Tran...</td>\n",
              "    </tr>\n",
              "  </tbody>\n",
              "</table>\n",
              "</div>\n",
              "    <div class=\"colab-df-buttons\">\n",
              "\n",
              "  <div class=\"colab-df-container\">\n",
              "    <button class=\"colab-df-convert\" onclick=\"convertToInteractive('df-6b8867c4-6d43-4734-b3a3-b0538df28feb')\"\n",
              "            title=\"Convert this dataframe to an interactive table.\"\n",
              "            style=\"display:none;\">\n",
              "\n",
              "  <svg xmlns=\"http://www.w3.org/2000/svg\" height=\"24px\" viewBox=\"0 -960 960 960\">\n",
              "    <path d=\"M120-120v-720h720v720H120Zm60-500h600v-160H180v160Zm220 220h160v-160H400v160Zm0 220h160v-160H400v160ZM180-400h160v-160H180v160Zm440 0h160v-160H620v160ZM180-180h160v-160H180v160Zm440 0h160v-160H620v160Z\"/>\n",
              "  </svg>\n",
              "    </button>\n",
              "\n",
              "  <style>\n",
              "    .colab-df-container {\n",
              "      display:flex;\n",
              "      gap: 12px;\n",
              "    }\n",
              "\n",
              "    .colab-df-convert {\n",
              "      background-color: #E8F0FE;\n",
              "      border: none;\n",
              "      border-radius: 50%;\n",
              "      cursor: pointer;\n",
              "      display: none;\n",
              "      fill: #1967D2;\n",
              "      height: 32px;\n",
              "      padding: 0 0 0 0;\n",
              "      width: 32px;\n",
              "    }\n",
              "\n",
              "    .colab-df-convert:hover {\n",
              "      background-color: #E2EBFA;\n",
              "      box-shadow: 0px 1px 2px rgba(60, 64, 67, 0.3), 0px 1px 3px 1px rgba(60, 64, 67, 0.15);\n",
              "      fill: #174EA6;\n",
              "    }\n",
              "\n",
              "    .colab-df-buttons div {\n",
              "      margin-bottom: 4px;\n",
              "    }\n",
              "\n",
              "    [theme=dark] .colab-df-convert {\n",
              "      background-color: #3B4455;\n",
              "      fill: #D2E3FC;\n",
              "    }\n",
              "\n",
              "    [theme=dark] .colab-df-convert:hover {\n",
              "      background-color: #434B5C;\n",
              "      box-shadow: 0px 1px 3px 1px rgba(0, 0, 0, 0.15);\n",
              "      filter: drop-shadow(0px 1px 2px rgba(0, 0, 0, 0.3));\n",
              "      fill: #FFFFFF;\n",
              "    }\n",
              "  </style>\n",
              "\n",
              "    <script>\n",
              "      const buttonEl =\n",
              "        document.querySelector('#df-6b8867c4-6d43-4734-b3a3-b0538df28feb button.colab-df-convert');\n",
              "      buttonEl.style.display =\n",
              "        google.colab.kernel.accessAllowed ? 'block' : 'none';\n",
              "\n",
              "      async function convertToInteractive(key) {\n",
              "        const element = document.querySelector('#df-6b8867c4-6d43-4734-b3a3-b0538df28feb');\n",
              "        const dataTable =\n",
              "          await google.colab.kernel.invokeFunction('convertToInteractive',\n",
              "                                                    [key], {});\n",
              "        if (!dataTable) return;\n",
              "\n",
              "        const docLinkHtml = 'Like what you see? Visit the ' +\n",
              "          '<a target=\"_blank\" href=https://colab.research.google.com/notebooks/data_table.ipynb>data table notebook</a>'\n",
              "          + ' to learn more about interactive tables.';\n",
              "        element.innerHTML = '';\n",
              "        dataTable['output_type'] = 'display_data';\n",
              "        await google.colab.output.renderOutput(dataTable, element);\n",
              "        const docLink = document.createElement('div');\n",
              "        docLink.innerHTML = docLinkHtml;\n",
              "        element.appendChild(docLink);\n",
              "      }\n",
              "    </script>\n",
              "  </div>\n",
              "\n",
              "\n",
              "<div id=\"df-79e5f8a7-5c8a-4a4f-9401-8dff8448fe52\">\n",
              "  <button class=\"colab-df-quickchart\" onclick=\"quickchart('df-79e5f8a7-5c8a-4a4f-9401-8dff8448fe52')\"\n",
              "            title=\"Suggest charts\"\n",
              "            style=\"display:none;\">\n",
              "\n",
              "<svg xmlns=\"http://www.w3.org/2000/svg\" height=\"24px\"viewBox=\"0 0 24 24\"\n",
              "     width=\"24px\">\n",
              "    <g>\n",
              "        <path d=\"M19 3H5c-1.1 0-2 .9-2 2v14c0 1.1.9 2 2 2h14c1.1 0 2-.9 2-2V5c0-1.1-.9-2-2-2zM9 17H7v-7h2v7zm4 0h-2V7h2v10zm4 0h-2v-4h2v4z\"/>\n",
              "    </g>\n",
              "</svg>\n",
              "  </button>\n",
              "\n",
              "<style>\n",
              "  .colab-df-quickchart {\n",
              "      --bg-color: #E8F0FE;\n",
              "      --fill-color: #1967D2;\n",
              "      --hover-bg-color: #E2EBFA;\n",
              "      --hover-fill-color: #174EA6;\n",
              "      --disabled-fill-color: #AAA;\n",
              "      --disabled-bg-color: #DDD;\n",
              "  }\n",
              "\n",
              "  [theme=dark] .colab-df-quickchart {\n",
              "      --bg-color: #3B4455;\n",
              "      --fill-color: #D2E3FC;\n",
              "      --hover-bg-color: #434B5C;\n",
              "      --hover-fill-color: #FFFFFF;\n",
              "      --disabled-bg-color: #3B4455;\n",
              "      --disabled-fill-color: #666;\n",
              "  }\n",
              "\n",
              "  .colab-df-quickchart {\n",
              "    background-color: var(--bg-color);\n",
              "    border: none;\n",
              "    border-radius: 50%;\n",
              "    cursor: pointer;\n",
              "    display: none;\n",
              "    fill: var(--fill-color);\n",
              "    height: 32px;\n",
              "    padding: 0;\n",
              "    width: 32px;\n",
              "  }\n",
              "\n",
              "  .colab-df-quickchart:hover {\n",
              "    background-color: var(--hover-bg-color);\n",
              "    box-shadow: 0 1px 2px rgba(60, 64, 67, 0.3), 0 1px 3px 1px rgba(60, 64, 67, 0.15);\n",
              "    fill: var(--button-hover-fill-color);\n",
              "  }\n",
              "\n",
              "  .colab-df-quickchart-complete:disabled,\n",
              "  .colab-df-quickchart-complete:disabled:hover {\n",
              "    background-color: var(--disabled-bg-color);\n",
              "    fill: var(--disabled-fill-color);\n",
              "    box-shadow: none;\n",
              "  }\n",
              "\n",
              "  .colab-df-spinner {\n",
              "    border: 2px solid var(--fill-color);\n",
              "    border-color: transparent;\n",
              "    border-bottom-color: var(--fill-color);\n",
              "    animation:\n",
              "      spin 1s steps(1) infinite;\n",
              "  }\n",
              "\n",
              "  @keyframes spin {\n",
              "    0% {\n",
              "      border-color: transparent;\n",
              "      border-bottom-color: var(--fill-color);\n",
              "      border-left-color: var(--fill-color);\n",
              "    }\n",
              "    20% {\n",
              "      border-color: transparent;\n",
              "      border-left-color: var(--fill-color);\n",
              "      border-top-color: var(--fill-color);\n",
              "    }\n",
              "    30% {\n",
              "      border-color: transparent;\n",
              "      border-left-color: var(--fill-color);\n",
              "      border-top-color: var(--fill-color);\n",
              "      border-right-color: var(--fill-color);\n",
              "    }\n",
              "    40% {\n",
              "      border-color: transparent;\n",
              "      border-right-color: var(--fill-color);\n",
              "      border-top-color: var(--fill-color);\n",
              "    }\n",
              "    60% {\n",
              "      border-color: transparent;\n",
              "      border-right-color: var(--fill-color);\n",
              "    }\n",
              "    80% {\n",
              "      border-color: transparent;\n",
              "      border-right-color: var(--fill-color);\n",
              "      border-bottom-color: var(--fill-color);\n",
              "    }\n",
              "    90% {\n",
              "      border-color: transparent;\n",
              "      border-bottom-color: var(--fill-color);\n",
              "    }\n",
              "  }\n",
              "</style>\n",
              "\n",
              "  <script>\n",
              "    async function quickchart(key) {\n",
              "      const quickchartButtonEl =\n",
              "        document.querySelector('#' + key + ' button');\n",
              "      quickchartButtonEl.disabled = true;  // To prevent multiple clicks.\n",
              "      quickchartButtonEl.classList.add('colab-df-spinner');\n",
              "      try {\n",
              "        const charts = await google.colab.kernel.invokeFunction(\n",
              "            'suggestCharts', [key], {});\n",
              "      } catch (error) {\n",
              "        console.error('Error during call to suggestCharts:', error);\n",
              "      }\n",
              "      quickchartButtonEl.classList.remove('colab-df-spinner');\n",
              "      quickchartButtonEl.classList.add('colab-df-quickchart-complete');\n",
              "    }\n",
              "    (() => {\n",
              "      let quickchartButtonEl =\n",
              "        document.querySelector('#df-79e5f8a7-5c8a-4a4f-9401-8dff8448fe52 button');\n",
              "      quickchartButtonEl.style.display =\n",
              "        google.colab.kernel.accessAllowed ? 'block' : 'none';\n",
              "    })();\n",
              "  </script>\n",
              "</div>\n",
              "\n",
              "    </div>\n",
              "  </div>\n"
            ],
            "application/vnd.google.colaboratory.intrinsic+json": {
              "type": "dataframe",
              "variable_name": "df2",
              "summary": "{\n  \"name\": \"df2\",\n  \"rows\": 1000,\n  \"fields\": [\n    {\n      \"column\": \"CCP_Message1\",\n      \"properties\": {\n        \"dtype\": \"string\",\n        \"num_unique_values\": 1000,\n        \"samples\": [\n          \"<TrdCaptRpt RptID=\\\"380198\\\" TrdID=\\\"39839858992\\\" TransTyp=\\\"2\\\" RptTyp=\\\"2\\\" TrdTyp=\\\"0\\\" MtchID=\\\"27649729368\\\" PxTyp=\\\"2\\\" LastQty=\\\"31.0\\\" LastPx=\\\"250.45\\\" TrdDt=\\\"2023-01-05\\\" BizDt=\\\"2023-02-05\\\" TxnTm=\\\"2023-03-20T00:12:55.138-5:00\\\"><Hdr SID=\\\"MGEX\\\" TID=\\\"HBPL\\\" PosDup=\\\"Y\\\" PosRsnd=\\\"Y\\\" Snt=\\\"2023-03-20T00:12:55.160-5:00\\\"></Hdr><Instrmt Sym=\\\"BUI\\\" ID=\\\"LM\\\" Src=\\\"H\\\" CFI=\\\"APYBKL\\\" MMY=\\\"202305\\\" MatDt=\\\"2023-05-15\\\" Mult=\\\"1000\\\" Exch=\\\"HDPL\\\"></Instrmt><RptSide Side=\\\"2\\\" Ccy=\\\"USD\\\" InptSrc=\\\"SY\\\" InptDev=\\\"API\\\" CustCpcty=\\\"1\\\" PosEfct=\\\"O\\\" ClOrdID=\\\"146ZBT\\\" MLegRptTyp=\\\"3\\\" AllocInd=\\\"0\\\"><Pty ID=\\\"MGEX\\\" R=\\\"21\\\"></Pty><Pty ID=\\\"210\\\" R=\\\"1\\\"></Pty><Pty ID=\\\"210\\\" R=\\\"4\\\"></Pty><Pty ID=\\\"Hassen\\\" R=\\\"24\\\"><Sub ID=\\\"1\\\" Typ=\\\"26\\\"></Sub></Pty><Pty ID=\\\"400\\\" R=\\\"12\\\"></Pty><Alloc IndAllocID=\\\"1368901292857489911@HDPL&gt;39839858992FS@20230105||5d135\\\"></Alloc><TrdRegTS TS=\\\"2023-03-20T10:18:15.100-5:00\\\" Typ=\\\"1\\\"></TrdRegTS></RptSide></TrdCaptRpt>\",\n          \"<TrdCaptRpt RptID=\\\"380198\\\" TrdID=\\\"22301545467\\\" TransTyp=\\\"2\\\" RptTyp=\\\"2\\\" TrdTyp=\\\"29\\\" MtchID=\\\"29584296168\\\" PxTyp=\\\"2\\\" LastQty=\\\"30.0\\\" LastPx=\\\"3590.59\\\" TrdDt=\\\"2022-12-17\\\" BizDt=\\\"2023-01-06\\\" TxnTm=\\\"2023-03-20T00:12:55.138-6:00\\\"><Hdr SID=\\\"MGEX\\\" TID=\\\"HBPL\\\" PosDup=\\\"Y\\\" PosRsnd=\\\"N\\\" Snt=\\\"2023-03-20T00:12:55.160-6:00\\\"></Hdr><Instrmt Sym=\\\"TMP\\\" ID=\\\"B\\\" Src=\\\"H\\\" CFI=\\\"FCCPXX\\\" MMY=\\\"202310\\\" MatDt=\\\"2023-10-23\\\" Mult=\\\"0.2\\\" Exch=\\\"BTNL\\\"></Instrmt><RptSide Side=\\\"2\\\" Ccy=\\\"USD\\\" InptSrc=\\\"MA\\\" InptDev=\\\"API\\\" CustCpcty=\\\"2\\\" PosEfct=\\\"C\\\" ClOrdID=\\\"245BTN\\\" MLegRptTyp=\\\"3\\\" AllocInd=\\\"0\\\"><Pty ID=\\\"MGEX\\\" R=\\\"21\\\"></Pty><Pty ID=\\\"210\\\" R=\\\"1\\\"></Pty><Pty ID=\\\"210\\\" R=\\\"4\\\"></Pty><Pty ID=\\\"arij\\\" R=\\\"24\\\"><Sub ID=\\\"2\\\" Typ=\\\"26\\\"></Sub></Pty><Pty ID=\\\"A123\\\" R=\\\"12\\\"></Pty><Alloc IndAllocID=\\\"1377074409007447049@BTNL&gt;22301545467FS@20221217||ckpla\\\"></Alloc><TrdRegTS TS=\\\"2023-03-20T16:40:55.100-6:00\\\" Typ=\\\"1\\\"></TrdRegTS></RptSide></TrdCaptRpt>\",\n          \"<TrdCaptRpt RptID=\\\"380198\\\" TrdID=\\\"29347201620\\\" TransTyp=\\\"2\\\" RptTyp=\\\"2\\\" TrdTyp=\\\"29\\\" MtchID=\\\"26206748973\\\" PxTyp=\\\"10\\\" LastQty=\\\"47.0\\\" LastPx=\\\"3590.59\\\" TrdDt=\\\"2022-12-17\\\" BizDt=\\\"2023-01-06\\\" TxnTm=\\\"2023-03-30T00:12:55.138-7:00\\\"><Hdr SID=\\\"MGEX\\\" TID=\\\"ABCD\\\" PosDup=\\\"N\\\" PosRsnd=\\\"N\\\" Snt=\\\"2023-03-30T00:12:55.160-7:00\\\"></Hdr><Instrmt Sym=\\\"TMP\\\" ID=\\\"AS\\\" Src=\\\"H\\\" CFI=\\\"APYBKL\\\" MMY=\\\"202310\\\" MatDt=\\\"2023-10-6\\\" Mult=\\\"0.2\\\" Exch=\\\"BTNL\\\"></Instrmt><RptSide Side=\\\"1\\\" Ccy=\\\"USD\\\" InptSrc=\\\"EL\\\" InptDev=\\\"API\\\" CustCpcty=\\\"1\\\" PosEfct=\\\"C\\\" ClOrdID=\\\"145\\\" MLegRptTyp=\\\"3\\\" AllocInd=\\\"0\\\"><Pty ID=\\\"MGEX\\\" R=\\\"21\\\"></Pty><Pty ID=\\\"210\\\" R=\\\"1\\\"></Pty><Pty ID=\\\"210\\\" R=\\\"4\\\"></Pty><Pty ID=\\\"Hassen\\\" R=\\\"24\\\"><Sub ID=\\\"2\\\" Typ=\\\"26\\\"></Sub></Pty><Pty ID=\\\"B115\\\" R=\\\"12\\\"></Pty><Alloc IndAllocID=\\\"1972895200133532971@BTNL&gt;29347201620FS@20221217||ckpla\\\"></Alloc><TrdRegTS TS=\\\"2023-03-30T05:17:30.100-7:00\\\" Typ=\\\"1\\\"></TrdRegTS></RptSide></TrdCaptRpt>\"\n        ],\n        \"semantic_type\": \"\",\n        \"description\": \"\"\n      }\n    },\n    {\n      \"column\": \"CCP_Message2\",\n      \"properties\": {\n        \"dtype\": \"string\",\n        \"num_unique_values\": 1000,\n        \"samples\": [\n          \"<TrdCaptRpt RptID=\\\"380199\\\" TrdID=\\\"18061000020\\\" TransTyp=\\\"0\\\" RptTyp=\\\"2\\\" TrdTyp=\\\"0\\\" OrigTrdID=\\\"39839858992\\\" MtchID=\\\"27649729368\\\" PxTyp=\\\"2\\\" LastQty=\\\"20.0\\\" LastPx=\\\"250.45\\\" TrdDt=\\\"2023-01-05\\\" BizDt=\\\"2023-02-05\\\" TxnTm=\\\"2023-03-20T00:12:55.138-5:00\\\"><Hdr SID=\\\"MGEX\\\" TID=\\\"HBPL\\\" PosDup=\\\"Y\\\" PosRsnd=\\\"Y\\\" Snt=\\\"2023-03-20T00:12:55.160-5:00\\\"></Hdr><Instrmt Sym=\\\"BUI\\\" ID=\\\"LM\\\" Src=\\\"H\\\" CFI=\\\"APYBKL\\\" MMY=\\\"202305\\\" MatDt=\\\"2023-05-15\\\" Mult=\\\"1000\\\" Exch=\\\"HDPL\\\"></Instrmt><RptSide Side=\\\"2\\\" Ccy=\\\"USD\\\" InptSrc=\\\"SY\\\" InptDev=\\\"API\\\" CustCpcty=\\\"3\\\" PosEfct=\\\"O\\\" ClOrdID=\\\"146ZBT\\\" MLegRptTyp=\\\"3\\\" AllocInd=\\\"0\\\"><Pty ID=\\\"MGEX\\\" R=\\\"21\\\"></Pty><Pty ID=\\\"210\\\" R=\\\"1\\\"></Pty><Pty ID=\\\"210\\\" R=\\\"4\\\"></Pty><Pty ID=\\\"najet\\\" R=\\\"24\\\"><Sub ID=\\\"1\\\" Typ=\\\"26\\\"></Sub></Pty><Pty ID=\\\"400\\\" R=\\\"12\\\"></Pty><Alloc IndAllocID=\\\"1368901292857489911@HDPL&gt;39839858992FS@20230105||c2537\\\"></Alloc><TrdRegTS TS=\\\"2023-03-20T10:18:15.100-5:00\\\" Typ=\\\"1\\\"></TrdRegTS></RptSide></TrdCaptRpt>\",\n          \"<TrdCaptRpt RptID=\\\"380199\\\" TrdID=\\\"18061000020\\\" TransTyp=\\\"0\\\" RptTyp=\\\"2\\\" TrdTyp=\\\"29\\\" OrigTrdID=\\\"22301545467\\\" MtchID=\\\"29584296168\\\" PxTyp=\\\"2\\\" LastQty=\\\"46.0\\\" LastPx=\\\"3590.59\\\" TrdDt=\\\"2022-12-17\\\" BizDt=\\\"2023-01-06\\\" TxnTm=\\\"2023-03-20T00:12:55.138-6:00\\\"><Hdr SID=\\\"MGEX\\\" TID=\\\"HBPL\\\" PosDup=\\\"Y\\\" PosRsnd=\\\"N\\\" Snt=\\\"2023-03-20T00:12:55.160-6:00\\\"></Hdr><Instrmt Sym=\\\"TMP\\\" ID=\\\"B\\\" Src=\\\"H\\\" CFI=\\\"FCCPXX\\\" MMY=\\\"202310\\\" MatDt=\\\"2023-10-23\\\" Mult=\\\"0.2\\\" Exch=\\\"BTNL\\\"></Instrmt><RptSide Side=\\\"2\\\" Ccy=\\\"USD\\\" InptSrc=\\\"MA\\\" InptDev=\\\"API\\\" CustCpcty=\\\"4\\\" PosEfct=\\\"C\\\" ClOrdID=\\\"245BTN\\\" MLegRptTyp=\\\"3\\\" AllocInd=\\\"0\\\"><Pty ID=\\\"MGEX\\\" R=\\\"21\\\"></Pty><Pty ID=\\\"210\\\" R=\\\"1\\\"></Pty><Pty ID=\\\"210\\\" R=\\\"4\\\"></Pty><Pty ID=\\\"FIRMACT2\\\" R=\\\"24\\\"><Sub ID=\\\"2\\\" Typ=\\\"26\\\"></Sub></Pty><Pty ID=\\\"A123\\\" R=\\\"12\\\"></Pty><Alloc IndAllocID=\\\"1377074409007447049@BTNL&gt;22301545467FS@20221217||c2537\\\"></Alloc><TrdRegTS TS=\\\"2023-03-20T16:40:55.100-6:00\\\" Typ=\\\"1\\\"></TrdRegTS></RptSide></TrdCaptRpt>\",\n          \"<TrdCaptRpt RptID=\\\"380199\\\" TrdID=\\\"18061000020\\\" TransTyp=\\\"0\\\" RptTyp=\\\"2\\\" TrdTyp=\\\"29\\\" OrigTrdID=\\\"29347201620\\\" MtchID=\\\"26206748973\\\" PxTyp=\\\"10\\\" LastQty=\\\"5.0\\\" LastPx=\\\"3590.59\\\" TrdDt=\\\"2022-12-17\\\" BizDt=\\\"2023-01-06\\\" TxnTm=\\\"2023-03-30T00:12:55.138-7:00\\\"><Hdr SID=\\\"MGEX\\\" TID=\\\"ABCD\\\" PosDup=\\\"N\\\" PosRsnd=\\\"N\\\" Snt=\\\"2023-03-30T00:12:55.160-7:00\\\"></Hdr><Instrmt Sym=\\\"TMP\\\" ID=\\\"AS\\\" Src=\\\"H\\\" CFI=\\\"APYBKL\\\" MMY=\\\"202310\\\" MatDt=\\\"2023-10-6\\\" Mult=\\\"0.2\\\" Exch=\\\"BTNL\\\"></Instrmt><RptSide Side=\\\"1\\\" Ccy=\\\"USD\\\" InptSrc=\\\"EL\\\" InptDev=\\\"API\\\" CustCpcty=\\\"2\\\" PosEfct=\\\"C\\\" ClOrdID=\\\"145\\\" MLegRptTyp=\\\"3\\\" AllocInd=\\\"0\\\"><Pty ID=\\\"MGEX\\\" R=\\\"21\\\"></Pty><Pty ID=\\\"210\\\" R=\\\"1\\\"></Pty><Pty ID=\\\"210\\\" R=\\\"4\\\"></Pty><Pty ID=\\\"najet\\\" R=\\\"24\\\"><Sub ID=\\\"2\\\" Typ=\\\"26\\\"></Sub></Pty><Pty ID=\\\"B115\\\" R=\\\"12\\\"></Pty><Alloc IndAllocID=\\\"1972895200133532971@BTNL&gt;29347201620FS@20221217||el8ab\\\"></Alloc><TrdRegTS TS=\\\"2023-03-30T05:17:30.100-7:00\\\" Typ=\\\"1\\\"></TrdRegTS></RptSide></TrdCaptRpt>\"\n        ],\n        \"semantic_type\": \"\",\n        \"description\": \"\"\n      }\n    },\n    {\n      \"column\": \"cleaned_input_message1\",\n      \"properties\": {\n        \"dtype\": \"string\",\n        \"num_unique_values\": 1000,\n        \"samples\": [\n          \"TrdCaptRpt RptID=94015 TrdID=39839858992 TransTyp=0 RptTyp=2 TrdTyp=0 MtchID=27649729368 PxTyp=2 LastQty=51 LastPx=250.45 TrdDt=2023-01-05 BizDt=2023-02-05 TxnTm=2023-03-20T10:18:15.100-5:00 Hdr SID=MGEX TID=HBPL PosDup=Y PosRsnd=Y Snt=2023-03-20T10:18:15.350-5:00 Hdr Instrmt Sym=BUI ID=LM Src=H CFI=APYBKL MMY=202305 MatDt=2023-05-15 Mult=1000 Exch=HDPL Instrmt RptSide Side=2 Ccy=USD InptSrc=SY InptDev=PORTAL CustCpcty=3 PosEfct=O ClOrdID=146ZBT MLegRptTyp=3 AllocInd=0 Pty ID=MGEX R=21 Pty Pty ID=210 R=1 Pty Pty ID=210 R=4 Pty Pty ID=Mohamed-300 R=24 Sub ID=1 Typ=26 Sub Pty Pty ID=400 R=12 Pty TrdRegTS TS=2023-03-20T10:18:15.100-5:00 Typ=1 TrdRegTS RptSide TrdCaptRpt  Alloc Qty=31.0 CustCpcty=1 IndAllocID=1368901292857489911@HDPL&gt;39839858992FS@20230105||5d135 Pty ID=Hassen R=24 Sub ID=1 Typ=26  Pty Alloc \",\n          \"TrdCaptRpt RptID=127213 TrdID=22301545467 TransTyp=0 RptTyp=2 TrdTyp=29 MtchID=29584296168 PxTyp=2 LastQty=76 LastPx=3590.59 TrdDt=2022-12-17 BizDt=2023-01-06 TxnTm=2023-03-20T16:40:55.100-6:00 Hdr SID=MGEX TID=HBPL PosDup=Y PosRsnd=N Snt=2023-03-20T16:40:55.350-6:00 Hdr Instrmt Sym=TMP ID=B Src=H CFI=FCCPXX MMY=202310 MatDt=2023-10-23 Mult=0.2 Exch=BTNL Instrmt RptSide Side=2 Ccy=USD InptSrc=MA InptDev=API CustCpcty=3 PosEfct=C ClOrdID=245BTN MLegRptTyp=3 AllocInd=0 Pty ID=MGEX R=21 Pty Pty ID=210 R=1 Pty Pty ID=210 R=4 Pty Pty ID=Mohamed-300 R=24 Sub ID=2 Typ=26 Sub Pty Pty ID=A123 R=12 Pty TrdRegTS TS=2023-03-20T16:40:55.100-6:00 Typ=1 TrdRegTS RptSide TrdCaptRpt  Alloc Qty=30.0 CustCpcty=2 IndAllocID=1377074409007447049@BTNL&gt;22301545467FS@20221217||ckpla Pty ID=arij R=24 Sub ID=2 Typ=26  Pty Alloc \",\n          \"TrdCaptRpt RptID=36622 TrdID=29347201620 TransTyp=0 RptTyp=2 TrdTyp=29 MtchID=26206748973 PxTyp=10 LastQty=52 LastPx=3590.59 TrdDt=2022-12-17 BizDt=2023-01-06 TxnTm=2023-03-30T05:17:30.100-7:00 Hdr SID=MGEX TID=ABCD PosDup=N PosRsnd=N Snt=2023-03-30T05:17:30.768-7:00 Hdr Instrmt Sym=TMP ID=AS Src=H CFI=APYBKL MMY=202310 MatDt=2023-10-6 Mult=0.2 Exch=BTNL Instrmt RptSide Side=1 Ccy=USD InptSrc=EL InptDev=EXCHANGE CustCpcty=4 PosEfct=C ClOrdID=145 MLegRptTyp=3 AllocInd=0 Pty ID=MGEX R=21 Pty Pty ID=210 R=1 Pty Pty ID=210 R=4 Pty Pty ID=acc-AT R=24 Sub ID=2 Typ=26 Sub Pty Pty ID=B115 R=12 Pty TrdRegTS TS=2023-03-30T05:17:30.100-7:00 Typ=1 TrdRegTS RptSide TrdCaptRpt  Alloc Qty=47.0 CustCpcty=1 IndAllocID=1972895200133532971@BTNL&gt;29347201620FS@20221217||ckpla Pty ID=Hassen R=24 Sub ID=2 Typ=26  Pty Alloc \"\n        ],\n        \"semantic_type\": \"\",\n        \"description\": \"\"\n      }\n    },\n    {\n      \"column\": \"cleaned_input_message2\",\n      \"properties\": {\n        \"dtype\": \"string\",\n        \"num_unique_values\": 1000,\n        \"samples\": [\n          \"TrdCaptRpt RptID=94015 TrdID=39839858992 TransTyp=0 RptTyp=2 TrdTyp=0 MtchID=27649729368 PxTyp=2 LastQty=51 LastPx=250.45 TrdDt=2023-01-05 BizDt=2023-02-05 TxnTm=2023-03-20T10:18:15.100-5:00 Hdr SID=MGEX TID=HBPL PosDup=Y PosRsnd=Y Snt=2023-03-20T10:18:15.350-5:00 Hdr Instrmt Sym=BUI ID=LM Src=H CFI=APYBKL MMY=202305 MatDt=2023-05-15 Mult=1000 Exch=HDPL Instrmt RptSide Side=2 Ccy=USD InptSrc=SY InptDev=PORTAL CustCpcty=3 PosEfct=O ClOrdID=146ZBT MLegRptTyp=3 AllocInd=0 Pty ID=MGEX R=21 Pty Pty ID=210 R=1 Pty Pty ID=210 R=4 Pty Pty ID=Mohamed-300 R=24 Sub ID=1 Typ=26 Sub Pty Pty ID=400 R=12 Pty TrdRegTS TS=2023-03-20T10:18:15.100-5:00 Typ=1 TrdRegTS RptSide TrdCaptRpt  Alloc Qty=20.0 CustCpcty=3 IndAllocID=1368901292857489911@HDPL&gt;39839858992FS@20230105||c2537 Pty ID=najet R=24 Sub ID=1 Typ=26  Pty Alloc \",\n          \"TrdCaptRpt RptID=127213 TrdID=22301545467 TransTyp=0 RptTyp=2 TrdTyp=29 MtchID=29584296168 PxTyp=2 LastQty=76 LastPx=3590.59 TrdDt=2022-12-17 BizDt=2023-01-06 TxnTm=2023-03-20T16:40:55.100-6:00 Hdr SID=MGEX TID=HBPL PosDup=Y PosRsnd=N Snt=2023-03-20T16:40:55.350-6:00 Hdr Instrmt Sym=TMP ID=B Src=H CFI=FCCPXX MMY=202310 MatDt=2023-10-23 Mult=0.2 Exch=BTNL Instrmt RptSide Side=2 Ccy=USD InptSrc=MA InptDev=API CustCpcty=3 PosEfct=C ClOrdID=245BTN MLegRptTyp=3 AllocInd=0 Pty ID=MGEX R=21 Pty Pty ID=210 R=1 Pty Pty ID=210 R=4 Pty Pty ID=Mohamed-300 R=24 Sub ID=2 Typ=26 Sub Pty Pty ID=A123 R=12 Pty TrdRegTS TS=2023-03-20T16:40:55.100-6:00 Typ=1 TrdRegTS RptSide TrdCaptRpt  Alloc Qty=46.0 CustCpcty=4 IndAllocID=1377074409007447049@BTNL&gt;22301545467FS@20221217||c2537 Pty ID=FIRMACT2 R=24 Sub ID=2 Typ=26  Pty Alloc \",\n          \"TrdCaptRpt RptID=36622 TrdID=29347201620 TransTyp=0 RptTyp=2 TrdTyp=29 MtchID=26206748973 PxTyp=10 LastQty=52 LastPx=3590.59 TrdDt=2022-12-17 BizDt=2023-01-06 TxnTm=2023-03-30T05:17:30.100-7:00 Hdr SID=MGEX TID=ABCD PosDup=N PosRsnd=N Snt=2023-03-30T05:17:30.768-7:00 Hdr Instrmt Sym=TMP ID=AS Src=H CFI=APYBKL MMY=202310 MatDt=2023-10-6 Mult=0.2 Exch=BTNL Instrmt RptSide Side=1 Ccy=USD InptSrc=EL InptDev=EXCHANGE CustCpcty=4 PosEfct=C ClOrdID=145 MLegRptTyp=3 AllocInd=0 Pty ID=MGEX R=21 Pty Pty ID=210 R=1 Pty Pty ID=210 R=4 Pty Pty ID=acc-AT R=24 Sub ID=2 Typ=26 Sub Pty Pty ID=B115 R=12 Pty TrdRegTS TS=2023-03-30T05:17:30.100-7:00 Typ=1 TrdRegTS RptSide TrdCaptRpt  Alloc Qty=5.0 CustCpcty=2 IndAllocID=1972895200133532971@BTNL&gt;29347201620FS@20221217||el8ab Pty ID=najet R=24 Sub ID=2 Typ=26  Pty Alloc \"\n        ],\n        \"semantic_type\": \"\",\n        \"description\": \"\"\n      }\n    }\n  ]\n}"
            }
          },
          "metadata": {},
          "execution_count": 86
        }
      ]
    },
    {
      "cell_type": "code",
      "source": [
        "df2['cleaned_input_message1'].iloc[0]"
      ],
      "metadata": {
        "colab": {
          "base_uri": "https://localhost:8080/",
          "height": 105
        },
        "id": "FNo8Xmk2LR1j",
        "outputId": "b5252ce2-e687-4dba-f793-1c67219cf8dc"
      },
      "execution_count": null,
      "outputs": [
        {
          "output_type": "execute_result",
          "data": {
            "text/plain": [
              "'TrdCaptRpt RptID=136826 TrdID=35740661331 TransTyp=0 RptTyp=2 TrdTyp=3 MtchID=22138400181 PxTyp=2 LastQty=40 LastPx=3590.59 TrdDt=2022-12-17 BizDt=2023-01-11 TxnTm=2023-02-15T12:25:13.230-7:00 Hdr SID=MGEX TID=TL98 PosDup=Y PosRsnd=N Snt=2023-02-15T12:25:13.350-7:00 Hdr Instrmt Sym=ABP ID=BUI Src=H CFI=APYBKL MMY=202310 MatDt=2023-10-2 Mult=0.9 Exch=BTNL Instrmt RptSide Side=2 Ccy=USD InptSrc=MA InptDev=API CustCpcty=1 PosEfct=C ClOrdID=987NL MLegRptTyp=2 AllocInd=0 Pty ID=MGEX R=21 Pty Pty ID=210 R=1 Pty Pty ID=210 R=4 Pty Pty ID=Karim-200 R=24 Sub ID=2 Typ=26 Sub Pty Pty ID=100 R=12 Pty TrdRegTS TS=2023-02-15T12:25:13.230-7:00 Typ=1 TrdRegTS RptSide TrdCaptRpt  Alloc Qty=25.0 CustCpcty=2 IndAllocID=1938463012888430837@BTNL&gt;35740661331FS@20221217||5d135 Pty ID=Ahlem R=24 Sub ID=2 Typ=26  Pty Alloc '"
            ],
            "application/vnd.google.colaboratory.intrinsic+json": {
              "type": "string"
            }
          },
          "metadata": {},
          "execution_count": 87
        }
      ]
    },
    {
      "cell_type": "code",
      "source": [
        "df2['cleaned_input_message2'].iloc[0]"
      ],
      "metadata": {
        "colab": {
          "base_uri": "https://localhost:8080/",
          "height": 105
        },
        "id": "fKqSAZ2PLXY9",
        "outputId": "9974d8bf-45e0-4a4d-f42c-3b20cbef22ac"
      },
      "execution_count": null,
      "outputs": [
        {
          "output_type": "execute_result",
          "data": {
            "text/plain": [
              "'TrdCaptRpt RptID=136826 TrdID=35740661331 TransTyp=0 RptTyp=2 TrdTyp=3 MtchID=22138400181 PxTyp=2 LastQty=40 LastPx=3590.59 TrdDt=2022-12-17 BizDt=2023-01-11 TxnTm=2023-02-15T12:25:13.230-7:00 Hdr SID=MGEX TID=TL98 PosDup=Y PosRsnd=N Snt=2023-02-15T12:25:13.350-7:00 Hdr Instrmt Sym=ABP ID=BUI Src=H CFI=APYBKL MMY=202310 MatDt=2023-10-2 Mult=0.9 Exch=BTNL Instrmt RptSide Side=2 Ccy=USD InptSrc=MA InptDev=API CustCpcty=1 PosEfct=C ClOrdID=987NL MLegRptTyp=2 AllocInd=0 Pty ID=MGEX R=21 Pty Pty ID=210 R=1 Pty Pty ID=210 R=4 Pty Pty ID=Karim-200 R=24 Sub ID=2 Typ=26 Sub Pty Pty ID=100 R=12 Pty TrdRegTS TS=2023-02-15T12:25:13.230-7:00 Typ=1 TrdRegTS RptSide TrdCaptRpt  Alloc Qty=15.0 CustCpcty=2 IndAllocID=1938463012888430837@BTNL&gt;35740661331FS@20221217||c2537 Pty ID=5cot9 R=24 Sub ID=2 Typ=26  Pty Alloc '"
            ],
            "application/vnd.google.colaboratory.intrinsic+json": {
              "type": "string"
            }
          },
          "metadata": {},
          "execution_count": 88
        }
      ]
    },
    {
      "cell_type": "markdown",
      "source": [
        "**Splitting Data into Training and Validation Sets**"
      ],
      "metadata": {
        "id": "stSd46_xPI09"
      }
    },
    {
      "cell_type": "code",
      "source": [
        "train_data = df2.iloc[:int(len(df2) * 0.9)]\n",
        "val_data = df2.iloc[int(len(df2) * 0.9):]"
      ],
      "metadata": {
        "id": "0H9V4ELDLe1t"
      },
      "execution_count": null,
      "outputs": []
    },
    {
      "cell_type": "code",
      "source": [
        "train_data.shape"
      ],
      "metadata": {
        "colab": {
          "base_uri": "https://localhost:8080/"
        },
        "id": "gm6GP6ULLj9V",
        "outputId": "6e4c0758-0d67-4581-f76f-c27ddcdfe198"
      },
      "execution_count": null,
      "outputs": [
        {
          "output_type": "execute_result",
          "data": {
            "text/plain": [
              "(900, 4)"
            ]
          },
          "metadata": {},
          "execution_count": 90
        }
      ]
    },
    {
      "cell_type": "code",
      "source": [
        "train_data.head()"
      ],
      "metadata": {
        "colab": {
          "base_uri": "https://localhost:8080/",
          "height": 293
        },
        "id": "dLT2N4NtLmRP",
        "outputId": "764681a6-0a36-4e84-8966-d54f78e71552"
      },
      "execution_count": null,
      "outputs": [
        {
          "output_type": "execute_result",
          "data": {
            "text/plain": [
              "                                        CCP_Message1  \\\n",
              "0  <TrdCaptRpt RptID=\"380198\" TrdID=\"35740661331\"...   \n",
              "1  <TrdCaptRpt RptID=\"380198\" TrdID=\"24981651263\"...   \n",
              "2  <TrdCaptRpt RptID=\"380198\" TrdID=\"32785059736\"...   \n",
              "3  <TrdCaptRpt RptID=\"380198\" TrdID=\"20425984430\"...   \n",
              "4  <TrdCaptRpt RptID=\"380198\" TrdID=\"36945109897\"...   \n",
              "\n",
              "                                        CCP_Message2  \\\n",
              "0  <TrdCaptRpt RptID=\"380199\" TrdID=\"18061000020\"...   \n",
              "1  <TrdCaptRpt RptID=\"380199\" TrdID=\"18061000020\"...   \n",
              "2  <TrdCaptRpt RptID=\"380199\" TrdID=\"18061000020\"...   \n",
              "3  <TrdCaptRpt RptID=\"380199\" TrdID=\"18061000020\"...   \n",
              "4  <TrdCaptRpt RptID=\"380199\" TrdID=\"18061000020\"...   \n",
              "\n",
              "                              cleaned_input_message1  \\\n",
              "0  TrdCaptRpt RptID=136826 TrdID=35740661331 Tran...   \n",
              "1  TrdCaptRpt RptID=350087 TrdID=24981651263 Tran...   \n",
              "2  TrdCaptRpt RptID=311717 TrdID=32785059736 Tran...   \n",
              "3  TrdCaptRpt RptID=16312 TrdID=20425984430 Trans...   \n",
              "4  TrdCaptRpt RptID=364833 TrdID=36945109897 Tran...   \n",
              "\n",
              "                              cleaned_input_message2  \n",
              "0  TrdCaptRpt RptID=136826 TrdID=35740661331 Tran...  \n",
              "1  TrdCaptRpt RptID=350087 TrdID=24981651263 Tran...  \n",
              "2  TrdCaptRpt RptID=311717 TrdID=32785059736 Tran...  \n",
              "3  TrdCaptRpt RptID=16312 TrdID=20425984430 Trans...  \n",
              "4  TrdCaptRpt RptID=364833 TrdID=36945109897 Tran...  "
            ],
            "text/html": [
              "\n",
              "  <div id=\"df-1f50b246-5764-4c31-bb9f-8fc2149f9ffa\" class=\"colab-df-container\">\n",
              "    <div>\n",
              "<style scoped>\n",
              "    .dataframe tbody tr th:only-of-type {\n",
              "        vertical-align: middle;\n",
              "    }\n",
              "\n",
              "    .dataframe tbody tr th {\n",
              "        vertical-align: top;\n",
              "    }\n",
              "\n",
              "    .dataframe thead th {\n",
              "        text-align: right;\n",
              "    }\n",
              "</style>\n",
              "<table border=\"1\" class=\"dataframe\">\n",
              "  <thead>\n",
              "    <tr style=\"text-align: right;\">\n",
              "      <th></th>\n",
              "      <th>CCP_Message1</th>\n",
              "      <th>CCP_Message2</th>\n",
              "      <th>cleaned_input_message1</th>\n",
              "      <th>cleaned_input_message2</th>\n",
              "    </tr>\n",
              "  </thead>\n",
              "  <tbody>\n",
              "    <tr>\n",
              "      <th>0</th>\n",
              "      <td>&lt;TrdCaptRpt RptID=\"380198\" TrdID=\"35740661331\"...</td>\n",
              "      <td>&lt;TrdCaptRpt RptID=\"380199\" TrdID=\"18061000020\"...</td>\n",
              "      <td>TrdCaptRpt RptID=136826 TrdID=35740661331 Tran...</td>\n",
              "      <td>TrdCaptRpt RptID=136826 TrdID=35740661331 Tran...</td>\n",
              "    </tr>\n",
              "    <tr>\n",
              "      <th>1</th>\n",
              "      <td>&lt;TrdCaptRpt RptID=\"380198\" TrdID=\"24981651263\"...</td>\n",
              "      <td>&lt;TrdCaptRpt RptID=\"380199\" TrdID=\"18061000020\"...</td>\n",
              "      <td>TrdCaptRpt RptID=350087 TrdID=24981651263 Tran...</td>\n",
              "      <td>TrdCaptRpt RptID=350087 TrdID=24981651263 Tran...</td>\n",
              "    </tr>\n",
              "    <tr>\n",
              "      <th>2</th>\n",
              "      <td>&lt;TrdCaptRpt RptID=\"380198\" TrdID=\"32785059736\"...</td>\n",
              "      <td>&lt;TrdCaptRpt RptID=\"380199\" TrdID=\"18061000020\"...</td>\n",
              "      <td>TrdCaptRpt RptID=311717 TrdID=32785059736 Tran...</td>\n",
              "      <td>TrdCaptRpt RptID=311717 TrdID=32785059736 Tran...</td>\n",
              "    </tr>\n",
              "    <tr>\n",
              "      <th>3</th>\n",
              "      <td>&lt;TrdCaptRpt RptID=\"380198\" TrdID=\"20425984430\"...</td>\n",
              "      <td>&lt;TrdCaptRpt RptID=\"380199\" TrdID=\"18061000020\"...</td>\n",
              "      <td>TrdCaptRpt RptID=16312 TrdID=20425984430 Trans...</td>\n",
              "      <td>TrdCaptRpt RptID=16312 TrdID=20425984430 Trans...</td>\n",
              "    </tr>\n",
              "    <tr>\n",
              "      <th>4</th>\n",
              "      <td>&lt;TrdCaptRpt RptID=\"380198\" TrdID=\"36945109897\"...</td>\n",
              "      <td>&lt;TrdCaptRpt RptID=\"380199\" TrdID=\"18061000020\"...</td>\n",
              "      <td>TrdCaptRpt RptID=364833 TrdID=36945109897 Tran...</td>\n",
              "      <td>TrdCaptRpt RptID=364833 TrdID=36945109897 Tran...</td>\n",
              "    </tr>\n",
              "  </tbody>\n",
              "</table>\n",
              "</div>\n",
              "    <div class=\"colab-df-buttons\">\n",
              "\n",
              "  <div class=\"colab-df-container\">\n",
              "    <button class=\"colab-df-convert\" onclick=\"convertToInteractive('df-1f50b246-5764-4c31-bb9f-8fc2149f9ffa')\"\n",
              "            title=\"Convert this dataframe to an interactive table.\"\n",
              "            style=\"display:none;\">\n",
              "\n",
              "  <svg xmlns=\"http://www.w3.org/2000/svg\" height=\"24px\" viewBox=\"0 -960 960 960\">\n",
              "    <path d=\"M120-120v-720h720v720H120Zm60-500h600v-160H180v160Zm220 220h160v-160H400v160Zm0 220h160v-160H400v160ZM180-400h160v-160H180v160Zm440 0h160v-160H620v160ZM180-180h160v-160H180v160Zm440 0h160v-160H620v160Z\"/>\n",
              "  </svg>\n",
              "    </button>\n",
              "\n",
              "  <style>\n",
              "    .colab-df-container {\n",
              "      display:flex;\n",
              "      gap: 12px;\n",
              "    }\n",
              "\n",
              "    .colab-df-convert {\n",
              "      background-color: #E8F0FE;\n",
              "      border: none;\n",
              "      border-radius: 50%;\n",
              "      cursor: pointer;\n",
              "      display: none;\n",
              "      fill: #1967D2;\n",
              "      height: 32px;\n",
              "      padding: 0 0 0 0;\n",
              "      width: 32px;\n",
              "    }\n",
              "\n",
              "    .colab-df-convert:hover {\n",
              "      background-color: #E2EBFA;\n",
              "      box-shadow: 0px 1px 2px rgba(60, 64, 67, 0.3), 0px 1px 3px 1px rgba(60, 64, 67, 0.15);\n",
              "      fill: #174EA6;\n",
              "    }\n",
              "\n",
              "    .colab-df-buttons div {\n",
              "      margin-bottom: 4px;\n",
              "    }\n",
              "\n",
              "    [theme=dark] .colab-df-convert {\n",
              "      background-color: #3B4455;\n",
              "      fill: #D2E3FC;\n",
              "    }\n",
              "\n",
              "    [theme=dark] .colab-df-convert:hover {\n",
              "      background-color: #434B5C;\n",
              "      box-shadow: 0px 1px 3px 1px rgba(0, 0, 0, 0.15);\n",
              "      filter: drop-shadow(0px 1px 2px rgba(0, 0, 0, 0.3));\n",
              "      fill: #FFFFFF;\n",
              "    }\n",
              "  </style>\n",
              "\n",
              "    <script>\n",
              "      const buttonEl =\n",
              "        document.querySelector('#df-1f50b246-5764-4c31-bb9f-8fc2149f9ffa button.colab-df-convert');\n",
              "      buttonEl.style.display =\n",
              "        google.colab.kernel.accessAllowed ? 'block' : 'none';\n",
              "\n",
              "      async function convertToInteractive(key) {\n",
              "        const element = document.querySelector('#df-1f50b246-5764-4c31-bb9f-8fc2149f9ffa');\n",
              "        const dataTable =\n",
              "          await google.colab.kernel.invokeFunction('convertToInteractive',\n",
              "                                                    [key], {});\n",
              "        if (!dataTable) return;\n",
              "\n",
              "        const docLinkHtml = 'Like what you see? Visit the ' +\n",
              "          '<a target=\"_blank\" href=https://colab.research.google.com/notebooks/data_table.ipynb>data table notebook</a>'\n",
              "          + ' to learn more about interactive tables.';\n",
              "        element.innerHTML = '';\n",
              "        dataTable['output_type'] = 'display_data';\n",
              "        await google.colab.output.renderOutput(dataTable, element);\n",
              "        const docLink = document.createElement('div');\n",
              "        docLink.innerHTML = docLinkHtml;\n",
              "        element.appendChild(docLink);\n",
              "      }\n",
              "    </script>\n",
              "  </div>\n",
              "\n",
              "\n",
              "<div id=\"df-bbe6c481-050a-4e2b-9092-6316c047b685\">\n",
              "  <button class=\"colab-df-quickchart\" onclick=\"quickchart('df-bbe6c481-050a-4e2b-9092-6316c047b685')\"\n",
              "            title=\"Suggest charts\"\n",
              "            style=\"display:none;\">\n",
              "\n",
              "<svg xmlns=\"http://www.w3.org/2000/svg\" height=\"24px\"viewBox=\"0 0 24 24\"\n",
              "     width=\"24px\">\n",
              "    <g>\n",
              "        <path d=\"M19 3H5c-1.1 0-2 .9-2 2v14c0 1.1.9 2 2 2h14c1.1 0 2-.9 2-2V5c0-1.1-.9-2-2-2zM9 17H7v-7h2v7zm4 0h-2V7h2v10zm4 0h-2v-4h2v4z\"/>\n",
              "    </g>\n",
              "</svg>\n",
              "  </button>\n",
              "\n",
              "<style>\n",
              "  .colab-df-quickchart {\n",
              "      --bg-color: #E8F0FE;\n",
              "      --fill-color: #1967D2;\n",
              "      --hover-bg-color: #E2EBFA;\n",
              "      --hover-fill-color: #174EA6;\n",
              "      --disabled-fill-color: #AAA;\n",
              "      --disabled-bg-color: #DDD;\n",
              "  }\n",
              "\n",
              "  [theme=dark] .colab-df-quickchart {\n",
              "      --bg-color: #3B4455;\n",
              "      --fill-color: #D2E3FC;\n",
              "      --hover-bg-color: #434B5C;\n",
              "      --hover-fill-color: #FFFFFF;\n",
              "      --disabled-bg-color: #3B4455;\n",
              "      --disabled-fill-color: #666;\n",
              "  }\n",
              "\n",
              "  .colab-df-quickchart {\n",
              "    background-color: var(--bg-color);\n",
              "    border: none;\n",
              "    border-radius: 50%;\n",
              "    cursor: pointer;\n",
              "    display: none;\n",
              "    fill: var(--fill-color);\n",
              "    height: 32px;\n",
              "    padding: 0;\n",
              "    width: 32px;\n",
              "  }\n",
              "\n",
              "  .colab-df-quickchart:hover {\n",
              "    background-color: var(--hover-bg-color);\n",
              "    box-shadow: 0 1px 2px rgba(60, 64, 67, 0.3), 0 1px 3px 1px rgba(60, 64, 67, 0.15);\n",
              "    fill: var(--button-hover-fill-color);\n",
              "  }\n",
              "\n",
              "  .colab-df-quickchart-complete:disabled,\n",
              "  .colab-df-quickchart-complete:disabled:hover {\n",
              "    background-color: var(--disabled-bg-color);\n",
              "    fill: var(--disabled-fill-color);\n",
              "    box-shadow: none;\n",
              "  }\n",
              "\n",
              "  .colab-df-spinner {\n",
              "    border: 2px solid var(--fill-color);\n",
              "    border-color: transparent;\n",
              "    border-bottom-color: var(--fill-color);\n",
              "    animation:\n",
              "      spin 1s steps(1) infinite;\n",
              "  }\n",
              "\n",
              "  @keyframes spin {\n",
              "    0% {\n",
              "      border-color: transparent;\n",
              "      border-bottom-color: var(--fill-color);\n",
              "      border-left-color: var(--fill-color);\n",
              "    }\n",
              "    20% {\n",
              "      border-color: transparent;\n",
              "      border-left-color: var(--fill-color);\n",
              "      border-top-color: var(--fill-color);\n",
              "    }\n",
              "    30% {\n",
              "      border-color: transparent;\n",
              "      border-left-color: var(--fill-color);\n",
              "      border-top-color: var(--fill-color);\n",
              "      border-right-color: var(--fill-color);\n",
              "    }\n",
              "    40% {\n",
              "      border-color: transparent;\n",
              "      border-right-color: var(--fill-color);\n",
              "      border-top-color: var(--fill-color);\n",
              "    }\n",
              "    60% {\n",
              "      border-color: transparent;\n",
              "      border-right-color: var(--fill-color);\n",
              "    }\n",
              "    80% {\n",
              "      border-color: transparent;\n",
              "      border-right-color: var(--fill-color);\n",
              "      border-bottom-color: var(--fill-color);\n",
              "    }\n",
              "    90% {\n",
              "      border-color: transparent;\n",
              "      border-bottom-color: var(--fill-color);\n",
              "    }\n",
              "  }\n",
              "</style>\n",
              "\n",
              "  <script>\n",
              "    async function quickchart(key) {\n",
              "      const quickchartButtonEl =\n",
              "        document.querySelector('#' + key + ' button');\n",
              "      quickchartButtonEl.disabled = true;  // To prevent multiple clicks.\n",
              "      quickchartButtonEl.classList.add('colab-df-spinner');\n",
              "      try {\n",
              "        const charts = await google.colab.kernel.invokeFunction(\n",
              "            'suggestCharts', [key], {});\n",
              "      } catch (error) {\n",
              "        console.error('Error during call to suggestCharts:', error);\n",
              "      }\n",
              "      quickchartButtonEl.classList.remove('colab-df-spinner');\n",
              "      quickchartButtonEl.classList.add('colab-df-quickchart-complete');\n",
              "    }\n",
              "    (() => {\n",
              "      let quickchartButtonEl =\n",
              "        document.querySelector('#df-bbe6c481-050a-4e2b-9092-6316c047b685 button');\n",
              "      quickchartButtonEl.style.display =\n",
              "        google.colab.kernel.accessAllowed ? 'block' : 'none';\n",
              "    })();\n",
              "  </script>\n",
              "</div>\n",
              "\n",
              "    </div>\n",
              "  </div>\n"
            ],
            "application/vnd.google.colaboratory.intrinsic+json": {
              "type": "dataframe",
              "variable_name": "train_data",
              "summary": "{\n  \"name\": \"train_data\",\n  \"rows\": 900,\n  \"fields\": [\n    {\n      \"column\": \"CCP_Message1\",\n      \"properties\": {\n        \"dtype\": \"string\",\n        \"num_unique_values\": 900,\n        \"samples\": [\n          \"<TrdCaptRpt RptID=\\\"380198\\\" TrdID=\\\"34425805012\\\" TransTyp=\\\"2\\\" RptTyp=\\\"2\\\" TrdTyp=\\\"29\\\" MtchID=\\\"34617022860\\\" PxTyp=\\\"10\\\" LastQty=\\\"26.0\\\" LastPx=\\\"300.9\\\" TrdDt=\\\"2022-12-17\\\" BizDt=\\\"2023-02-05\\\" TxnTm=\\\"2023-03-30T00:12:55.138-5:00\\\"><Hdr SID=\\\"MGEX\\\" TID=\\\"TL98\\\" PosDup=\\\"N\\\" PosRsnd=\\\"Y\\\" Snt=\\\"2023-03-30T00:12:55.160-5:00\\\"></Hdr><Instrmt Sym=\\\"TMP\\\" ID=\\\"AS\\\" Src=\\\"H\\\" CFI=\\\"FCAPSX\\\" MMY=\\\"202305\\\" MatDt=\\\"2023-05-21\\\" Mult=\\\"2000\\\" Exch=\\\"BTNL\\\"></Instrmt><RptSide Side=\\\"2\\\" Ccy=\\\"USD\\\" InptSrc=\\\"EL\\\" InptDev=\\\"API\\\" CustCpcty=\\\"3\\\" PosEfct=\\\"C\\\" ClOrdID=\\\"123\\\" MLegRptTyp=\\\"1\\\" AllocInd=\\\"0\\\"><Pty ID=\\\"MGEX\\\" R=\\\"21\\\"></Pty><Pty ID=\\\"210\\\" R=\\\"1\\\"></Pty><Pty ID=\\\"210\\\" R=\\\"4\\\"></Pty><Pty ID=\\\"arij\\\" R=\\\"24\\\"><Sub ID=\\\"2\\\" Typ=\\\"26\\\"></Sub></Pty><Pty ID=\\\"A123\\\" R=\\\"12\\\"></Pty><Alloc IndAllocID=\\\"2022693578894227690@BTNL&gt;34425805012FS@20221217||9la98\\\"></Alloc><TrdRegTS TS=\\\"2023-03-30T16:40:55.230-5:00\\\" Typ=\\\"1\\\"></TrdRegTS></RptSide></TrdCaptRpt>\",\n          \"<TrdCaptRpt RptID=\\\"380198\\\" TrdID=\\\"25972804848\\\" TransTyp=\\\"2\\\" RptTyp=\\\"2\\\" TrdTyp=\\\"3\\\" MtchID=\\\"34662912309\\\" PxTyp=\\\"2\\\" LastQty=\\\"26.0\\\" LastPx=\\\"540.698\\\" TrdDt=\\\"2022-12-17\\\" BizDt=\\\"2023-02-05\\\" TxnTm=\\\"2023-02-15T00:12:55.138-7:00\\\"><Hdr SID=\\\"MGEX\\\" TID=\\\"ABCD\\\" PosDup=\\\"Y\\\" PosRsnd=\\\"Y\\\" Snt=\\\"2023-02-15T00:12:55.160-7:00\\\"></Hdr><Instrmt Sym=\\\"ABP\\\" ID=\\\"W\\\" Src=\\\"H\\\" CFI=\\\"FCCPXX\\\" MMY=\\\"202310\\\" MatDt=\\\"2023-10-16\\\" Mult=\\\"1000\\\" Exch=\\\"SNTL\\\"></Instrmt><RptSide Side=\\\"2\\\" Ccy=\\\"USD\\\" InptSrc=\\\"EL\\\" InptDev=\\\"API\\\" CustCpcty=\\\"4\\\" PosEfct=\\\"C\\\" ClOrdID=\\\"146ZBT\\\" MLegRptTyp=\\\"2\\\" AllocInd=\\\"0\\\"><Pty ID=\\\"MGEX\\\" R=\\\"21\\\"></Pty><Pty ID=\\\"210\\\" R=\\\"1\\\"></Pty><Pty ID=\\\"210\\\" R=\\\"4\\\"></Pty><Pty ID=\\\"Hassen\\\" R=\\\"24\\\"><Sub ID=\\\"2\\\" Typ=\\\"26\\\"></Sub></Pty><Pty ID=\\\"100\\\" R=\\\"12\\\"></Pty><Alloc IndAllocID=\\\"1299626775630169525@SNTL&gt;25972804848FS@20221217||5d135\\\"></Alloc><TrdRegTS TS=\\\"2023-02-15T12:25:13.326-7:00\\\" Typ=\\\"1\\\"></TrdRegTS></RptSide></TrdCaptRpt>\",\n          \"<TrdCaptRpt RptID=\\\"380198\\\" TrdID=\\\"40112921363\\\" TransTyp=\\\"2\\\" RptTyp=\\\"2\\\" TrdTyp=\\\"2\\\" MtchID=\\\"29758016545\\\" PxTyp=\\\"2\\\" LastQty=\\\"38.0\\\" LastPx=\\\"300.9\\\" TrdDt=\\\"2022-12-17\\\" BizDt=\\\"2023-02-10\\\" TxnTm=\\\"2023-02-15T00:12:55.138-6:00\\\"><Hdr SID=\\\"MGEX\\\" TID=\\\"B509\\\" PosDup=\\\"Y\\\" PosRsnd=\\\"N\\\" Snt=\\\"2023-02-15T00:12:55.160-6:00\\\"></Hdr><Instrmt Sym=\\\"TMP\\\" ID=\\\"B\\\" Src=\\\"H\\\" CFI=\\\"FCCPXX\\\" MMY=\\\"202310\\\" MatDt=\\\"2023-10-2\\\" Mult=\\\"0.2\\\" Exch=\\\"HDPL\\\"></Instrmt><RptSide Side=\\\"1\\\" Ccy=\\\"USD\\\" InptSrc=\\\"SY\\\" InptDev=\\\"API\\\" CustCpcty=\\\"2\\\" PosEfct=\\\"O\\\" ClOrdID=\\\"245BTN\\\" MLegRptTyp=\\\"2\\\" AllocInd=\\\"0\\\"><Pty ID=\\\"MGEX\\\" R=\\\"21\\\"></Pty><Pty ID=\\\"210\\\" R=\\\"1\\\"></Pty><Pty ID=\\\"210\\\" R=\\\"4\\\"></Pty><Pty ID=\\\"arij\\\" R=\\\"24\\\"><Sub ID=\\\"1\\\" Typ=\\\"26\\\"></Sub></Pty><Pty ID=\\\"A123\\\" R=\\\"12\\\"></Pty><Alloc IndAllocID=\\\"1374332078033929218@HDPL&gt;40112921363FS@20221217||5d135\\\"></Alloc><TrdRegTS TS=\\\"2023-02-15T10:18:15.230-6:00\\\" Typ=\\\"1\\\"></TrdRegTS></RptSide></TrdCaptRpt>\"\n        ],\n        \"semantic_type\": \"\",\n        \"description\": \"\"\n      }\n    },\n    {\n      \"column\": \"CCP_Message2\",\n      \"properties\": {\n        \"dtype\": \"string\",\n        \"num_unique_values\": 900,\n        \"samples\": [\n          \"<TrdCaptRpt RptID=\\\"380199\\\" TrdID=\\\"18061000020\\\" TransTyp=\\\"0\\\" RptTyp=\\\"2\\\" TrdTyp=\\\"29\\\" OrigTrdID=\\\"34425805012\\\" MtchID=\\\"34617022860\\\" PxTyp=\\\"10\\\" LastQty=\\\"49.0\\\" LastPx=\\\"300.9\\\" TrdDt=\\\"2022-12-17\\\" BizDt=\\\"2023-02-05\\\" TxnTm=\\\"2023-03-30T00:12:55.138-5:00\\\"><Hdr SID=\\\"MGEX\\\" TID=\\\"TL98\\\" PosDup=\\\"N\\\" PosRsnd=\\\"Y\\\" Snt=\\\"2023-03-30T00:12:55.160-5:00\\\"></Hdr><Instrmt Sym=\\\"TMP\\\" ID=\\\"AS\\\" Src=\\\"H\\\" CFI=\\\"FCAPSX\\\" MMY=\\\"202305\\\" MatDt=\\\"2023-05-21\\\" Mult=\\\"2000\\\" Exch=\\\"BTNL\\\"></Instrmt><RptSide Side=\\\"2\\\" Ccy=\\\"USD\\\" InptSrc=\\\"EL\\\" InptDev=\\\"API\\\" CustCpcty=\\\"2\\\" PosEfct=\\\"C\\\" ClOrdID=\\\"123\\\" MLegRptTyp=\\\"1\\\" AllocInd=\\\"0\\\"><Pty ID=\\\"MGEX\\\" R=\\\"21\\\"></Pty><Pty ID=\\\"210\\\" R=\\\"1\\\"></Pty><Pty ID=\\\"210\\\" R=\\\"4\\\"></Pty><Pty ID=\\\"najet\\\" R=\\\"24\\\"><Sub ID=\\\"2\\\" Typ=\\\"26\\\"></Sub></Pty><Pty ID=\\\"A123\\\" R=\\\"12\\\"></Pty><Alloc IndAllocID=\\\"2022693578894227690@BTNL&gt;34425805012FS@20221217||c2537\\\"></Alloc><TrdRegTS TS=\\\"2023-03-30T16:40:55.230-5:00\\\" Typ=\\\"1\\\"></TrdRegTS></RptSide></TrdCaptRpt>\",\n          \"<TrdCaptRpt RptID=\\\"380199\\\" TrdID=\\\"18061000020\\\" TransTyp=\\\"0\\\" RptTyp=\\\"2\\\" TrdTyp=\\\"3\\\" OrigTrdID=\\\"25972804848\\\" MtchID=\\\"34662912309\\\" PxTyp=\\\"2\\\" LastQty=\\\"16.0\\\" LastPx=\\\"540.698\\\" TrdDt=\\\"2022-12-17\\\" BizDt=\\\"2023-02-05\\\" TxnTm=\\\"2023-02-15T00:12:55.138-7:00\\\"><Hdr SID=\\\"MGEX\\\" TID=\\\"ABCD\\\" PosDup=\\\"Y\\\" PosRsnd=\\\"Y\\\" Snt=\\\"2023-02-15T00:12:55.160-7:00\\\"></Hdr><Instrmt Sym=\\\"ABP\\\" ID=\\\"W\\\" Src=\\\"H\\\" CFI=\\\"FCCPXX\\\" MMY=\\\"202310\\\" MatDt=\\\"2023-10-16\\\" Mult=\\\"1000\\\" Exch=\\\"SNTL\\\"></Instrmt><RptSide Side=\\\"2\\\" Ccy=\\\"USD\\\" InptSrc=\\\"EL\\\" InptDev=\\\"API\\\" CustCpcty=\\\"4\\\" PosEfct=\\\"C\\\" ClOrdID=\\\"146ZBT\\\" MLegRptTyp=\\\"2\\\" AllocInd=\\\"0\\\"><Pty ID=\\\"MGEX\\\" R=\\\"21\\\"></Pty><Pty ID=\\\"210\\\" R=\\\"1\\\"></Pty><Pty ID=\\\"210\\\" R=\\\"4\\\"></Pty><Pty ID=\\\"6db3a\\\" R=\\\"24\\\"><Sub ID=\\\"2\\\" Typ=\\\"26\\\"></Sub></Pty><Pty ID=\\\"100\\\" R=\\\"12\\\"></Pty><Alloc IndAllocID=\\\"1299626775630169525@SNTL&gt;25972804848FS@20221217||el8ab\\\"></Alloc><TrdRegTS TS=\\\"2023-02-15T12:25:13.326-7:00\\\" Typ=\\\"1\\\"></TrdRegTS></RptSide></TrdCaptRpt>\",\n          \"<TrdCaptRpt RptID=\\\"380199\\\" TrdID=\\\"18061000020\\\" TransTyp=\\\"0\\\" RptTyp=\\\"2\\\" TrdTyp=\\\"2\\\" OrigTrdID=\\\"40112921363\\\" MtchID=\\\"29758016545\\\" PxTyp=\\\"2\\\" LastQty=\\\"19.0\\\" LastPx=\\\"300.9\\\" TrdDt=\\\"2022-12-17\\\" BizDt=\\\"2023-02-10\\\" TxnTm=\\\"2023-02-15T00:12:55.138-6:00\\\"><Hdr SID=\\\"MGEX\\\" TID=\\\"B509\\\" PosDup=\\\"Y\\\" PosRsnd=\\\"N\\\" Snt=\\\"2023-02-15T00:12:55.160-6:00\\\"></Hdr><Instrmt Sym=\\\"TMP\\\" ID=\\\"B\\\" Src=\\\"H\\\" CFI=\\\"FCCPXX\\\" MMY=\\\"202310\\\" MatDt=\\\"2023-10-2\\\" Mult=\\\"0.2\\\" Exch=\\\"HDPL\\\"></Instrmt><RptSide Side=\\\"1\\\" Ccy=\\\"USD\\\" InptSrc=\\\"SY\\\" InptDev=\\\"API\\\" CustCpcty=\\\"4\\\" PosEfct=\\\"O\\\" ClOrdID=\\\"245BTN\\\" MLegRptTyp=\\\"2\\\" AllocInd=\\\"0\\\"><Pty ID=\\\"MGEX\\\" R=\\\"21\\\"></Pty><Pty ID=\\\"210\\\" R=\\\"1\\\"></Pty><Pty ID=\\\"210\\\" R=\\\"4\\\"></Pty><Pty ID=\\\"6db3a\\\" R=\\\"24\\\"><Sub ID=\\\"1\\\" Typ=\\\"26\\\"></Sub></Pty><Pty ID=\\\"A123\\\" R=\\\"12\\\"></Pty><Alloc IndAllocID=\\\"1374332078033929218@HDPL&gt;40112921363FS@20221217||el8ab\\\"></Alloc><TrdRegTS TS=\\\"2023-02-15T10:18:15.230-6:00\\\" Typ=\\\"1\\\"></TrdRegTS></RptSide></TrdCaptRpt>\"\n        ],\n        \"semantic_type\": \"\",\n        \"description\": \"\"\n      }\n    },\n    {\n      \"column\": \"cleaned_input_message1\",\n      \"properties\": {\n        \"dtype\": \"string\",\n        \"num_unique_values\": 900,\n        \"samples\": [\n          \"TrdCaptRpt RptID=214294 TrdID=34425805012 TransTyp=0 RptTyp=2 TrdTyp=29 MtchID=34617022860 PxTyp=10 LastQty=75 LastPx=300.9 TrdDt=2022-12-17 BizDt=2023-02-05 TxnTm=2023-03-30T16:40:55.230-5:00 Hdr SID=MGEX TID=TL98 PosDup=N PosRsnd=Y Snt=2023-03-30T16:40:55.350-5:00 Hdr Instrmt Sym=TMP ID=AS Src=H CFI=FCAPSX MMY=202305 MatDt=2023-05-21 Mult=2000 Exch=BTNL Instrmt RptSide Side=2 Ccy=USD InptSrc=EL InptDev=PORTAL CustCpcty=1 PosEfct=C ClOrdID=123 MLegRptTyp=1 AllocInd=0 Pty ID=MGEX R=21 Pty Pty ID=210 R=1 Pty Pty ID=210 R=4 Pty Pty ID=Mohamed-300 R=24 Sub ID=2 Typ=26 Sub Pty Pty ID=A123 R=12 Pty TrdRegTS TS=2023-03-30T16:40:55.230-5:00 Typ=1 TrdRegTS RptSide TrdCaptRpt  Alloc Qty=26.0 CustCpcty=3 IndAllocID=2022693578894227690@BTNL&gt;34425805012FS@20221217||9la98 Pty ID=arij R=24 Sub ID=2 Typ=26  Pty Alloc \",\n          \"TrdCaptRpt RptID=86839 TrdID=25972804848 TransTyp=0 RptTyp=2 TrdTyp=3 MtchID=34662912309 PxTyp=2 LastQty=42 LastPx=540.698 TrdDt=2022-12-17 BizDt=2023-02-05 TxnTm=2023-02-15T12:25:13.326-7:00 Hdr SID=MGEX TID=ABCD PosDup=Y PosRsnd=Y Snt=2023-02-15T12:25:13.350-7:00 Hdr Instrmt Sym=ABP ID=W Src=H CFI=FCCPXX MMY=202310 MatDt=2023-10-16 Mult=1000 Exch=SNTL Instrmt RptSide Side=2 Ccy=USD InptSrc=EL InptDev=PORTAL CustCpcty=2 PosEfct=C ClOrdID=146ZBT MLegRptTyp=2 AllocInd=0 Pty ID=MGEX R=21 Pty Pty ID=210 R=1 Pty Pty ID=210 R=4 Pty Pty ID=Emira-115 R=24 Sub ID=2 Typ=26 Sub Pty Pty ID=100 R=12 Pty TrdRegTS TS=2023-02-15T12:25:13.326-7:00 Typ=1 TrdRegTS RptSide TrdCaptRpt  Alloc Qty=26.0 CustCpcty=4 IndAllocID=1299626775630169525@SNTL&gt;25972804848FS@20221217||5d135 Pty ID=Hassen R=24 Sub ID=2 Typ=26  Pty Alloc \",\n          \"TrdCaptRpt RptID=24952 TrdID=40112921363 TransTyp=0 RptTyp=2 TrdTyp=2 MtchID=29758016545 PxTyp=2 LastQty=57 LastPx=300.9 TrdDt=2022-12-17 BizDt=2023-02-10 TxnTm=2023-02-15T10:18:15.230-6:00 Hdr SID=MGEX TID=B509 PosDup=Y PosRsnd=N Snt=2023-02-15T10:18:15.768-6:00 Hdr Instrmt Sym=TMP ID=B Src=H CFI=FCCPXX MMY=202310 MatDt=2023-10-2 Mult=0.2 Exch=HDPL Instrmt RptSide Side=1 Ccy=USD InptSrc=SY InptDev=API CustCpcty=3 PosEfct=O ClOrdID=245BTN MLegRptTyp=2 AllocInd=0 Pty ID=MGEX R=21 Pty Pty ID=210 R=1 Pty Pty ID=210 R=4 Pty Pty ID=acc-AT R=24 Sub ID=1 Typ=26 Sub Pty Pty ID=A123 R=12 Pty TrdRegTS TS=2023-02-15T10:18:15.230-6:00 Typ=1 TrdRegTS RptSide TrdCaptRpt  Alloc Qty=38.0 CustCpcty=2 IndAllocID=1374332078033929218@HDPL&gt;40112921363FS@20221217||5d135 Pty ID=arij R=24 Sub ID=1 Typ=26  Pty Alloc \"\n        ],\n        \"semantic_type\": \"\",\n        \"description\": \"\"\n      }\n    },\n    {\n      \"column\": \"cleaned_input_message2\",\n      \"properties\": {\n        \"dtype\": \"string\",\n        \"num_unique_values\": 900,\n        \"samples\": [\n          \"TrdCaptRpt RptID=214294 TrdID=34425805012 TransTyp=0 RptTyp=2 TrdTyp=29 MtchID=34617022860 PxTyp=10 LastQty=75 LastPx=300.9 TrdDt=2022-12-17 BizDt=2023-02-05 TxnTm=2023-03-30T16:40:55.230-5:00 Hdr SID=MGEX TID=TL98 PosDup=N PosRsnd=Y Snt=2023-03-30T16:40:55.350-5:00 Hdr Instrmt Sym=TMP ID=AS Src=H CFI=FCAPSX MMY=202305 MatDt=2023-05-21 Mult=2000 Exch=BTNL Instrmt RptSide Side=2 Ccy=USD InptSrc=EL InptDev=PORTAL CustCpcty=1 PosEfct=C ClOrdID=123 MLegRptTyp=1 AllocInd=0 Pty ID=MGEX R=21 Pty Pty ID=210 R=1 Pty Pty ID=210 R=4 Pty Pty ID=Mohamed-300 R=24 Sub ID=2 Typ=26 Sub Pty Pty ID=A123 R=12 Pty TrdRegTS TS=2023-03-30T16:40:55.230-5:00 Typ=1 TrdRegTS RptSide TrdCaptRpt  Alloc Qty=49.0 CustCpcty=2 IndAllocID=2022693578894227690@BTNL&gt;34425805012FS@20221217||c2537 Pty ID=najet R=24 Sub ID=2 Typ=26  Pty Alloc \",\n          \"TrdCaptRpt RptID=86839 TrdID=25972804848 TransTyp=0 RptTyp=2 TrdTyp=3 MtchID=34662912309 PxTyp=2 LastQty=42 LastPx=540.698 TrdDt=2022-12-17 BizDt=2023-02-05 TxnTm=2023-02-15T12:25:13.326-7:00 Hdr SID=MGEX TID=ABCD PosDup=Y PosRsnd=Y Snt=2023-02-15T12:25:13.350-7:00 Hdr Instrmt Sym=ABP ID=W Src=H CFI=FCCPXX MMY=202310 MatDt=2023-10-16 Mult=1000 Exch=SNTL Instrmt RptSide Side=2 Ccy=USD InptSrc=EL InptDev=PORTAL CustCpcty=2 PosEfct=C ClOrdID=146ZBT MLegRptTyp=2 AllocInd=0 Pty ID=MGEX R=21 Pty Pty ID=210 R=1 Pty Pty ID=210 R=4 Pty Pty ID=Emira-115 R=24 Sub ID=2 Typ=26 Sub Pty Pty ID=100 R=12 Pty TrdRegTS TS=2023-02-15T12:25:13.326-7:00 Typ=1 TrdRegTS RptSide TrdCaptRpt  Alloc Qty=16.0 CustCpcty=4 IndAllocID=1299626775630169525@SNTL&gt;25972804848FS@20221217||el8ab Pty ID=6db3a R=24 Sub ID=2 Typ=26  Pty Alloc \",\n          \"TrdCaptRpt RptID=24952 TrdID=40112921363 TransTyp=0 RptTyp=2 TrdTyp=2 MtchID=29758016545 PxTyp=2 LastQty=57 LastPx=300.9 TrdDt=2022-12-17 BizDt=2023-02-10 TxnTm=2023-02-15T10:18:15.230-6:00 Hdr SID=MGEX TID=B509 PosDup=Y PosRsnd=N Snt=2023-02-15T10:18:15.768-6:00 Hdr Instrmt Sym=TMP ID=B Src=H CFI=FCCPXX MMY=202310 MatDt=2023-10-2 Mult=0.2 Exch=HDPL Instrmt RptSide Side=1 Ccy=USD InptSrc=SY InptDev=API CustCpcty=3 PosEfct=O ClOrdID=245BTN MLegRptTyp=2 AllocInd=0 Pty ID=MGEX R=21 Pty Pty ID=210 R=1 Pty Pty ID=210 R=4 Pty Pty ID=acc-AT R=24 Sub ID=1 Typ=26 Sub Pty Pty ID=A123 R=12 Pty TrdRegTS TS=2023-02-15T10:18:15.230-6:00 Typ=1 TrdRegTS RptSide TrdCaptRpt  Alloc Qty=19.0 CustCpcty=4 IndAllocID=1374332078033929218@HDPL&gt;40112921363FS@20221217||el8ab Pty ID=6db3a R=24 Sub ID=1 Typ=26  Pty Alloc \"\n        ],\n        \"semantic_type\": \"\",\n        \"description\": \"\"\n      }\n    }\n  ]\n}"
            }
          },
          "metadata": {},
          "execution_count": 91
        }
      ]
    },
    {
      "cell_type": "code",
      "source": [
        "import torch\n",
        "from transformers import GPT2Tokenizer, GPT2LMHeadModel\n",
        "from torch.utils.data import DataLoader, Dataset"
      ],
      "metadata": {
        "id": "2WfMSD6ZLoNv"
      },
      "execution_count": null,
      "outputs": []
    },
    {
      "cell_type": "markdown",
      "source": [
        "**Creating Custom Datasets, Data Loaders for the first model (for the first CCP Message prediction) and Loading the Tokenizer and the Models**"
      ],
      "metadata": {
        "id": "5lZGYou7PqR-"
      }
    },
    {
      "cell_type": "code",
      "source": [
        "class CustomDataset1(Dataset):\n",
        "    def __init__(self, data, tokenizer, max_length):\n",
        "        self.data = data\n",
        "        self.tokenizer = tokenizer\n",
        "        self.max_length = max_length\n",
        "\n",
        "    def __len__(self):\n",
        "        return len(self.data)\n",
        "\n",
        "    def __getitem__(self, index):\n",
        "        seq = self.data.iloc[index]['cleaned_input_message1']\n",
        "        target = self.data.iloc[index]['CCP_Message1']\n",
        "\n",
        "        input_seq = f\"{seq} {target}\"\n",
        "\n",
        "        input_ids = self.tokenizer.encode(input_seq, return_tensors='pt', max_length=self.max_length, truncation=True, padding='max_length')\n",
        "\n",
        "        return input_ids"
      ],
      "metadata": {
        "id": "h1hjWeukLqtF"
      },
      "execution_count": null,
      "outputs": []
    },
    {
      "cell_type": "code",
      "source": [
        "tokenizer = GPT2Tokenizer.from_pretrained('distilgpt2')\n",
        "model1 = GPT2LMHeadModel.from_pretrained('distilgpt2')\n",
        "model2 = GPT2LMHeadModel.from_pretrained('distilgpt2')"
      ],
      "metadata": {
        "id": "b33TSfDNLx7j"
      },
      "execution_count": null,
      "outputs": []
    },
    {
      "cell_type": "code",
      "source": [
        "tokenizer.pad_token = tokenizer.eos_token"
      ],
      "metadata": {
        "id": "VhGHVps5L7jX"
      },
      "execution_count": null,
      "outputs": []
    },
    {
      "cell_type": "code",
      "source": [
        "MAX_LENGTH = 1000\n",
        "BATCH_SIZE = 2\n",
        "EPOCHS = 3"
      ],
      "metadata": {
        "id": "o-fYKmhyL5OT"
      },
      "execution_count": null,
      "outputs": []
    },
    {
      "cell_type": "code",
      "source": [
        "train_dataset1 = CustomDataset1(train_data, tokenizer, MAX_LENGTH)\n",
        "val_dataset1 = CustomDataset1(val_data, tokenizer, MAX_LENGTH)"
      ],
      "metadata": {
        "id": "eY3x9NRYMAal"
      },
      "execution_count": null,
      "outputs": []
    },
    {
      "cell_type": "code",
      "source": [
        "print(type(train_dataset1[0]))"
      ],
      "metadata": {
        "colab": {
          "base_uri": "https://localhost:8080/"
        },
        "id": "HBHRMhWwMJIW",
        "outputId": "f6ab9929-a932-4d7e-c484-659c2c51aebd"
      },
      "execution_count": null,
      "outputs": [
        {
          "output_type": "stream",
          "name": "stdout",
          "text": [
            "<class 'torch.Tensor'>\n"
          ]
        }
      ]
    },
    {
      "cell_type": "code",
      "source": [
        "train_loader1 = DataLoader(train_dataset1, batch_size=BATCH_SIZE, shuffle=True)\n",
        "val_loader1 = DataLoader(val_dataset1, batch_size=BATCH_SIZE, shuffle=False)"
      ],
      "metadata": {
        "id": "fFkMcvfwMO7n"
      },
      "execution_count": null,
      "outputs": []
    },
    {
      "cell_type": "code",
      "source": [
        "device = torch.device('cuda' if torch.cuda.is_available() else 'cpu')\n",
        "model1.to(device)"
      ],
      "metadata": {
        "colab": {
          "base_uri": "https://localhost:8080/"
        },
        "id": "P0KXJ15yMUw7",
        "outputId": "52e37834-83c8-42d9-a41e-cbe4eab3ac0b"
      },
      "execution_count": null,
      "outputs": [
        {
          "output_type": "execute_result",
          "data": {
            "text/plain": [
              "GPT2LMHeadModel(\n",
              "  (transformer): GPT2Model(\n",
              "    (wte): Embedding(50257, 768)\n",
              "    (wpe): Embedding(1024, 768)\n",
              "    (drop): Dropout(p=0.1, inplace=False)\n",
              "    (h): ModuleList(\n",
              "      (0-5): 6 x GPT2Block(\n",
              "        (ln_1): LayerNorm((768,), eps=1e-05, elementwise_affine=True)\n",
              "        (attn): GPT2Attention(\n",
              "          (c_attn): Conv1D()\n",
              "          (c_proj): Conv1D()\n",
              "          (attn_dropout): Dropout(p=0.1, inplace=False)\n",
              "          (resid_dropout): Dropout(p=0.1, inplace=False)\n",
              "        )\n",
              "        (ln_2): LayerNorm((768,), eps=1e-05, elementwise_affine=True)\n",
              "        (mlp): GPT2MLP(\n",
              "          (c_fc): Conv1D()\n",
              "          (c_proj): Conv1D()\n",
              "          (act): NewGELUActivation()\n",
              "          (dropout): Dropout(p=0.1, inplace=False)\n",
              "        )\n",
              "      )\n",
              "    )\n",
              "    (ln_f): LayerNorm((768,), eps=1e-05, elementwise_affine=True)\n",
              "  )\n",
              "  (lm_head): Linear(in_features=768, out_features=50257, bias=False)\n",
              ")"
            ]
          },
          "metadata": {},
          "execution_count": 100
        }
      ]
    },
    {
      "cell_type": "code",
      "source": [
        "optimizer1 = torch.optim.AdamW(model1.parameters(), lr=2e-5)"
      ],
      "metadata": {
        "id": "kKlcSSUvMaEV"
      },
      "execution_count": null,
      "outputs": []
    },
    {
      "cell_type": "markdown",
      "source": [
        "**Training the first model**"
      ],
      "metadata": {
        "id": "0nqcymBcPyhs"
      }
    },
    {
      "cell_type": "code",
      "source": [
        "for epoch in range(EPOCHS):\n",
        "    model1.train()\n",
        "    total_loss = 0\n",
        "    for batch in train_loader1:\n",
        "        input_ids = batch.to(device)\n",
        "\n",
        "        labels = input_ids.clone()\n",
        "\n",
        "        optimizer1.zero_grad()\n",
        "\n",
        "        outputs = model1(input_ids, labels=labels)\n",
        "        loss = outputs.loss\n",
        "        loss.backward()\n",
        "        optimizer1.step()\n",
        "\n",
        "        total_loss += loss.item()\n",
        "\n",
        "    avg_train_loss1 = total_loss / len(train_loader1)\n",
        "    print(f'Epoch {epoch+1}, Average Training Loss: {avg_train_loss1}')"
      ],
      "metadata": {
        "colab": {
          "base_uri": "https://localhost:8080/"
        },
        "id": "5ZxAr8grMl7B",
        "outputId": "a5a474f7-b934-49c0-c7c5-0728559762ad"
      },
      "execution_count": null,
      "outputs": [
        {
          "output_type": "stream",
          "name": "stdout",
          "text": [
            "Epoch 1, Average Training Loss: 0.6902260111437903\n",
            "Epoch 2, Average Training Loss: 0.2155196425649855\n",
            "Epoch 3, Average Training Loss: 0.1928686726755566\n"
          ]
        }
      ]
    },
    {
      "cell_type": "markdown",
      "source": [
        "**Evaluating the first model**"
      ],
      "metadata": {
        "id": "sxoF5driP3iV"
      }
    },
    {
      "cell_type": "code",
      "source": [
        "model1.eval()\n",
        "total_loss = 0\n",
        "\n",
        "with torch.no_grad():\n",
        "    for batch in val_loader1:\n",
        "        input_ids = batch.to(device)\n",
        "\n",
        "        labels = input_ids.clone()\n",
        "\n",
        "        outputs = model1(input_ids, labels=labels)\n",
        "        loss = outputs.loss\n",
        "\n",
        "        total_loss += loss.item()\n",
        "\n",
        "avg_val_loss1 = total_loss / len(val_loader1)\n",
        "print(f'Average Validation Loss: {avg_val_loss1}')"
      ],
      "metadata": {
        "colab": {
          "base_uri": "https://localhost:8080/"
        },
        "id": "AlaOI2pDaaK1",
        "outputId": "666082c3-c5d1-4791-f7a6-f857a657aa6e"
      },
      "execution_count": null,
      "outputs": [
        {
          "output_type": "stream",
          "name": "stdout",
          "text": [
            "Average Validation Loss: 0.1724311363697052\n"
          ]
        }
      ]
    },
    {
      "cell_type": "markdown",
      "source": [
        "**Creating Function to generate predictions using a model**"
      ],
      "metadata": {
        "id": "-hppuzz0P8PW"
      }
    },
    {
      "cell_type": "code",
      "source": [
        "def predict(seq,model):\n",
        "  model.eval()\n",
        "  input_ids = tokenizer.encode(seq, return_tensors='pt').to(device)\n",
        "  output = model.generate(input_ids, max_length=1000, num_return_sequences=1, pad_token_id=tokenizer.eos_token_id)\n",
        "  decoded_output = tokenizer.decode(output[0], skip_special_tokens=True)\n",
        "  output_sequence = decoded_output[len(seq):].strip()\n",
        "  return output_sequence"
      ],
      "metadata": {
        "id": "LuvSOrYva51S"
      },
      "execution_count": null,
      "outputs": []
    },
    {
      "cell_type": "code",
      "source": [
        "val_data.iloc[0]['CCP_Message1']"
      ],
      "metadata": {
        "colab": {
          "base_uri": "https://localhost:8080/",
          "height": 105
        },
        "id": "6wWUnjelbHcV",
        "outputId": "0efa2379-fb5c-4f85-bb1d-ec3cc371e477"
      },
      "execution_count": null,
      "outputs": [
        {
          "output_type": "execute_result",
          "data": {
            "text/plain": [
              "'<TrdCaptRpt RptID=\"380198\" TrdID=\"20619948305\" TransTyp=\"2\" RptTyp=\"2\" TrdTyp=\"1\" MtchID=\"33472008371\" PxTyp=\"2\" LastQty=\"6.0\" LastPx=\"300.9\" TrdDt=\"2023-01-02\" BizDt=\"2023-01-06\" TxnTm=\"2023-03-30T00:12:55.138-5:00\"><Hdr SID=\"MGEX\" TID=\"HBPL\" PosDup=\"Y\" PosRsnd=\"Y\" Snt=\"2023-03-30T00:12:55.160-5:00\"></Hdr><Instrmt Sym=\"BUI\" ID=\"W\" Src=\"H\" CFI=\"FCAPSX\" MMY=\"202310\" MatDt=\"2023-10-1\" Mult=\"200\" Exch=\"BTNL\"></Instrmt><RptSide Side=\"2\" Ccy=\"USD\" InptSrc=\"EL\" InptDev=\"API\" CustCpcty=\"2\" PosEfct=\"O\" ClOrdID=\"OrdAT\" MLegRptTyp=\"1\" AllocInd=\"0\"><Pty ID=\"MGEX\" R=\"21\"></Pty><Pty ID=\"210\" R=\"1\"></Pty><Pty ID=\"210\" R=\"4\"></Pty><Pty ID=\"MPLAMP6\" R=\"24\"><Sub ID=\"1\" Typ=\"26\"></Sub></Pty><Pty ID=\"200\" R=\"12\"></Pty><Alloc IndAllocID=\"1162483219253960367@BTNL&gt;20619948305FS@20230102||ckpla\"></Alloc><TrdRegTS TS=\"2023-03-30T10:18:15.326-5:00\" Typ=\"1\"></TrdRegTS></RptSide></TrdCaptRpt>'"
            ],
            "application/vnd.google.colaboratory.intrinsic+json": {
              "type": "string"
            }
          },
          "metadata": {},
          "execution_count": 105
        }
      ]
    },
    {
      "cell_type": "code",
      "source": [
        "predict(val_data.iloc[0]['cleaned_input_message1'],model1)"
      ],
      "metadata": {
        "colab": {
          "base_uri": "https://localhost:8080/",
          "height": 105
        },
        "id": "b4G8a2f3bIb3",
        "outputId": "504775e0-a561-4133-c912-357c54fca566"
      },
      "execution_count": null,
      "outputs": [
        {
          "output_type": "execute_result",
          "data": {
            "text/plain": [
              "'<TrdCaptRpt RptID=\"380198\" TrdID=\"20619948305\" TransTyp=\"2\" RptTyp=\"2\" TrdTyp=\"1\" MtchID=\"33472008371\" PxTyp=\"2\" LastQty=\"6.0\" LastPx=\"300.9\" TrdDt=\"2023-01-02\" BizDt=\"2023-01-06\" TxnTm=\"2023-03-30T00:12:55.138-5:00\"><Hdr SID=\"MGEX\" TID=\"HBPL\" PosDup=\"Y\" PosRsnd=\"Y\" Snt=\"2023-03-30T00:12:55.160-5:00\"></Hdr><Instrmt Sym=\"BUI\" ID=\"W\" Src=\"H\" CFI=\"FCAPSX\" MMY=\"202310\" MatDt=\"2023-10-1\" Mult=\"200\" Exch=\"BTNL\"></Instrmt><RptSide Side=\"2\" Ccy=\"USD\" InptSrc=\"EL\" InptDev=\"API\" CustCpcty=\"2\" PosEfct=\"O\" ClOrdID=\"OrdAT\" MLegRptTyp=\"1\" AllocInd=\"0\"><Pty ID=\"MGEX\" R=\"21\"></Pty><Pty ID=\"210\" R=\"1\"></Pty><Pty ID=\"210\" R=\"4\"></Pty><Pty ID=\"MPLAMP6\" R=\"24\"><Sub ID=\"1\" Typ=\"26\"></Sub></Pty><Pty ID=\"200\" R=\"12\"></Pty><Alloc IndAllocID=\"1162483219253960367@BTNL&gt;20619948305FS@20230102||ckpla\"></Alloc><TrdRegTS TS=\"2023-03-30T10:18:15.326-5:00\" Typ=\"1\"></TrdRegTS></RptSide></TrdCaptRpt>'"
            ],
            "application/vnd.google.colaboratory.intrinsic+json": {
              "type": "string"
            }
          },
          "metadata": {},
          "execution_count": 106
        }
      ]
    },
    {
      "cell_type": "markdown",
      "source": [
        "**Calculating the Accuracy for the first model**"
      ],
      "metadata": {
        "id": "G8HXUA6aQHJl"
      }
    },
    {
      "cell_type": "code",
      "source": [
        "som = 0\n",
        "for i in range(100):\n",
        "  if val_data.iloc[i]['CCP_Message1'] == predict(val_data.iloc[i]['cleaned_input_message1'],model1):\n",
        "    som = som+1\n",
        "print('Accuracy for CCP Message 1:',som/100)"
      ],
      "metadata": {
        "colab": {
          "base_uri": "https://localhost:8080/"
        },
        "id": "K5ODnQJFbQ2y",
        "outputId": "f4883f28-7f04-4931-fd24-107b6eaa867c"
      },
      "execution_count": null,
      "outputs": [
        {
          "output_type": "stream",
          "name": "stdout",
          "text": [
            "Accuracy for CCP Message1: 0.98\n"
          ]
        }
      ]
    },
    {
      "cell_type": "markdown",
      "source": [
        "**Identifying Causes of Mismatched Predictions**"
      ],
      "metadata": {
        "id": "zH07IQEhQMc9"
      }
    },
    {
      "cell_type": "code",
      "source": [
        "for i in range(100):\n",
        "  if val_data.iloc[i]['CCP_Message1'] != predict(val_data.iloc[i]['cleaned_input_message1'],model1):\n",
        "    print('Message', i)\n",
        "    print('Predicted message:')\n",
        "    print(predict(val_data.iloc[i]['cleaned_input_message1'],model1))\n",
        "    print('Test message:')\n",
        "    print(val_data.iloc[i]['CCP_Message1'])"
      ],
      "metadata": {
        "colab": {
          "base_uri": "https://localhost:8080/"
        },
        "id": "iXSBTsiPbX3b",
        "outputId": "9bb3c6f2-9173-4e47-db57-9bea87933679"
      },
      "execution_count": null,
      "outputs": [
        {
          "output_type": "stream",
          "name": "stdout",
          "text": [
            "Message 34\n",
            "Predicted message:\n",
            "<TrdCaptRpt RptID=\"380198\" TrdID=\"34354491404\" TransTyp=\"2\" RptTyp=\"2\" TrdTyp=\"11\" MtchID=\"20715532817\" PxTyp=\"10\" LastQty=\"17.0\" LastPx=\"250.45\" TrdDt=\"2022-12-21\" BizDt=\"2023-01-11\" TxnTm=\"2023-02-15T00:12:55.138-6:00\"><Hdr SID=\"MGEX\" TID=\"HBPL\" PosDup=\"Y\" PosRsnd=\"N\" Snt=\"2023-02-15T00:12:55.160-6:00\"></Hdr><Instrmt Sym=\"ABP\" ID=\"AS\" Src=\"H\" CFI=\"APYBKL\" MMY=\"202307\" MatDt=\"2023-07-7\" Mult=\"200\" Exch=\"XMGE\"></Instrmt><RptSide Side=\"2\" Ccy=\"USD\" InptSrc=\"MA\" InptDev=\"API\" CustCpcty=\"3\" PosEfct=\"C\" ClOrdID=\"987NL\" MLegRptTyp=\"1\" AllocInd=\"0\"><Pty ID=\"MGEX\" R=\"21\"></Pty><Pty ID=\"210\" R=\"1\"></Pty><Pty ID=\"210\" R=\"4\"></Pty><Pty ID=\"FIRMACT1\" R=\"24\"><Sub ID=\"1\" Typ=\"26\"></Sub></Pty><Pty ID=\"A123\" R=\"12\"></Pty><Alloc IndAllocID=\"21111355947187049@XMGE&gt;34354491404FS@20221221||5d135\"></Alloc><TrdRegTS TS=\"2023-02-15T16:40:55.326-6:00\" Typ=\"1\"></TrdRegTS></RptSide></TrdCaptRpt>\n",
            "Test message:\n",
            "<TrdCaptRpt RptID=\"380198\" TrdID=\"34354491404\" TransTyp=\"2\" RptTyp=\"2\" TrdTyp=\"11\" MtchID=\"20715532817\" PxTyp=\"10\" LastQty=\"17.0\" LastPx=\"250.45\" TrdDt=\"2022-12-21\" BizDt=\"2023-01-11\" TxnTm=\"2023-02-15T00:12:55.138-6:00\"><Hdr SID=\"MGEX\" TID=\"HBPL\" PosDup=\"Y\" PosRsnd=\"N\" Snt=\"2023-02-15T00:12:55.160-6:00\"></Hdr><Instrmt Sym=\"ABP\" ID=\"AS\" Src=\"H\" CFI=\"APYBKL\" MMY=\"202307\" MatDt=\"2023-07-7\" Mult=\"200\" Exch=\"XMGE\"></Instrmt><RptSide Side=\"2\" Ccy=\"USD\" InptSrc=\"MA\" InptDev=\"API\" CustCpcty=\"3\" PosEfct=\"C\" ClOrdID=\"987NL\" MLegRptTyp=\"1\" AllocInd=\"0\"><Pty ID=\"MGEX\" R=\"21\"></Pty><Pty ID=\"210\" R=\"1\"></Pty><Pty ID=\"210\" R=\"4\"></Pty><Pty ID=\"FIRMACT1\" R=\"24\"><Sub ID=\"1\" Typ=\"26\"></Sub></Pty><Pty ID=\"A123\" R=\"12\"></Pty><Alloc IndAllocID=\"2111135594718708049@XMGE&gt;34354491404FS@20221221||5d135\"></Alloc><TrdRegTS TS=\"2023-02-15T16:40:55.326-6:00\" Typ=\"1\"></TrdRegTS></RptSide></TrdCaptRpt>\n",
            "Message 48\n",
            "Predicted message:\n",
            "<TrdCaptRpt RptID=\"380198\" TrdID=\"32107207292\" TransTyp=\"2\" RptTyp=\"2\" TrdTyp=\"3\" MtchID=\"21218883913\" PxTyp=\"10\" LastQty=\"29.0\" LastPx=\"540.698\" TrdDt=\"2022-12-21\" BizDt=\"2023-01-06\" TxnTm=\"2023-03-30T00:12:55.138-6:00\"><Hdr SID=\"MGEX\" TID=\"B509\" PosDup=\"Y\" PosRsnd=\"N\" Snt=\"2023-03-30T00:12:55.160-6:00\"></Hdr><Instrmt Sym=\"BUI\" ID=\"W\" Src=\"H\" CFI=\"FCAPSX\" MMY=\"202307\" MatDt=\"2023-07-7\" Mult=\"5000\" Exch=\"SNTL\"></Instrmt><RptSide Side=\"2\" Ccy=\"USD\" InptSrc=\"SY\" InptDev=\"API\" CustCpcty=\"4\" PosEfct=\"O\" ClOrdID=\"145\" MLegRptTyp=\"3\" AllocInd=\"0\"><Pty ID=\"MGEX\" R=\"21\"></Pty><Pty ID=\"210\" R=\"1\"></Pty><Pty ID=\"210\" R=\"4\"></Pty><Pty ID=\"00120007\" R=\"24\"><Sub ID=\"2\" Typ=\"26\"></Sub></Pty><Pty ID=\"100\" R=\"12\"></Pty><Alloc IndAllocID=\"12601647175861711@SNTL&gt;32107207292FS@20221221||5d135\"></Alloc><TrdRegTS TS=\"2023-03-30T10:18:15.100-6:00\" Typ=\"1\"></TrdRegTS></RptSide></TrdCaptRpt>\n",
            "Test message:\n",
            "<TrdCaptRpt RptID=\"380198\" TrdID=\"32107207292\" TransTyp=\"2\" RptTyp=\"2\" TrdTyp=\"3\" MtchID=\"21218883913\" PxTyp=\"10\" LastQty=\"29.0\" LastPx=\"540.698\" TrdDt=\"2022-12-21\" BizDt=\"2023-01-06\" TxnTm=\"2023-03-30T00:12:55.138-6:00\"><Hdr SID=\"MGEX\" TID=\"B509\" PosDup=\"Y\" PosRsnd=\"N\" Snt=\"2023-03-30T00:12:55.160-6:00\"></Hdr><Instrmt Sym=\"BUI\" ID=\"W\" Src=\"H\" CFI=\"FCAPSX\" MMY=\"202307\" MatDt=\"2023-07-7\" Mult=\"5000\" Exch=\"SNTL\"></Instrmt><RptSide Side=\"2\" Ccy=\"USD\" InptSrc=\"SY\" InptDev=\"API\" CustCpcty=\"4\" PosEfct=\"O\" ClOrdID=\"145\" MLegRptTyp=\"3\" AllocInd=\"0\"><Pty ID=\"MGEX\" R=\"21\"></Pty><Pty ID=\"210\" R=\"1\"></Pty><Pty ID=\"210\" R=\"4\"></Pty><Pty ID=\"00120007\" R=\"24\"><Sub ID=\"2\" Typ=\"26\"></Sub></Pty><Pty ID=\"100\" R=\"12\"></Pty><Alloc IndAllocID=\"1260101647175861711@SNTL&gt;32107207292FS@20221221||5d135\"></Alloc><TrdRegTS TS=\"2023-03-30T10:18:15.100-6:00\" Typ=\"1\"></TrdRegTS></RptSide></TrdCaptRpt>\n"
          ]
        }
      ]
    },
    {
      "cell_type": "code",
      "source": [
        "print('Accuracy for CCP Message 1:',som/100)"
      ],
      "metadata": {
        "colab": {
          "base_uri": "https://localhost:8080/"
        },
        "id": "nCXEdAQGjyrt",
        "outputId": "e0149a8c-c8f0-4f43-fe11-02dd501d54ef"
      },
      "execution_count": null,
      "outputs": [
        {
          "output_type": "stream",
          "name": "stdout",
          "text": [
            "Accuracy for CCP Message 1: 0.98\n"
          ]
        }
      ]
    },
    {
      "cell_type": "code",
      "source": [
        "val_data.iloc[34]['CCP_Message1']"
      ],
      "metadata": {
        "colab": {
          "base_uri": "https://localhost:8080/",
          "height": 105
        },
        "id": "ej1l13daf55Y",
        "outputId": "a7dd4c6d-9793-4200-9296-4643177cb0cb"
      },
      "execution_count": null,
      "outputs": [
        {
          "output_type": "execute_result",
          "data": {
            "text/plain": [
              "'<TrdCaptRpt RptID=\"380198\" TrdID=\"34354491404\" TransTyp=\"2\" RptTyp=\"2\" TrdTyp=\"11\" MtchID=\"20715532817\" PxTyp=\"10\" LastQty=\"17.0\" LastPx=\"250.45\" TrdDt=\"2022-12-21\" BizDt=\"2023-01-11\" TxnTm=\"2023-02-15T00:12:55.138-6:00\"><Hdr SID=\"MGEX\" TID=\"HBPL\" PosDup=\"Y\" PosRsnd=\"N\" Snt=\"2023-02-15T00:12:55.160-6:00\"></Hdr><Instrmt Sym=\"ABP\" ID=\"AS\" Src=\"H\" CFI=\"APYBKL\" MMY=\"202307\" MatDt=\"2023-07-7\" Mult=\"200\" Exch=\"XMGE\"></Instrmt><RptSide Side=\"2\" Ccy=\"USD\" InptSrc=\"MA\" InptDev=\"API\" CustCpcty=\"3\" PosEfct=\"C\" ClOrdID=\"987NL\" MLegRptTyp=\"1\" AllocInd=\"0\"><Pty ID=\"MGEX\" R=\"21\"></Pty><Pty ID=\"210\" R=\"1\"></Pty><Pty ID=\"210\" R=\"4\"></Pty><Pty ID=\"FIRMACT1\" R=\"24\"><Sub ID=\"1\" Typ=\"26\"></Sub></Pty><Pty ID=\"A123\" R=\"12\"></Pty><Alloc IndAllocID=\"2111135594718708049@XMGE&gt;34354491404FS@20221221||5d135\"></Alloc><TrdRegTS TS=\"2023-02-15T16:40:55.326-6:00\" Typ=\"1\"></TrdRegTS></RptSide></TrdCaptRpt>'"
            ],
            "application/vnd.google.colaboratory.intrinsic+json": {
              "type": "string"
            }
          },
          "metadata": {},
          "execution_count": 110
        }
      ]
    },
    {
      "cell_type": "code",
      "source": [
        "predict(val_data.iloc[34]['cleaned_input_message1'],model1)"
      ],
      "metadata": {
        "colab": {
          "base_uri": "https://localhost:8080/",
          "height": 105
        },
        "id": "bE7lP-hJj9HJ",
        "outputId": "bb05f413-446b-4553-8b39-5b0fd2a843c4"
      },
      "execution_count": null,
      "outputs": [
        {
          "output_type": "execute_result",
          "data": {
            "text/plain": [
              "'<TrdCaptRpt RptID=\"380198\" TrdID=\"34354491404\" TransTyp=\"2\" RptTyp=\"2\" TrdTyp=\"11\" MtchID=\"20715532817\" PxTyp=\"10\" LastQty=\"17.0\" LastPx=\"250.45\" TrdDt=\"2022-12-21\" BizDt=\"2023-01-11\" TxnTm=\"2023-02-15T00:12:55.138-6:00\"><Hdr SID=\"MGEX\" TID=\"HBPL\" PosDup=\"Y\" PosRsnd=\"N\" Snt=\"2023-02-15T00:12:55.160-6:00\"></Hdr><Instrmt Sym=\"ABP\" ID=\"AS\" Src=\"H\" CFI=\"APYBKL\" MMY=\"202307\" MatDt=\"2023-07-7\" Mult=\"200\" Exch=\"XMGE\"></Instrmt><RptSide Side=\"2\" Ccy=\"USD\" InptSrc=\"MA\" InptDev=\"API\" CustCpcty=\"3\" PosEfct=\"C\" ClOrdID=\"987NL\" MLegRptTyp=\"1\" AllocInd=\"0\"><Pty ID=\"MGEX\" R=\"21\"></Pty><Pty ID=\"210\" R=\"1\"></Pty><Pty ID=\"210\" R=\"4\"></Pty><Pty ID=\"FIRMACT1\" R=\"24\"><Sub ID=\"1\" Typ=\"26\"></Sub></Pty><Pty ID=\"A123\" R=\"12\"></Pty><Alloc IndAllocID=\"21111355947187049@XMGE&gt;34354491404FS@20221221||5d135\"></Alloc><TrdRegTS TS=\"2023-02-15T16:40:55.326-6:00\" Typ=\"1\"></TrdRegTS></RptSide></TrdCaptRpt>'"
            ],
            "application/vnd.google.colaboratory.intrinsic+json": {
              "type": "string"
            }
          },
          "metadata": {},
          "execution_count": 111
        }
      ]
    },
    {
      "cell_type": "code",
      "source": [
        "val_data.iloc[48]['CCP_Message1']"
      ],
      "metadata": {
        "colab": {
          "base_uri": "https://localhost:8080/",
          "height": 105
        },
        "id": "wLF9EHePkCJn",
        "outputId": "b0a919e4-ea5b-4bb2-f8d9-f4d2e4c0aab9"
      },
      "execution_count": null,
      "outputs": [
        {
          "output_type": "execute_result",
          "data": {
            "text/plain": [
              "'<TrdCaptRpt RptID=\"380198\" TrdID=\"32107207292\" TransTyp=\"2\" RptTyp=\"2\" TrdTyp=\"3\" MtchID=\"21218883913\" PxTyp=\"10\" LastQty=\"29.0\" LastPx=\"540.698\" TrdDt=\"2022-12-21\" BizDt=\"2023-01-06\" TxnTm=\"2023-03-30T00:12:55.138-6:00\"><Hdr SID=\"MGEX\" TID=\"B509\" PosDup=\"Y\" PosRsnd=\"N\" Snt=\"2023-03-30T00:12:55.160-6:00\"></Hdr><Instrmt Sym=\"BUI\" ID=\"W\" Src=\"H\" CFI=\"FCAPSX\" MMY=\"202307\" MatDt=\"2023-07-7\" Mult=\"5000\" Exch=\"SNTL\"></Instrmt><RptSide Side=\"2\" Ccy=\"USD\" InptSrc=\"SY\" InptDev=\"API\" CustCpcty=\"4\" PosEfct=\"O\" ClOrdID=\"145\" MLegRptTyp=\"3\" AllocInd=\"0\"><Pty ID=\"MGEX\" R=\"21\"></Pty><Pty ID=\"210\" R=\"1\"></Pty><Pty ID=\"210\" R=\"4\"></Pty><Pty ID=\"00120007\" R=\"24\"><Sub ID=\"2\" Typ=\"26\"></Sub></Pty><Pty ID=\"100\" R=\"12\"></Pty><Alloc IndAllocID=\"1260101647175861711@SNTL&gt;32107207292FS@20221221||5d135\"></Alloc><TrdRegTS TS=\"2023-03-30T10:18:15.100-6:00\" Typ=\"1\"></TrdRegTS></RptSide></TrdCaptRpt>'"
            ],
            "application/vnd.google.colaboratory.intrinsic+json": {
              "type": "string"
            }
          },
          "metadata": {},
          "execution_count": 112
        }
      ]
    },
    {
      "cell_type": "code",
      "source": [
        "predict(val_data.iloc[48]['cleaned_input_message1'],model1)"
      ],
      "metadata": {
        "colab": {
          "base_uri": "https://localhost:8080/",
          "height": 105
        },
        "id": "wjSFC2XtkFYA",
        "outputId": "beacedce-0792-4740-da00-2ce08cfdaafd"
      },
      "execution_count": null,
      "outputs": [
        {
          "output_type": "execute_result",
          "data": {
            "text/plain": [
              "'<TrdCaptRpt RptID=\"380198\" TrdID=\"32107207292\" TransTyp=\"2\" RptTyp=\"2\" TrdTyp=\"3\" MtchID=\"21218883913\" PxTyp=\"10\" LastQty=\"29.0\" LastPx=\"540.698\" TrdDt=\"2022-12-21\" BizDt=\"2023-01-06\" TxnTm=\"2023-03-30T00:12:55.138-6:00\"><Hdr SID=\"MGEX\" TID=\"B509\" PosDup=\"Y\" PosRsnd=\"N\" Snt=\"2023-03-30T00:12:55.160-6:00\"></Hdr><Instrmt Sym=\"BUI\" ID=\"W\" Src=\"H\" CFI=\"FCAPSX\" MMY=\"202307\" MatDt=\"2023-07-7\" Mult=\"5000\" Exch=\"SNTL\"></Instrmt><RptSide Side=\"2\" Ccy=\"USD\" InptSrc=\"SY\" InptDev=\"API\" CustCpcty=\"4\" PosEfct=\"O\" ClOrdID=\"145\" MLegRptTyp=\"3\" AllocInd=\"0\"><Pty ID=\"MGEX\" R=\"21\"></Pty><Pty ID=\"210\" R=\"1\"></Pty><Pty ID=\"210\" R=\"4\"></Pty><Pty ID=\"00120007\" R=\"24\"><Sub ID=\"2\" Typ=\"26\"></Sub></Pty><Pty ID=\"100\" R=\"12\"></Pty><Alloc IndAllocID=\"12601647175861711@SNTL&gt;32107207292FS@20221221||5d135\"></Alloc><TrdRegTS TS=\"2023-03-30T10:18:15.100-6:00\" Typ=\"1\"></TrdRegTS></RptSide></TrdCaptRpt>'"
            ],
            "application/vnd.google.colaboratory.intrinsic+json": {
              "type": "string"
            }
          },
          "metadata": {},
          "execution_count": 113
        }
      ]
    },
    {
      "cell_type": "markdown",
      "source": [
        "**Creating Custom Datasets and Data Loaders for the second model**"
      ],
      "metadata": {
        "id": "cLLxEY7CQXAO"
      }
    },
    {
      "cell_type": "code",
      "source": [
        "class CustomDataset2(Dataset):\n",
        "    def __init__(self, data, tokenizer, max_length):\n",
        "        self.data = data\n",
        "        self.tokenizer = tokenizer\n",
        "        self.max_length = max_length\n",
        "\n",
        "    def __len__(self):\n",
        "        return len(self.data)\n",
        "\n",
        "    def __getitem__(self, index):\n",
        "        seq = self.data.iloc[index]['cleaned_input_message2']\n",
        "        target = self.data.iloc[index]['CCP_Message2']\n",
        "\n",
        "        input_seq = f\"{seq} {target}\"\n",
        "\n",
        "        input_ids = self.tokenizer.encode(input_seq, return_tensors='pt', max_length=self.max_length, truncation=True, padding='max_length')\n",
        "\n",
        "        return input_ids"
      ],
      "metadata": {
        "id": "KiHGB2eZkbsP"
      },
      "execution_count": null,
      "outputs": []
    },
    {
      "cell_type": "code",
      "source": [
        "train_dataset2 = CustomDataset2(train_data, tokenizer, MAX_LENGTH)\n",
        "val_dataset2 = CustomDataset2(val_data, tokenizer, MAX_LENGTH)"
      ],
      "metadata": {
        "id": "3XhY5scdkvsM"
      },
      "execution_count": null,
      "outputs": []
    },
    {
      "cell_type": "code",
      "source": [
        "train_loader2 = DataLoader(train_dataset2, batch_size=BATCH_SIZE, shuffle=True)\n",
        "val_loader2 = DataLoader(val_dataset2, batch_size=BATCH_SIZE, shuffle=False)"
      ],
      "metadata": {
        "id": "qWbVRNNukRXD"
      },
      "execution_count": null,
      "outputs": []
    },
    {
      "cell_type": "code",
      "source": [
        "model2.to(device)"
      ],
      "metadata": {
        "colab": {
          "base_uri": "https://localhost:8080/"
        },
        "id": "zQX825-ekLh3",
        "outputId": "5029381f-c5b2-4973-c0e5-24ef7bfbdf1c"
      },
      "execution_count": null,
      "outputs": [
        {
          "output_type": "execute_result",
          "data": {
            "text/plain": [
              "GPT2LMHeadModel(\n",
              "  (transformer): GPT2Model(\n",
              "    (wte): Embedding(50257, 768)\n",
              "    (wpe): Embedding(1024, 768)\n",
              "    (drop): Dropout(p=0.1, inplace=False)\n",
              "    (h): ModuleList(\n",
              "      (0-5): 6 x GPT2Block(\n",
              "        (ln_1): LayerNorm((768,), eps=1e-05, elementwise_affine=True)\n",
              "        (attn): GPT2Attention(\n",
              "          (c_attn): Conv1D()\n",
              "          (c_proj): Conv1D()\n",
              "          (attn_dropout): Dropout(p=0.1, inplace=False)\n",
              "          (resid_dropout): Dropout(p=0.1, inplace=False)\n",
              "        )\n",
              "        (ln_2): LayerNorm((768,), eps=1e-05, elementwise_affine=True)\n",
              "        (mlp): GPT2MLP(\n",
              "          (c_fc): Conv1D()\n",
              "          (c_proj): Conv1D()\n",
              "          (act): NewGELUActivation()\n",
              "          (dropout): Dropout(p=0.1, inplace=False)\n",
              "        )\n",
              "      )\n",
              "    )\n",
              "    (ln_f): LayerNorm((768,), eps=1e-05, elementwise_affine=True)\n",
              "  )\n",
              "  (lm_head): Linear(in_features=768, out_features=50257, bias=False)\n",
              ")"
            ]
          },
          "metadata": {},
          "execution_count": 118
        }
      ]
    },
    {
      "cell_type": "code",
      "source": [
        "optimizer2 = torch.optim.AdamW(model2.parameters(), lr=2e-5)"
      ],
      "metadata": {
        "id": "I0dsdVTXlDlM"
      },
      "execution_count": null,
      "outputs": []
    },
    {
      "cell_type": "markdown",
      "source": [
        "**Training the second model**"
      ],
      "metadata": {
        "id": "Cn04zkNdQgy5"
      }
    },
    {
      "cell_type": "code",
      "source": [
        "for epoch in range(EPOCHS):\n",
        "    model2.train()\n",
        "    total_loss = 0\n",
        "    for batch in train_loader2:\n",
        "        input_ids = batch.to(device)\n",
        "\n",
        "        labels = input_ids.clone()\n",
        "\n",
        "        optimizer2.zero_grad()\n",
        "\n",
        "        outputs = model2(input_ids, labels=labels)\n",
        "        loss = outputs.loss\n",
        "        loss.backward()\n",
        "        optimizer2.step()\n",
        "\n",
        "        total_loss += loss.item()\n",
        "\n",
        "    avg_train_loss2 = total_loss / len(train_loader2)\n",
        "    print(f'Epoch {epoch+1}, Average Training Loss: {avg_train_loss2}')"
      ],
      "metadata": {
        "colab": {
          "base_uri": "https://localhost:8080/"
        },
        "id": "WMKF9aEblLMU",
        "outputId": "afe55a08-85df-412c-c26a-a32cc0244df3"
      },
      "execution_count": null,
      "outputs": [
        {
          "output_type": "stream",
          "name": "stdout",
          "text": [
            "Epoch 1, Average Training Loss: 0.6964008810453944\n",
            "Epoch 2, Average Training Loss: 0.21422123177184\n",
            "Epoch 3, Average Training Loss: 0.1913975386487113\n"
          ]
        }
      ]
    },
    {
      "cell_type": "markdown",
      "source": [
        "**Evaluating the second model**"
      ],
      "metadata": {
        "id": "eauQuL5PQk02"
      }
    },
    {
      "cell_type": "code",
      "source": [
        "model2.eval()\n",
        "total_loss = 0\n",
        "\n",
        "with torch.no_grad():\n",
        "    for batch in val_loader2:\n",
        "        input_ids = batch.to(device)\n",
        "\n",
        "        labels = input_ids.clone()\n",
        "\n",
        "        outputs = model2(input_ids, labels=labels)\n",
        "        loss = outputs.loss\n",
        "\n",
        "        total_loss += loss.item()\n",
        "\n",
        "avg_val_loss2 = total_loss / len(val_loader2)\n",
        "print(f'Average Validation Loss: {avg_val_loss2}')"
      ],
      "metadata": {
        "colab": {
          "base_uri": "https://localhost:8080/"
        },
        "id": "ZnmHFWw8li3R",
        "outputId": "b3e65381-2697-47e1-f477-97c859124ab7"
      },
      "execution_count": null,
      "outputs": [
        {
          "output_type": "stream",
          "name": "stdout",
          "text": [
            "Average Validation Loss: 0.17212389171123504\n"
          ]
        }
      ]
    },
    {
      "cell_type": "code",
      "source": [
        "val_data.iloc[0]['CCP_Message2']"
      ],
      "metadata": {
        "colab": {
          "base_uri": "https://localhost:8080/",
          "height": 105
        },
        "id": "5DljWt5CmA9n",
        "outputId": "d15fed00-4e4d-439d-98e1-c50f5bd1ddd9"
      },
      "execution_count": null,
      "outputs": [
        {
          "output_type": "execute_result",
          "data": {
            "text/plain": [
              "'<TrdCaptRpt RptID=\"380199\" TrdID=\"18061000020\" TransTyp=\"0\" RptTyp=\"2\" TrdTyp=\"1\" OrigTrdID=\"20619948305\" MtchID=\"33472008371\" PxTyp=\"2\" LastQty=\"39.0\" LastPx=\"300.9\" TrdDt=\"2023-01-02\" BizDt=\"2023-01-06\" TxnTm=\"2023-03-30T00:12:55.138-5:00\"><Hdr SID=\"MGEX\" TID=\"HBPL\" PosDup=\"Y\" PosRsnd=\"Y\" Snt=\"2023-03-30T00:12:55.160-5:00\"></Hdr><Instrmt Sym=\"BUI\" ID=\"W\" Src=\"H\" CFI=\"FCAPSX\" MMY=\"202310\" MatDt=\"2023-10-1\" Mult=\"200\" Exch=\"BTNL\"></Instrmt><RptSide Side=\"2\" Ccy=\"USD\" InptSrc=\"EL\" InptDev=\"API\" CustCpcty=\"4\" PosEfct=\"O\" ClOrdID=\"OrdAT\" MLegRptTyp=\"1\" AllocInd=\"0\"><Pty ID=\"MGEX\" R=\"21\"></Pty><Pty ID=\"210\" R=\"1\"></Pty><Pty ID=\"210\" R=\"4\"></Pty><Pty ID=\"5cot9\" R=\"24\"><Sub ID=\"1\" Typ=\"26\"></Sub></Pty><Pty ID=\"200\" R=\"12\"></Pty><Alloc IndAllocID=\"1162483219253960367@BTNL&gt;20619948305FS@20230102||3tlpa\"></Alloc><TrdRegTS TS=\"2023-03-30T10:18:15.326-5:00\" Typ=\"1\"></TrdRegTS></RptSide></TrdCaptRpt>'"
            ],
            "application/vnd.google.colaboratory.intrinsic+json": {
              "type": "string"
            }
          },
          "metadata": {},
          "execution_count": 122
        }
      ]
    },
    {
      "cell_type": "code",
      "source": [
        "predict(val_data.iloc[0]['cleaned_input_message2'],model2)"
      ],
      "metadata": {
        "colab": {
          "base_uri": "https://localhost:8080/",
          "height": 105
        },
        "id": "DenuSsk1mDJW",
        "outputId": "cfe87334-5f40-44b4-9f36-265187e683cb"
      },
      "execution_count": null,
      "outputs": [
        {
          "output_type": "execute_result",
          "data": {
            "text/plain": [
              "'<TrdCaptRpt RptID=\"380199\" TrdID=\"18061000020\" TransTyp=\"0\" RptTyp=\"2\" TrdTyp=\"1\" OrigTrdID=\"20619948305\" MtchID=\"33472008371\" PxTyp=\"2\" LastQty=\"39.0\" LastPx=\"300.9\" TrdDt=\"2023-01-02\" BizDt=\"2023-01-06\" TxnTm=\"2023-03-30T00:12:55.138-5:00\"><Hdr SID=\"MGEX\" TID=\"HBPL\" PosDup=\"Y\" PosRsnd=\"Y\" Snt=\"2023-03-30T00:12:55.160-5:00\"></Hdr><Instrmt Sym=\"BUI\" ID=\"W\" Src=\"H\" CFI=\"FCAPSX\" MMY=\"202310\" MatDt=\"2023-10-1\" Mult=\"200\" Exch=\"BTNL\"></Instrmt><RptSide Side=\"2\" Ccy=\"USD\" InptSrc=\"EL\" InptDev=\"API\" CustCpcty=\"4\" PosEfct=\"O\" ClOrdID=\"OrdAT\" MLegRptTyp=\"1\" AllocInd=\"0\"><Pty ID=\"MGEX\" R=\"21\"></Pty><Pty ID=\"210\" R=\"1\"></Pty><Pty ID=\"210\" R=\"4\"></Pty><Pty ID=\"5cot9\" R=\"24\"><Sub ID=\"1\" Typ=\"26\"></Sub></Pty><Pty ID=\"200\" R=\"12\"></Pty><Alloc IndAllocID=\"1162483219253960367@BTNL&gt;20619948305FS@20230102||3tlpa\"></Alloc><TrdRegTS TS=\"2023-03-30T10:18:15.326-5:00\" Typ=\"1\"></TrdRegTS></RptSide></TrdCaptRpt>'"
            ],
            "application/vnd.google.colaboratory.intrinsic+json": {
              "type": "string"
            }
          },
          "metadata": {},
          "execution_count": 123
        }
      ]
    },
    {
      "cell_type": "markdown",
      "source": [
        "**Calculating the Accuracy for the second model**"
      ],
      "metadata": {
        "id": "veR5PqCzQqtn"
      }
    },
    {
      "cell_type": "code",
      "source": [
        "som2 = 0\n",
        "for i in range(100):\n",
        "  if val_data.iloc[i]['CCP_Message2'] == predict(val_data.iloc[i]['cleaned_input_message2'],model2):\n",
        "    som2 = som2+1\n",
        "print('Accuracy for CCP Message 2:',som2/100)"
      ],
      "metadata": {
        "colab": {
          "base_uri": "https://localhost:8080/"
        },
        "id": "49K0PrlhmZSp",
        "outputId": "e5715964-9283-4c75-f4a6-7a88b144896b"
      },
      "execution_count": null,
      "outputs": [
        {
          "output_type": "stream",
          "name": "stdout",
          "text": [
            "Accuracy for CCP Message 2: 0.99\n"
          ]
        }
      ]
    },
    {
      "cell_type": "markdown",
      "source": [
        "**Identifying Causes of Mismatched Predictions**"
      ],
      "metadata": {
        "id": "MkpTQQw9Q3cX"
      }
    },
    {
      "cell_type": "code",
      "source": [
        "for i in range(100):\n",
        "  if val_data.iloc[i]['CCP_Message2'] != predict(val_data.iloc[i]['cleaned_input_message2'],model2):\n",
        "    print('Message', i)\n",
        "    print('Predicted message:')\n",
        "    print(predict(val_data.iloc[i]['cleaned_input_message2'],model2))\n",
        "    print('Test message:')\n",
        "    print(val_data.iloc[i]['CCP_Message2'])"
      ],
      "metadata": {
        "colab": {
          "base_uri": "https://localhost:8080/"
        },
        "id": "uc_hZT1AnLEZ",
        "outputId": "0d361ded-6a2a-48c3-aedc-12213efaec11"
      },
      "execution_count": null,
      "outputs": [
        {
          "output_type": "stream",
          "name": "stdout",
          "text": [
            "Message 48\n",
            "Predicted message:\n",
            "<TrdCaptRpt RptID=\"380199\" TrdID=\"18061000020\" TransTyp=\"0\" RptTyp=\"2\" TrdTyp=\"3\" OrigTrdID=\"32107207292\" MtchID=\"21218883913\" PxTyp=\"10\" LastQty=\"11.0\" LastPx=\"540.698\" TrdDt=\"2022-12-21\" BizDt=\"2023-01-06\" TxnTm=\"2023-03-30T00:12:55.138-6:00\"><Hdr SID=\"MGEX\" TID=\"B509\" PosDup=\"Y\" PosRsnd=\"N\" Snt=\"2023-03-30T00:12:55.160-6:00\"></Hdr><Instrmt Sym=\"BUI\" ID=\"W\" Src=\"H\" CFI=\"FCAPSX\" MMY=\"202307\" MatDt=\"2023-07-7\" Mult=\"5000\" Exch=\"SNTL\"></Instrmt><RptSide Side=\"2\" Ccy=\"USD\" InptSrc=\"SY\" InptDev=\"API\" CustCpcty=\"4\" PosEfct=\"O\" ClOrdID=\"145\" MLegRptTyp=\"3\" AllocInd=\"0\"><Pty ID=\"MGEX\" R=\"21\"></Pty><Pty ID=\"210\" R=\"1\"></Pty><Pty ID=\"210\" R=\"4\"></Pty><Pty ID=\"najet\" R=\"24\"><Sub ID=\"2\" Typ=\"26\"></Sub></Pty><Pty ID=\"100\" R=\"12\"></Pty><Alloc IndAllocID=\"12601647175861711@SNTL&gt;32107207292FS@20221221||c2537\"></Alloc><TrdRegTS TS=\"2023-03-30T10:18:15.100-6:00\" Typ=\"1\"></TrdRegTS></RptSide></TrdCaptRpt>\n",
            "Test message:\n",
            "<TrdCaptRpt RptID=\"380199\" TrdID=\"18061000020\" TransTyp=\"0\" RptTyp=\"2\" TrdTyp=\"3\" OrigTrdID=\"32107207292\" MtchID=\"21218883913\" PxTyp=\"10\" LastQty=\"11.0\" LastPx=\"540.698\" TrdDt=\"2022-12-21\" BizDt=\"2023-01-06\" TxnTm=\"2023-03-30T00:12:55.138-6:00\"><Hdr SID=\"MGEX\" TID=\"B509\" PosDup=\"Y\" PosRsnd=\"N\" Snt=\"2023-03-30T00:12:55.160-6:00\"></Hdr><Instrmt Sym=\"BUI\" ID=\"W\" Src=\"H\" CFI=\"FCAPSX\" MMY=\"202307\" MatDt=\"2023-07-7\" Mult=\"5000\" Exch=\"SNTL\"></Instrmt><RptSide Side=\"2\" Ccy=\"USD\" InptSrc=\"SY\" InptDev=\"API\" CustCpcty=\"4\" PosEfct=\"O\" ClOrdID=\"145\" MLegRptTyp=\"3\" AllocInd=\"0\"><Pty ID=\"MGEX\" R=\"21\"></Pty><Pty ID=\"210\" R=\"1\"></Pty><Pty ID=\"210\" R=\"4\"></Pty><Pty ID=\"najet\" R=\"24\"><Sub ID=\"2\" Typ=\"26\"></Sub></Pty><Pty ID=\"100\" R=\"12\"></Pty><Alloc IndAllocID=\"1260101647175861711@SNTL&gt;32107207292FS@20221221||c2537\"></Alloc><TrdRegTS TS=\"2023-03-30T10:18:15.100-6:00\" Typ=\"1\"></TrdRegTS></RptSide></TrdCaptRpt>\n"
          ]
        }
      ]
    },
    {
      "cell_type": "code",
      "source": [
        "val_data.iloc[48]['CCP_Message2']"
      ],
      "metadata": {
        "colab": {
          "base_uri": "https://localhost:8080/",
          "height": 105
        },
        "id": "HxLeEmi3vRXW",
        "outputId": "a61b4f79-6dbb-4140-bcb7-f0e00a312fb9"
      },
      "execution_count": null,
      "outputs": [
        {
          "output_type": "execute_result",
          "data": {
            "text/plain": [
              "'<TrdCaptRpt RptID=\"380199\" TrdID=\"18061000020\" TransTyp=\"0\" RptTyp=\"2\" TrdTyp=\"3\" OrigTrdID=\"32107207292\" MtchID=\"21218883913\" PxTyp=\"10\" LastQty=\"11.0\" LastPx=\"540.698\" TrdDt=\"2022-12-21\" BizDt=\"2023-01-06\" TxnTm=\"2023-03-30T00:12:55.138-6:00\"><Hdr SID=\"MGEX\" TID=\"B509\" PosDup=\"Y\" PosRsnd=\"N\" Snt=\"2023-03-30T00:12:55.160-6:00\"></Hdr><Instrmt Sym=\"BUI\" ID=\"W\" Src=\"H\" CFI=\"FCAPSX\" MMY=\"202307\" MatDt=\"2023-07-7\" Mult=\"5000\" Exch=\"SNTL\"></Instrmt><RptSide Side=\"2\" Ccy=\"USD\" InptSrc=\"SY\" InptDev=\"API\" CustCpcty=\"4\" PosEfct=\"O\" ClOrdID=\"145\" MLegRptTyp=\"3\" AllocInd=\"0\"><Pty ID=\"MGEX\" R=\"21\"></Pty><Pty ID=\"210\" R=\"1\"></Pty><Pty ID=\"210\" R=\"4\"></Pty><Pty ID=\"najet\" R=\"24\"><Sub ID=\"2\" Typ=\"26\"></Sub></Pty><Pty ID=\"100\" R=\"12\"></Pty><Alloc IndAllocID=\"1260101647175861711@SNTL&gt;32107207292FS@20221221||c2537\"></Alloc><TrdRegTS TS=\"2023-03-30T10:18:15.100-6:00\" Typ=\"1\"></TrdRegTS></RptSide></TrdCaptRpt>'"
            ],
            "application/vnd.google.colaboratory.intrinsic+json": {
              "type": "string"
            }
          },
          "metadata": {},
          "execution_count": 145
        }
      ]
    },
    {
      "cell_type": "code",
      "source": [
        "predict(val_data.iloc[48]['cleaned_input_message2'],model2)"
      ],
      "metadata": {
        "colab": {
          "base_uri": "https://localhost:8080/",
          "height": 105
        },
        "id": "re8ONzsYvYUH",
        "outputId": "b9e7819f-8c50-4378-88be-a803f7877807"
      },
      "execution_count": null,
      "outputs": [
        {
          "output_type": "execute_result",
          "data": {
            "text/plain": [
              "'<TrdCaptRpt RptID=\"380199\" TrdID=\"18061000020\" TransTyp=\"0\" RptTyp=\"2\" TrdTyp=\"3\" OrigTrdID=\"32107207292\" MtchID=\"21218883913\" PxTyp=\"10\" LastQty=\"11.0\" LastPx=\"540.698\" TrdDt=\"2022-12-21\" BizDt=\"2023-01-06\" TxnTm=\"2023-03-30T00:12:55.138-6:00\"><Hdr SID=\"MGEX\" TID=\"B509\" PosDup=\"Y\" PosRsnd=\"N\" Snt=\"2023-03-30T00:12:55.160-6:00\"></Hdr><Instrmt Sym=\"BUI\" ID=\"W\" Src=\"H\" CFI=\"FCAPSX\" MMY=\"202307\" MatDt=\"2023-07-7\" Mult=\"5000\" Exch=\"SNTL\"></Instrmt><RptSide Side=\"2\" Ccy=\"USD\" InptSrc=\"SY\" InptDev=\"API\" CustCpcty=\"4\" PosEfct=\"O\" ClOrdID=\"145\" MLegRptTyp=\"3\" AllocInd=\"0\"><Pty ID=\"MGEX\" R=\"21\"></Pty><Pty ID=\"210\" R=\"1\"></Pty><Pty ID=\"210\" R=\"4\"></Pty><Pty ID=\"najet\" R=\"24\"><Sub ID=\"2\" Typ=\"26\"></Sub></Pty><Pty ID=\"100\" R=\"12\"></Pty><Alloc IndAllocID=\"12601647175861711@SNTL&gt;32107207292FS@20221221||c2537\"></Alloc><TrdRegTS TS=\"2023-03-30T10:18:15.100-6:00\" Typ=\"1\"></TrdRegTS></RptSide></TrdCaptRpt>'"
            ],
            "application/vnd.google.colaboratory.intrinsic+json": {
              "type": "string"
            }
          },
          "metadata": {},
          "execution_count": 146
        }
      ]
    },
    {
      "cell_type": "markdown",
      "source": [
        "**Saving the pre-trained models to specified directories**"
      ],
      "metadata": {
        "id": "Fnt4kAqmQ9XQ"
      }
    },
    {
      "cell_type": "code",
      "source": [
        "from google.colab import drive"
      ],
      "metadata": {
        "id": "5lu88RMbpNJz"
      },
      "execution_count": null,
      "outputs": []
    },
    {
      "cell_type": "code",
      "source": [
        "drive.mount(\"/content/gdrive\")"
      ],
      "metadata": {
        "colab": {
          "base_uri": "https://localhost:8080/"
        },
        "id": "3-XmRbwSpgR4",
        "outputId": "c391b853-e9b9-447b-8d1a-3d2ecc8f802b"
      },
      "execution_count": null,
      "outputs": [
        {
          "output_type": "stream",
          "name": "stdout",
          "text": [
            "Mounted at /content/gdrive\n"
          ]
        }
      ]
    },
    {
      "cell_type": "code",
      "source": [
        "model1.save_pretrained(\"/content/gdrive/MyDrive/split1\")"
      ],
      "metadata": {
        "id": "GttEm28VpiM2"
      },
      "execution_count": null,
      "outputs": []
    },
    {
      "cell_type": "code",
      "source": [
        "model2.save_pretrained(\"/content/gdrive/MyDrive/split2\")"
      ],
      "metadata": {
        "id": "IOzL_2HnpnJs"
      },
      "execution_count": null,
      "outputs": []
    },
    {
      "cell_type": "markdown",
      "source": [
        "**Testing the pre-trained models on new samples**"
      ],
      "metadata": {
        "id": "H6qh7RuvRDlD"
      }
    },
    {
      "cell_type": "code",
      "source": [
        "trade_msg1 = \"\"\"<TrdCaptRpt RptID=\"9609\" TrdID=\"30061005514\" TransTyp=\"0\" RptTyp=\"2\" TrdTyp=\"2\" MtchID=\"30061002585\" PxTyp=\"2\" LastQty=\"10\" LastPx=\"211\" TrdDt=\"2025-11-06\" BizDt=\"2025-11-06\" TxnTm=\"2025-11-07T03:14:25.528-06:00\"><Hdr SID=\"MGEX\" TID=\"D210\" PosDup=\"N\" PosRsnd=\"N\" Snt=\"2025-11-07T03:14:25.545-06:00\"></Hdr><Instrmt Sym=\"BUI\" ID=\"BUI\" Src=\"H\" CFI=\"FCCPXX\" MMY=\"202512\" MatDt=\"2025-12-27\" Mult=\"0.1\" Exch=\"BTNL\"></Instrmt><RptSide Side=\"2\" Ccy=\"USD\" InptSrc=\"MA\" InptDev=\"PORTAL\" CustCpcty=\"1\" PosEfct=\"C\" ClOrdID=\"123\" MLegRptTyp=\"1\" AllocInd=\"0\"><Pty ID=\"MGEX\" R=\"21\"></Pty><Pty ID=\"210\" R=\"1\"></Pty><Pty ID=\"210\" R=\"4\"></Pty><Pty ID=\"Ag-1\" R=\"24\"><Sub ID=\"2\" Typ=\"26\"></Sub></Pty><Pty ID=\"210\" R=\"12\"></Pty><Alloc></Alloc><TrdRegTS TS=\"2025-11-07T03:14:25.528-06:00\" Typ=\"1\"></TrdRegTS></RptSide></TrdCaptRpt>\"\"\"\n",
        "sgw_op1=\"\"\"<TrdCaptRpt RptID=\"30061005514\" TrdDt=\"2025-11-06\" BizDt=\"2025-11-06\" TxnTm=\"2025-11-07T03:14:25.528-06:00\" TrdID=\"30061005514\" TransTyp=\"2\" RptTyp=\"0\" LastQty=\"10.0\" LastPx=\"211.0\"><Hdr Snt=\"2025-11-07T10:18:20.194+01:00\" TID=\"MGEX\" SID=\"D210\"/><Instrmt Exch=\"BTNL\" ID=\"BUI\" MMY=\"202512\" CFI=\"FXXXXX\"/><RptSide Side=\"2\" AllocInd=\"2\" CustCpcty=\"4\"><Pty ID=\"210\" R=\"1\"/><Alloc Qty=\"4.0\" CustCpcty=\"4\" IndAllocID=\"1171378091562369024@BTNL>30061005514FS@20251106||5d135\"><Pty ID=\"us-1\" R=\"24\"><Sub ID=\"2\" Typ=\"26\"/></Pty></Alloc><Alloc Qty=\"6.0\" CustCpcty=\"2\" IndAllocID=\"1171378091562369024@BTNL>30061005514FS@20251106||c2537\"><Pty ID=\"us-2\" R=\"24\"><Sub ID=\"2\" Typ=\"26\"/></Pty></Alloc></RptSide></TrdCaptRpt>\"\"\""
      ],
      "metadata": {
        "id": "vwYr6UiCpsPZ"
      },
      "execution_count": null,
      "outputs": []
    },
    {
      "cell_type": "code",
      "source": [
        "trade_msg1"
      ],
      "metadata": {
        "colab": {
          "base_uri": "https://localhost:8080/",
          "height": 105
        },
        "id": "ORP7WWAPsdP0",
        "outputId": "b4123da4-3b32-4eb9-a512-6ceb06f47632"
      },
      "execution_count": null,
      "outputs": [
        {
          "output_type": "execute_result",
          "data": {
            "text/plain": [
              "'<TrdCaptRpt RptID=\"9609\" TrdID=\"30061005514\" TransTyp=\"0\" RptTyp=\"2\" TrdTyp=\"2\" MtchID=\"30061002585\" PxTyp=\"2\" LastQty=\"10\" LastPx=\"211\" TrdDt=\"2025-11-06\" BizDt=\"2025-11-06\" TxnTm=\"2025-11-07T03:14:25.528-06:00\"><Hdr SID=\"MGEX\" TID=\"D210\" PosDup=\"N\" PosRsnd=\"N\" Snt=\"2025-11-07T03:14:25.545-06:00\"></Hdr><Instrmt Sym=\"BUI\" ID=\"BUI\" Src=\"H\" CFI=\"FCCPXX\" MMY=\"202512\" MatDt=\"2025-12-27\" Mult=\"0.1\" Exch=\"BTNL\"></Instrmt><RptSide Side=\"2\" Ccy=\"USD\" InptSrc=\"MA\" InptDev=\"PORTAL\" CustCpcty=\"1\" PosEfct=\"C\" ClOrdID=\"123\" MLegRptTyp=\"1\" AllocInd=\"0\"><Pty ID=\"MGEX\" R=\"21\"></Pty><Pty ID=\"210\" R=\"1\"></Pty><Pty ID=\"210\" R=\"4\"></Pty><Pty ID=\"Ag-1\" R=\"24\"><Sub ID=\"2\" Typ=\"26\"></Sub></Pty><Pty ID=\"210\" R=\"12\"></Pty><Alloc></Alloc><TrdRegTS TS=\"2025-11-07T03:14:25.528-06:00\" Typ=\"1\"></TrdRegTS></RptSide></TrdCaptRpt>'"
            ],
            "application/vnd.google.colaboratory.intrinsic+json": {
              "type": "string"
            }
          },
          "metadata": {},
          "execution_count": 135
        }
      ]
    },
    {
      "cell_type": "code",
      "source": [
        "sgw_op1"
      ],
      "metadata": {
        "colab": {
          "base_uri": "https://localhost:8080/",
          "height": 88
        },
        "id": "Bkyj93g0shoS",
        "outputId": "78c1b05d-23e5-4037-bcb2-3bdace656316"
      },
      "execution_count": null,
      "outputs": [
        {
          "output_type": "execute_result",
          "data": {
            "text/plain": [
              "'<TrdCaptRpt RptID=\"30061005514\" TrdDt=\"2025-11-06\" BizDt=\"2025-11-06\" TxnTm=\"2025-11-07T03:14:25.528-06:00\" TrdID=\"30061005514\" TransTyp=\"2\" RptTyp=\"0\" LastQty=\"10.0\" LastPx=\"211.0\"><Hdr Snt=\"2025-11-07T10:18:20.194+01:00\" TID=\"MGEX\" SID=\"D210\"/><Instrmt Exch=\"BTNL\" ID=\"BUI\" MMY=\"202512\" CFI=\"FXXXXX\"/><RptSide Side=\"2\" AllocInd=\"2\" CustCpcty=\"4\"><Pty ID=\"210\" R=\"1\"/><Alloc Qty=\"4.0\" CustCpcty=\"4\" IndAllocID=\"1171378091562369024@BTNL>30061005514FS@20251106||5d135\"><Pty ID=\"us-1\" R=\"24\"><Sub ID=\"2\" Typ=\"26\"/></Pty></Alloc><Alloc Qty=\"6.0\" CustCpcty=\"2\" IndAllocID=\"1171378091562369024@BTNL>30061005514FS@20251106||c2537\"><Pty ID=\"us-2\" R=\"24\"><Sub ID=\"2\" Typ=\"26\"/></Pty></Alloc></RptSide></TrdCaptRpt>'"
            ],
            "application/vnd.google.colaboratory.intrinsic+json": {
              "type": "string"
            }
          },
          "metadata": {},
          "execution_count": 136
        }
      ]
    },
    {
      "cell_type": "code",
      "source": [
        "sgw_op11=extract_first_alloc(sgw_op1)"
      ],
      "metadata": {
        "id": "EMVuJ5sMrdpL"
      },
      "execution_count": null,
      "outputs": []
    },
    {
      "cell_type": "code",
      "source": [
        "sgw_op11"
      ],
      "metadata": {
        "colab": {
          "base_uri": "https://localhost:8080/",
          "height": 36
        },
        "id": "lcxX614bsk-i",
        "outputId": "e63666fe-6e90-4567-82ff-43e103cdd846"
      },
      "execution_count": null,
      "outputs": [
        {
          "output_type": "execute_result",
          "data": {
            "text/plain": [
              "'<Alloc Qty=\"4.0\" CustCpcty=\"4\" IndAllocID=\"1171378091562369024@BTNL&gt;30061005514FS@20251106||5d135\"><Pty ID=\"us-1\" R=\"24\"><Sub ID=\"2\" Typ=\"26\" /></Pty></Alloc>'"
            ],
            "application/vnd.google.colaboratory.intrinsic+json": {
              "type": "string"
            }
          },
          "metadata": {},
          "execution_count": 137
        }
      ]
    },
    {
      "cell_type": "code",
      "source": [
        "sgw_op12=extract_second_alloc(sgw_op1)"
      ],
      "metadata": {
        "id": "2d4rvHg4r2Sh"
      },
      "execution_count": null,
      "outputs": []
    },
    {
      "cell_type": "code",
      "source": [
        "sgw_op12"
      ],
      "metadata": {
        "colab": {
          "base_uri": "https://localhost:8080/",
          "height": 36
        },
        "id": "Vgg-RTvusnUE",
        "outputId": "23010b3c-1475-4819-f440-a7ae5921ec7f"
      },
      "execution_count": null,
      "outputs": [
        {
          "output_type": "execute_result",
          "data": {
            "text/plain": [
              "'<Alloc Qty=\"6.0\" CustCpcty=\"2\" IndAllocID=\"1171378091562369024@BTNL&gt;30061005514FS@20251106||c2537\"><Pty ID=\"us-2\" R=\"24\"><Sub ID=\"2\" Typ=\"26\" /></Pty></Alloc>'"
            ],
            "application/vnd.google.colaboratory.intrinsic+json": {
              "type": "string"
            }
          },
          "metadata": {},
          "execution_count": 138
        }
      ]
    },
    {
      "cell_type": "code",
      "source": [
        "inp_msg11 = trade_msg1+' '+sgw_op11\n",
        "inp_msg12 = trade_msg1+' '+sgw_op12"
      ],
      "metadata": {
        "id": "6Srtxxdcr8er"
      },
      "execution_count": null,
      "outputs": []
    },
    {
      "cell_type": "code",
      "source": [
        "inp_msg11"
      ],
      "metadata": {
        "colab": {
          "base_uri": "https://localhost:8080/",
          "height": 122
        },
        "id": "BBgmNP3Qsqnp",
        "outputId": "1d636853-34e4-415a-a5d4-bbe8c56e0b16"
      },
      "execution_count": null,
      "outputs": [
        {
          "output_type": "execute_result",
          "data": {
            "text/plain": [
              "'<TrdCaptRpt RptID=\"9609\" TrdID=\"30061005514\" TransTyp=\"0\" RptTyp=\"2\" TrdTyp=\"2\" MtchID=\"30061002585\" PxTyp=\"2\" LastQty=\"10\" LastPx=\"211\" TrdDt=\"2025-11-06\" BizDt=\"2025-11-06\" TxnTm=\"2025-11-07T03:14:25.528-06:00\"><Hdr SID=\"MGEX\" TID=\"D210\" PosDup=\"N\" PosRsnd=\"N\" Snt=\"2025-11-07T03:14:25.545-06:00\"></Hdr><Instrmt Sym=\"BUI\" ID=\"BUI\" Src=\"H\" CFI=\"FCCPXX\" MMY=\"202512\" MatDt=\"2025-12-27\" Mult=\"0.1\" Exch=\"BTNL\"></Instrmt><RptSide Side=\"2\" Ccy=\"USD\" InptSrc=\"MA\" InptDev=\"PORTAL\" CustCpcty=\"1\" PosEfct=\"C\" ClOrdID=\"123\" MLegRptTyp=\"1\" AllocInd=\"0\"><Pty ID=\"MGEX\" R=\"21\"></Pty><Pty ID=\"210\" R=\"1\"></Pty><Pty ID=\"210\" R=\"4\"></Pty><Pty ID=\"Ag-1\" R=\"24\"><Sub ID=\"2\" Typ=\"26\"></Sub></Pty><Pty ID=\"210\" R=\"12\"></Pty><Alloc></Alloc><TrdRegTS TS=\"2025-11-07T03:14:25.528-06:00\" Typ=\"1\"></TrdRegTS></RptSide></TrdCaptRpt> <Alloc Qty=\"4.0\" CustCpcty=\"4\" IndAllocID=\"1171378091562369024@BTNL&gt;30061005514FS@20251106||5d135\"><Pty ID=\"us-1\" R=\"24\"><Sub ID=\"2\" Typ=\"26\" /></Pty></Alloc>'"
            ],
            "application/vnd.google.colaboratory.intrinsic+json": {
              "type": "string"
            }
          },
          "metadata": {},
          "execution_count": 139
        }
      ]
    },
    {
      "cell_type": "code",
      "source": [
        "inp_msg12"
      ],
      "metadata": {
        "colab": {
          "base_uri": "https://localhost:8080/",
          "height": 122
        },
        "id": "X1BwrCJFssNc",
        "outputId": "6d329b2d-cc0e-46a1-db21-eaa40adfd05c"
      },
      "execution_count": null,
      "outputs": [
        {
          "output_type": "execute_result",
          "data": {
            "text/plain": [
              "'<TrdCaptRpt RptID=\"9609\" TrdID=\"30061005514\" TransTyp=\"0\" RptTyp=\"2\" TrdTyp=\"2\" MtchID=\"30061002585\" PxTyp=\"2\" LastQty=\"10\" LastPx=\"211\" TrdDt=\"2025-11-06\" BizDt=\"2025-11-06\" TxnTm=\"2025-11-07T03:14:25.528-06:00\"><Hdr SID=\"MGEX\" TID=\"D210\" PosDup=\"N\" PosRsnd=\"N\" Snt=\"2025-11-07T03:14:25.545-06:00\"></Hdr><Instrmt Sym=\"BUI\" ID=\"BUI\" Src=\"H\" CFI=\"FCCPXX\" MMY=\"202512\" MatDt=\"2025-12-27\" Mult=\"0.1\" Exch=\"BTNL\"></Instrmt><RptSide Side=\"2\" Ccy=\"USD\" InptSrc=\"MA\" InptDev=\"PORTAL\" CustCpcty=\"1\" PosEfct=\"C\" ClOrdID=\"123\" MLegRptTyp=\"1\" AllocInd=\"0\"><Pty ID=\"MGEX\" R=\"21\"></Pty><Pty ID=\"210\" R=\"1\"></Pty><Pty ID=\"210\" R=\"4\"></Pty><Pty ID=\"Ag-1\" R=\"24\"><Sub ID=\"2\" Typ=\"26\"></Sub></Pty><Pty ID=\"210\" R=\"12\"></Pty><Alloc></Alloc><TrdRegTS TS=\"2025-11-07T03:14:25.528-06:00\" Typ=\"1\"></TrdRegTS></RptSide></TrdCaptRpt> <Alloc Qty=\"6.0\" CustCpcty=\"2\" IndAllocID=\"1171378091562369024@BTNL&gt;30061005514FS@20251106||c2537\"><Pty ID=\"us-2\" R=\"24\"><Sub ID=\"2\" Typ=\"26\" /></Pty></Alloc>'"
            ],
            "application/vnd.google.colaboratory.intrinsic+json": {
              "type": "string"
            }
          },
          "metadata": {},
          "execution_count": 140
        }
      ]
    },
    {
      "cell_type": "code",
      "source": [
        "cleaned_inp_msg11 = clean_sequence(inp_msg11)\n",
        "cleaned_inp_msg12 = clean_sequence(inp_msg12)"
      ],
      "metadata": {
        "id": "WHQa6N38sH8V"
      },
      "execution_count": null,
      "outputs": []
    },
    {
      "cell_type": "code",
      "source": [
        "cleaned_inp_msg11"
      ],
      "metadata": {
        "colab": {
          "base_uri": "https://localhost:8080/",
          "height": 105
        },
        "id": "ypsj5WbutBHM",
        "outputId": "d1fc02c8-e159-4df1-90cf-5e5e971201f1"
      },
      "execution_count": null,
      "outputs": [
        {
          "output_type": "execute_result",
          "data": {
            "text/plain": [
              "'TrdCaptRpt RptID=9609 TrdID=30061005514 TransTyp=0 RptTyp=2 TrdTyp=2 MtchID=30061002585 PxTyp=2 LastQty=10 LastPx=211 TrdDt=2025-11-06 BizDt=2025-11-06 TxnTm=2025-11-07T03:14:25.528-06:00 Hdr SID=MGEX TID=D210 PosDup=N PosRsnd=N Snt=2025-11-07T03:14:25.545-06:00 Hdr Instrmt Sym=BUI ID=BUI Src=H CFI=FCCPXX MMY=202512 MatDt=2025-12-27 Mult=0.1 Exch=BTNL Instrmt RptSide Side=2 Ccy=USD InptSrc=MA InptDev=PORTAL CustCpcty=1 PosEfct=C ClOrdID=123 MLegRptTyp=1 AllocInd=0 Pty ID=MGEX R=21 Pty Pty ID=210 R=1 Pty Pty ID=210 R=4 Pty Pty ID=Ag-1 R=24 Sub ID=2 Typ=26 Sub Pty Pty ID=210 R=12 Pty Alloc Alloc TrdRegTS TS=2025-11-07T03:14:25.528-06:00 Typ=1 TrdRegTS RptSide TrdCaptRpt  Alloc Qty=4.0 CustCpcty=4 IndAllocID=1171378091562369024@BTNL&gt;30061005514FS@20251106||5d135 Pty ID=us-1 R=24 Sub ID=2 Typ=26  Pty Alloc '"
            ],
            "application/vnd.google.colaboratory.intrinsic+json": {
              "type": "string"
            }
          },
          "metadata": {},
          "execution_count": 143
        }
      ]
    },
    {
      "cell_type": "code",
      "source": [
        "cleaned_inp_msg12"
      ],
      "metadata": {
        "colab": {
          "base_uri": "https://localhost:8080/",
          "height": 105
        },
        "id": "CilQfk07tD8i",
        "outputId": "d8017c75-0b68-4353-a9a1-3e6cd1153bfe"
      },
      "execution_count": null,
      "outputs": [
        {
          "output_type": "execute_result",
          "data": {
            "text/plain": [
              "'TrdCaptRpt RptID=9609 TrdID=30061005514 TransTyp=0 RptTyp=2 TrdTyp=2 MtchID=30061002585 PxTyp=2 LastQty=10 LastPx=211 TrdDt=2025-11-06 BizDt=2025-11-06 TxnTm=2025-11-07T03:14:25.528-06:00 Hdr SID=MGEX TID=D210 PosDup=N PosRsnd=N Snt=2025-11-07T03:14:25.545-06:00 Hdr Instrmt Sym=BUI ID=BUI Src=H CFI=FCCPXX MMY=202512 MatDt=2025-12-27 Mult=0.1 Exch=BTNL Instrmt RptSide Side=2 Ccy=USD InptSrc=MA InptDev=PORTAL CustCpcty=1 PosEfct=C ClOrdID=123 MLegRptTyp=1 AllocInd=0 Pty ID=MGEX R=21 Pty Pty ID=210 R=1 Pty Pty ID=210 R=4 Pty Pty ID=Ag-1 R=24 Sub ID=2 Typ=26 Sub Pty Pty ID=210 R=12 Pty Alloc Alloc TrdRegTS TS=2025-11-07T03:14:25.528-06:00 Typ=1 TrdRegTS RptSide TrdCaptRpt  Alloc Qty=6.0 CustCpcty=2 IndAllocID=1171378091562369024@BTNL&gt;30061005514FS@20251106||c2537 Pty ID=us-2 R=24 Sub ID=2 Typ=26  Pty Alloc '"
            ],
            "application/vnd.google.colaboratory.intrinsic+json": {
              "type": "string"
            }
          },
          "metadata": {},
          "execution_count": 144
        }
      ]
    },
    {
      "cell_type": "code",
      "source": [
        "predict(cleaned_inp_msg11,model1)"
      ],
      "metadata": {
        "colab": {
          "base_uri": "https://localhost:8080/",
          "height": 105
        },
        "id": "36l4TqGWsYJk",
        "outputId": "1a04d696-78e5-428b-a908-f3b2e49335fa"
      },
      "execution_count": null,
      "outputs": [
        {
          "output_type": "execute_result",
          "data": {
            "text/plain": [
              "'<TrdCaptRpt RptID=\"380198\" TrdID=\"30061005514\" TransTyp=\"2\" RptTyp=\"2\" TrdTyp=\"2\" MtchID=\"30061002585\" PxTyp=\"2\" LastQty=\"4.0\" LastPx=\"211\" TrdDt=\"2025-11-06\" BizDt=\"2025-11-06\" TxnTm=\"2025-11-07T00:12:55.138-06:00\"><Hdr SID=\"MGEX\" TID=\"D210\" PosDup=\"N\" PosRsnd=\"N\" Snt=\"2025-11-07T00:12:55.160-06:00\"></Hdr><Instrmt Sym=\"BUI\" ID=\"BUI\" Src=\"H\" CFI=\"FCCPXX\" MMY=\"202512\" MatDt=\"2025-12-27\" Mult=\"0.1\" Exch=\"BTNL\"></Instrmt><RptSide Side=\"2\" Ccy=\"USD\" InptSrc=\"MA\" InptDev=\"API\" CustCpcty=\"4\" PosEfct=\"C\" ClOrdID=\"123\" MLegRptTyp=\"1\" AllocInd=\"0\"><Pty ID=\"MGEX\" R=\"21\"></Pty><Pty ID=\"210\" R=\"1\"></Pty><Pty ID=\"210\" R=\"4\"></Pty><Pty ID=\"us-1\" R=\"24\"><Sub ID=\"2\" Typ=\"26\"></Sub></Pty><Pty ID=\"210\" R=\"12\"></Pty><Alloc IndAllocID=\"1171378091562369024@BTNL&gt;30061005514FS@20251106||5d135\"></Alloc><TrdRegTS TS=\"2025-11-07T03:14:25.528-06:00\" Typ=\"1\"></TrdRegTS></RptSide></TrdCaptRpt>'"
            ],
            "application/vnd.google.colaboratory.intrinsic+json": {
              "type": "string"
            }
          },
          "metadata": {},
          "execution_count": 141
        }
      ]
    },
    {
      "cell_type": "code",
      "source": [
        "predict(cleaned_inp_msg12,model2)"
      ],
      "metadata": {
        "colab": {
          "base_uri": "https://localhost:8080/",
          "height": 105
        },
        "id": "XcV4Rn0Bs1Mv",
        "outputId": "27471f76-8621-45d8-dafe-440cd2fa59f8"
      },
      "execution_count": null,
      "outputs": [
        {
          "output_type": "execute_result",
          "data": {
            "text/plain": [
              "'<TrdCaptRpt RptID=\"380199\" TrdID=\"18061000020\" TransTyp=\"0\" RptTyp=\"2\" TrdTyp=\"2\" OrigTrdID=\"30061005514\" MtchID=\"30061002585\" PxTyp=\"2\" LastQty=\"6.0\" LastPx=\"211\" TrdDt=\"2025-11-06\" BizDt=\"2025-11-06\" TxnTm=\"2025-11-07T00:12:55.138-06:00\"><Hdr SID=\"MGEX\" TID=\"D210\" PosDup=\"N\" PosRsnd=\"N\" Snt=\"2025-11-07T00:12:55.160-06:00\"></Hdr><Instrmt Sym=\"BUI\" ID=\"BUI\" Src=\"H\" CFI=\"FCCPXX\" MMY=\"202512\" MatDt=\"2025-12-27\" Mult=\"0.1\" Exch=\"BTNL\"></Instrmt><RptSide Side=\"2\" Ccy=\"USD\" InptSrc=\"MA\" InptDev=\"API\" CustCpcty=\"2\" PosEfct=\"C\" ClOrdID=\"123\" MLegRptTyp=\"1\" AllocInd=\"0\"><Pty ID=\"MGEX\" R=\"21\"></Pty><Pty ID=\"210\" R=\"1\"></Pty><Pty ID=\"210\" R=\"4\"></Pty><Pty ID=\"us-2\" R=\"24\"><Sub ID=\"2\" Typ=\"26\"></Sub></Pty><Pty ID=\"210\" R=\"12\"></Pty><Alloc IndAllocID=\"1171378091562369024@BTNL&gt;30061005514FS@20251106||c2537\"></Alloc><TrdRegTS TS=\"2025-11-07T03:14:25.528-06:00\" Typ=\"1\"></TrdRegTS></RptSide></TrdCaptRpt>'"
            ],
            "application/vnd.google.colaboratory.intrinsic+json": {
              "type": "string"
            }
          },
          "metadata": {},
          "execution_count": 142
        }
      ]
    },
    {
      "cell_type": "code",
      "source": [
        "trade_msg2 = \"\"\"<TrdCaptRpt RptID=\"9609\" TrdID=\"31061005510\" TransTyp=\"0\" RptTyp=\"2\" TrdTyp=\"2\" MtchID=\"40061002585\" PxTyp=\"2\" LastQty=\"50\" LastPx=\"500\" TrdDt=\"2023-11-06\" BizDt=\"2023-11-06\" TxnTm=\"2023-11-07T03:14:25.528-06:00\"><Hdr SID=\"MGEX\" TID=\"D210\" PosDup=\"N\" PosRsnd=\"N\" Snt=\"2023-11-07T03:14:25.545-06:00\"></Hdr><Instrmt Sym=\"BUI\" ID=\"BUI\" Src=\"H\" CFI=\"FCCPXX\" MMY=\"202312\" MatDt=\"2023-12-27\" Mult=\"0.1\" Exch=\"BTNL\"></Instrmt><RptSide Side=\"2\" Ccy=\"USD\" InptSrc=\"MA\" InptDev=\"PORTAL\" CustCpcty=\"1\" PosEfct=\"C\" ClOrdID=\"123\" MLegRptTyp=\"1\" AllocInd=\"0\"><Pty ID=\"MGEX\" R=\"21\"></Pty><Pty ID=\"210\" R=\"1\"></Pty><Pty ID=\"210\" R=\"4\"></Pty><Pty ID=\"Basma\" R=\"24\"><Sub ID=\"2\" Typ=\"26\"></Sub></Pty><Pty ID=\"210\" R=\"12\"></Pty><Alloc></Alloc><TrdRegTS TS=\"2023-11-07T03:14:25.528-06:00\" Typ=\"1\"></TrdRegTS></RptSide></TrdCaptRpt>\"\"\"\n",
        "sgw_op2 = \"\"\"<TrdCaptRpt RptID=\"31061005510\" TrdDt=\"2023-11-06\" BizDt=\"2023-11-06\" TxnTm=\"2023-11-07T03:14:25.528-06:00\" TrdID=\"31061005510\" TransTyp=\"2\" RptTyp=\"0\" LastQty=\"50.0\" LastPx=\"500.0\"><Hdr Snt=\"2023-11-07T10:18:20.194+01:00\" TID=\"MGEX\" SID=\"D210\"/><Instrmt Exch=\"BTNL\" ID=\"BUI\" MMY=\"202312\" CFI=\"FXXXXX\"/><RptSide Side=\"2\" AllocInd=\"2\" CustCpcty=\"2\"><Pty ID=\"210\" R=\"1\"/><Alloc Qty=\"30.0\" CustCpcty=\"2\" IndAllocID=\"1171378091562369024@BTNL>31061005510FS@20231106||5d135\"><Pty ID=\"bl_ac\" R=\"24\"><Sub ID=\"2\" Typ=\"26\"/></Pty></Alloc><Alloc Qty=\"20.0\" CustCpcty=\"3\" IndAllocID=\"1171378091562369024@BTNL>31061005510FS@20231106||c2537\"><Pty ID=\"ts_lm\" R=\"24\"><Sub ID=\"2\" Typ=\"26\"/></Pty></Alloc></RptSide></TrdCaptRpt>\"\"\""
      ],
      "metadata": {
        "id": "k5DLa32lwtz1"
      },
      "execution_count": null,
      "outputs": []
    },
    {
      "cell_type": "code",
      "source": [
        "sgw_op21=extract_first_alloc(sgw_op2)\n",
        "sgw_op22=extract_second_alloc(sgw_op2)"
      ],
      "metadata": {
        "id": "GH1ZHDuTyAiJ"
      },
      "execution_count": null,
      "outputs": []
    },
    {
      "cell_type": "code",
      "source": [
        "trade_msg2"
      ],
      "metadata": {
        "colab": {
          "base_uri": "https://localhost:8080/",
          "height": 105
        },
        "id": "_SrOHxuEyRFr",
        "outputId": "394f5e5c-e4ed-4e06-84b4-df8406b1dfc6"
      },
      "execution_count": null,
      "outputs": [
        {
          "output_type": "execute_result",
          "data": {
            "text/plain": [
              "'<TrdCaptRpt RptID=\"9609\" TrdID=\"31061005510\" TransTyp=\"0\" RptTyp=\"2\" TrdTyp=\"2\" MtchID=\"40061002585\" PxTyp=\"2\" LastQty=\"50\" LastPx=\"500\" TrdDt=\"2023-11-06\" BizDt=\"2023-11-06\" TxnTm=\"2023-11-07T03:14:25.528-06:00\"><Hdr SID=\"MGEX\" TID=\"D210\" PosDup=\"N\" PosRsnd=\"N\" Snt=\"2023-11-07T03:14:25.545-06:00\"></Hdr><Instrmt Sym=\"BUI\" ID=\"BUI\" Src=\"H\" CFI=\"FCCPXX\" MMY=\"202312\" MatDt=\"2023-12-27\" Mult=\"0.1\" Exch=\"BTNL\"></Instrmt><RptSide Side=\"2\" Ccy=\"USD\" InptSrc=\"MA\" InptDev=\"PORTAL\" CustCpcty=\"1\" PosEfct=\"C\" ClOrdID=\"123\" MLegRptTyp=\"1\" AllocInd=\"0\"><Pty ID=\"MGEX\" R=\"21\"></Pty><Pty ID=\"210\" R=\"1\"></Pty><Pty ID=\"210\" R=\"4\"></Pty><Pty ID=\"Basma\" R=\"24\"><Sub ID=\"2\" Typ=\"26\"></Sub></Pty><Pty ID=\"210\" R=\"12\"></Pty><Alloc></Alloc><TrdRegTS TS=\"2023-11-07T03:14:25.528-06:00\" Typ=\"1\"></TrdRegTS></RptSide></TrdCaptRpt>'"
            ],
            "application/vnd.google.colaboratory.intrinsic+json": {
              "type": "string"
            }
          },
          "metadata": {},
          "execution_count": 150
        }
      ]
    },
    {
      "cell_type": "code",
      "source": [
        "sgw_op2"
      ],
      "metadata": {
        "colab": {
          "base_uri": "https://localhost:8080/",
          "height": 88
        },
        "id": "5LVKJyeVyTC_",
        "outputId": "697ff69d-228f-4843-ed59-304e10d7cbbe"
      },
      "execution_count": null,
      "outputs": [
        {
          "output_type": "execute_result",
          "data": {
            "text/plain": [
              "'<TrdCaptRpt RptID=\"31061005510\" TrdDt=\"2023-11-06\" BizDt=\"2023-11-06\" TxnTm=\"2023-11-07T03:14:25.528-06:00\" TrdID=\"31061005510\" TransTyp=\"2\" RptTyp=\"0\" LastQty=\"50.0\" LastPx=\"500.0\"><Hdr Snt=\"2023-11-07T10:18:20.194+01:00\" TID=\"MGEX\" SID=\"D210\"/><Instrmt Exch=\"BTNL\" ID=\"BUI\" MMY=\"202312\" CFI=\"FXXXXX\"/><RptSide Side=\"2\" AllocInd=\"2\" CustCpcty=\"2\"><Pty ID=\"210\" R=\"1\"/><Alloc Qty=\"30.0\" CustCpcty=\"2\" IndAllocID=\"1171378091562369024@BTNL>31061005510FS@20231106||5d135\"><Pty ID=\"bl_ac\" R=\"24\"><Sub ID=\"2\" Typ=\"26\"/></Pty></Alloc><Alloc Qty=\"20.0\" CustCpcty=\"3\" IndAllocID=\"1171378091562369024@BTNL>31061005510FS@20231106||c2537\"><Pty ID=\"ts_lm\" R=\"24\"><Sub ID=\"2\" Typ=\"26\"/></Pty></Alloc></RptSide></TrdCaptRpt>'"
            ],
            "application/vnd.google.colaboratory.intrinsic+json": {
              "type": "string"
            }
          },
          "metadata": {},
          "execution_count": 151
        }
      ]
    },
    {
      "cell_type": "code",
      "source": [
        "sgw_op21"
      ],
      "metadata": {
        "colab": {
          "base_uri": "https://localhost:8080/",
          "height": 36
        },
        "id": "HV7SsfS2yU0W",
        "outputId": "83290d78-e006-4a02-f63f-fe90f74231d4"
      },
      "execution_count": null,
      "outputs": [
        {
          "output_type": "execute_result",
          "data": {
            "text/plain": [
              "'<Alloc Qty=\"30.0\" CustCpcty=\"2\" IndAllocID=\"1171378091562369024@BTNL&gt;31061005510FS@20231106||5d135\"><Pty ID=\"bl_ac\" R=\"24\"><Sub ID=\"2\" Typ=\"26\" /></Pty></Alloc>'"
            ],
            "application/vnd.google.colaboratory.intrinsic+json": {
              "type": "string"
            }
          },
          "metadata": {},
          "execution_count": 152
        }
      ]
    },
    {
      "cell_type": "code",
      "source": [
        "sgw_op22"
      ],
      "metadata": {
        "colab": {
          "base_uri": "https://localhost:8080/",
          "height": 36
        },
        "id": "ShmNta4Tyaly",
        "outputId": "60462df2-06ba-459d-8a20-a7381048b213"
      },
      "execution_count": null,
      "outputs": [
        {
          "output_type": "execute_result",
          "data": {
            "text/plain": [
              "'<Alloc Qty=\"20.0\" CustCpcty=\"3\" IndAllocID=\"1171378091562369024@BTNL&gt;31061005510FS@20231106||c2537\"><Pty ID=\"ts_lm\" R=\"24\"><Sub ID=\"2\" Typ=\"26\" /></Pty></Alloc>'"
            ],
            "application/vnd.google.colaboratory.intrinsic+json": {
              "type": "string"
            }
          },
          "metadata": {},
          "execution_count": 153
        }
      ]
    },
    {
      "cell_type": "code",
      "source": [
        "inp_msg21 = trade_msg2+' '+sgw_op21\n",
        "inp_msg22 = trade_msg2+' '+sgw_op22"
      ],
      "metadata": {
        "id": "CKNcDSDWycAW"
      },
      "execution_count": null,
      "outputs": []
    },
    {
      "cell_type": "code",
      "source": [
        "inp_msg21"
      ],
      "metadata": {
        "colab": {
          "base_uri": "https://localhost:8080/",
          "height": 122
        },
        "id": "dJK66wuAyjyI",
        "outputId": "4c332210-4818-4211-f4ac-4a3f9e7e9cae"
      },
      "execution_count": null,
      "outputs": [
        {
          "output_type": "execute_result",
          "data": {
            "text/plain": [
              "'<TrdCaptRpt RptID=\"9609\" TrdID=\"31061005510\" TransTyp=\"0\" RptTyp=\"2\" TrdTyp=\"2\" MtchID=\"40061002585\" PxTyp=\"2\" LastQty=\"50\" LastPx=\"500\" TrdDt=\"2023-11-06\" BizDt=\"2023-11-06\" TxnTm=\"2023-11-07T03:14:25.528-06:00\"><Hdr SID=\"MGEX\" TID=\"D210\" PosDup=\"N\" PosRsnd=\"N\" Snt=\"2023-11-07T03:14:25.545-06:00\"></Hdr><Instrmt Sym=\"BUI\" ID=\"BUI\" Src=\"H\" CFI=\"FCCPXX\" MMY=\"202312\" MatDt=\"2023-12-27\" Mult=\"0.1\" Exch=\"BTNL\"></Instrmt><RptSide Side=\"2\" Ccy=\"USD\" InptSrc=\"MA\" InptDev=\"PORTAL\" CustCpcty=\"1\" PosEfct=\"C\" ClOrdID=\"123\" MLegRptTyp=\"1\" AllocInd=\"0\"><Pty ID=\"MGEX\" R=\"21\"></Pty><Pty ID=\"210\" R=\"1\"></Pty><Pty ID=\"210\" R=\"4\"></Pty><Pty ID=\"Basma\" R=\"24\"><Sub ID=\"2\" Typ=\"26\"></Sub></Pty><Pty ID=\"210\" R=\"12\"></Pty><Alloc></Alloc><TrdRegTS TS=\"2023-11-07T03:14:25.528-06:00\" Typ=\"1\"></TrdRegTS></RptSide></TrdCaptRpt> <Alloc Qty=\"30.0\" CustCpcty=\"2\" IndAllocID=\"1171378091562369024@BTNL&gt;31061005510FS@20231106||5d135\"><Pty ID=\"bl_ac\" R=\"24\"><Sub ID=\"2\" Typ=\"26\" /></Pty></Alloc>'"
            ],
            "application/vnd.google.colaboratory.intrinsic+json": {
              "type": "string"
            }
          },
          "metadata": {},
          "execution_count": 155
        }
      ]
    },
    {
      "cell_type": "code",
      "source": [
        "inp_msg22"
      ],
      "metadata": {
        "colab": {
          "base_uri": "https://localhost:8080/",
          "height": 122
        },
        "id": "s3Pe1o89ymAd",
        "outputId": "fcb1ee2f-7f16-42bf-f1c5-900a4896cee7"
      },
      "execution_count": null,
      "outputs": [
        {
          "output_type": "execute_result",
          "data": {
            "text/plain": [
              "'<TrdCaptRpt RptID=\"9609\" TrdID=\"31061005510\" TransTyp=\"0\" RptTyp=\"2\" TrdTyp=\"2\" MtchID=\"40061002585\" PxTyp=\"2\" LastQty=\"50\" LastPx=\"500\" TrdDt=\"2023-11-06\" BizDt=\"2023-11-06\" TxnTm=\"2023-11-07T03:14:25.528-06:00\"><Hdr SID=\"MGEX\" TID=\"D210\" PosDup=\"N\" PosRsnd=\"N\" Snt=\"2023-11-07T03:14:25.545-06:00\"></Hdr><Instrmt Sym=\"BUI\" ID=\"BUI\" Src=\"H\" CFI=\"FCCPXX\" MMY=\"202312\" MatDt=\"2023-12-27\" Mult=\"0.1\" Exch=\"BTNL\"></Instrmt><RptSide Side=\"2\" Ccy=\"USD\" InptSrc=\"MA\" InptDev=\"PORTAL\" CustCpcty=\"1\" PosEfct=\"C\" ClOrdID=\"123\" MLegRptTyp=\"1\" AllocInd=\"0\"><Pty ID=\"MGEX\" R=\"21\"></Pty><Pty ID=\"210\" R=\"1\"></Pty><Pty ID=\"210\" R=\"4\"></Pty><Pty ID=\"Basma\" R=\"24\"><Sub ID=\"2\" Typ=\"26\"></Sub></Pty><Pty ID=\"210\" R=\"12\"></Pty><Alloc></Alloc><TrdRegTS TS=\"2023-11-07T03:14:25.528-06:00\" Typ=\"1\"></TrdRegTS></RptSide></TrdCaptRpt> <Alloc Qty=\"20.0\" CustCpcty=\"3\" IndAllocID=\"1171378091562369024@BTNL&gt;31061005510FS@20231106||c2537\"><Pty ID=\"ts_lm\" R=\"24\"><Sub ID=\"2\" Typ=\"26\" /></Pty></Alloc>'"
            ],
            "application/vnd.google.colaboratory.intrinsic+json": {
              "type": "string"
            }
          },
          "metadata": {},
          "execution_count": 156
        }
      ]
    },
    {
      "cell_type": "code",
      "source": [
        "cleaned_inp_msg21 = clean_sequence(inp_msg21)\n",
        "cleaned_inp_msg22 = clean_sequence(inp_msg22)"
      ],
      "metadata": {
        "id": "jSGYRO-VyoWx"
      },
      "execution_count": null,
      "outputs": []
    },
    {
      "cell_type": "code",
      "source": [
        "cleaned_inp_msg21"
      ],
      "metadata": {
        "colab": {
          "base_uri": "https://localhost:8080/",
          "height": 105
        },
        "id": "ieRHkcP7yuxL",
        "outputId": "dc5891d5-1c24-49ba-839b-0d2b87ba5a1c"
      },
      "execution_count": null,
      "outputs": [
        {
          "output_type": "execute_result",
          "data": {
            "text/plain": [
              "'TrdCaptRpt RptID=9609 TrdID=31061005510 TransTyp=0 RptTyp=2 TrdTyp=2 MtchID=40061002585 PxTyp=2 LastQty=50 LastPx=500 TrdDt=2023-11-06 BizDt=2023-11-06 TxnTm=2023-11-07T03:14:25.528-06:00 Hdr SID=MGEX TID=D210 PosDup=N PosRsnd=N Snt=2023-11-07T03:14:25.545-06:00 Hdr Instrmt Sym=BUI ID=BUI Src=H CFI=FCCPXX MMY=202312 MatDt=2023-12-27 Mult=0.1 Exch=BTNL Instrmt RptSide Side=2 Ccy=USD InptSrc=MA InptDev=PORTAL CustCpcty=1 PosEfct=C ClOrdID=123 MLegRptTyp=1 AllocInd=0 Pty ID=MGEX R=21 Pty Pty ID=210 R=1 Pty Pty ID=210 R=4 Pty Pty ID=Basma R=24 Sub ID=2 Typ=26 Sub Pty Pty ID=210 R=12 Pty Alloc Alloc TrdRegTS TS=2023-11-07T03:14:25.528-06:00 Typ=1 TrdRegTS RptSide TrdCaptRpt  Alloc Qty=30.0 CustCpcty=2 IndAllocID=1171378091562369024@BTNL&gt;31061005510FS@20231106||5d135 Pty ID=bl_ac R=24 Sub ID=2 Typ=26  Pty Alloc '"
            ],
            "application/vnd.google.colaboratory.intrinsic+json": {
              "type": "string"
            }
          },
          "metadata": {},
          "execution_count": 158
        }
      ]
    },
    {
      "cell_type": "code",
      "source": [
        "cleaned_inp_msg22"
      ],
      "metadata": {
        "colab": {
          "base_uri": "https://localhost:8080/",
          "height": 105
        },
        "id": "Jwxy4lF_ywnO",
        "outputId": "e2a3288b-ef0c-4c69-a147-95bc33e66b5c"
      },
      "execution_count": null,
      "outputs": [
        {
          "output_type": "execute_result",
          "data": {
            "text/plain": [
              "'TrdCaptRpt RptID=9609 TrdID=31061005510 TransTyp=0 RptTyp=2 TrdTyp=2 MtchID=40061002585 PxTyp=2 LastQty=50 LastPx=500 TrdDt=2023-11-06 BizDt=2023-11-06 TxnTm=2023-11-07T03:14:25.528-06:00 Hdr SID=MGEX TID=D210 PosDup=N PosRsnd=N Snt=2023-11-07T03:14:25.545-06:00 Hdr Instrmt Sym=BUI ID=BUI Src=H CFI=FCCPXX MMY=202312 MatDt=2023-12-27 Mult=0.1 Exch=BTNL Instrmt RptSide Side=2 Ccy=USD InptSrc=MA InptDev=PORTAL CustCpcty=1 PosEfct=C ClOrdID=123 MLegRptTyp=1 AllocInd=0 Pty ID=MGEX R=21 Pty Pty ID=210 R=1 Pty Pty ID=210 R=4 Pty Pty ID=Basma R=24 Sub ID=2 Typ=26 Sub Pty Pty ID=210 R=12 Pty Alloc Alloc TrdRegTS TS=2023-11-07T03:14:25.528-06:00 Typ=1 TrdRegTS RptSide TrdCaptRpt  Alloc Qty=20.0 CustCpcty=3 IndAllocID=1171378091562369024@BTNL&gt;31061005510FS@20231106||c2537 Pty ID=ts_lm R=24 Sub ID=2 Typ=26  Pty Alloc '"
            ],
            "application/vnd.google.colaboratory.intrinsic+json": {
              "type": "string"
            }
          },
          "metadata": {},
          "execution_count": 159
        }
      ]
    },
    {
      "cell_type": "code",
      "source": [
        "predict(cleaned_inp_msg21,model1)"
      ],
      "metadata": {
        "colab": {
          "base_uri": "https://localhost:8080/",
          "height": 105
        },
        "id": "LCNWQxX_yyA5",
        "outputId": "0af0bca4-ff01-4608-bfc7-dcc59d873cbc"
      },
      "execution_count": null,
      "outputs": [
        {
          "output_type": "execute_result",
          "data": {
            "text/plain": [
              "'<TrdCaptRpt RptID=\"380198\" TrdID=\"31061005510\" TransTyp=\"2\" RptTyp=\"2\" TrdTyp=\"2\" MtchID=\"40061002585\" PxTyp=\"2\" LastQty=\"30.0\" LastPx=\"500\" TrdDt=\"2023-11-06\" BizDt=\"2023-11-06\" TxnTm=\"2023-11-07T00:12:55.138-06:00\"><Hdr SID=\"MGEX\" TID=\"D210\" PosDup=\"N\" PosRsnd=\"N\" Snt=\"2023-11-07T00:12:55.160-06:00\"></Hdr><Instrmt Sym=\"BUI\" ID=\"BUI\" Src=\"H\" CFI=\"FCCPXX\" MMY=\"202312\" MatDt=\"2023-12-27\" Mult=\"0.1\" Exch=\"BTNL\"></Instrmt><RptSide Side=\"2\" Ccy=\"USD\" InptSrc=\"MA\" InptDev=\"API\" CustCpcty=\"2\" PosEfct=\"C\" ClOrdID=\"123\" MLegRptTyp=\"1\" AllocInd=\"0\"><Pty ID=\"MGEX\" R=\"21\"></Pty><Pty ID=\"210\" R=\"1\"></Pty><Pty ID=\"210\" R=\"4\"></Pty><Pty ID=\"bl_ac\" R=\"24\"><Sub ID=\"2\" Typ=\"26\"></Sub></Pty><Pty ID=\"210\" R=\"12\"></Pty><Alloc IndAllocID=\"1171378091562369024@BTNL&gt;31061005510FS@20231106||5d135\"></Alloc><TrdRegTS TS=\"2023-11-07T03:14:25.528-06:00\" Typ=\"1\"></TrdRegTS></RptSide></TrdCaptRpt>'"
            ],
            "application/vnd.google.colaboratory.intrinsic+json": {
              "type": "string"
            }
          },
          "metadata": {},
          "execution_count": 160
        }
      ]
    },
    {
      "cell_type": "code",
      "source": [
        "predict(cleaned_inp_msg22,model2)"
      ],
      "metadata": {
        "colab": {
          "base_uri": "https://localhost:8080/",
          "height": 105
        },
        "id": "G8pQLunQy313",
        "outputId": "02420fbf-09f7-4c66-947e-087b3c7a8103"
      },
      "execution_count": null,
      "outputs": [
        {
          "output_type": "execute_result",
          "data": {
            "text/plain": [
              "'<TrdCaptRpt RptID=\"380199\" TrdID=\"18061000020\" TransTyp=\"0\" RptTyp=\"2\" TrdTyp=\"2\" OrigTrdID=\"31061005510\" MtchID=\"40061002585\" PxTyp=\"2\" LastQty=\"20.0\" LastPx=\"500\" TrdDt=\"2023-11-06\" BizDt=\"2023-11-06\" TxnTm=\"2023-11-07T00:12:55.138-06:00\"><Hdr SID=\"MGEX\" TID=\"D210\" PosDup=\"N\" PosRsnd=\"N\" Snt=\"2023-11-07T00:12:55.160-06:00\"></Hdr><Instrmt Sym=\"BUI\" ID=\"BUI\" Src=\"H\" CFI=\"FCCPXX\" MMY=\"202312\" MatDt=\"2023-12-27\" Mult=\"0.1\" Exch=\"BTNL\"></Instrmt><RptSide Side=\"2\" Ccy=\"USD\" InptSrc=\"MA\" InptDev=\"API\" CustCpcty=\"3\" PosEfct=\"C\" ClOrdID=\"123\" MLegRptTyp=\"1\" AllocInd=\"0\"><Pty ID=\"MGEX\" R=\"21\"></Pty><Pty ID=\"210\" R=\"1\"></Pty><Pty ID=\"210\" R=\"4\"></Pty><Pty ID=\"ts_lm\" R=\"24\"><Sub ID=\"2\" Typ=\"26\"></Sub></Pty><Pty ID=\"210\" R=\"12\"></Pty><Alloc IndAllocID=\"1171378091562369024@BTNL&gt;31061005510FS@20231106||c2537\"></Alloc><TrdRegTS TS=\"2023-11-07T03:14:25.528-06:00\" Typ=\"1\"></TrdRegTS></RptSide></TrdCaptRpt>'"
            ],
            "application/vnd.google.colaboratory.intrinsic+json": {
              "type": "string"
            }
          },
          "metadata": {},
          "execution_count": 161
        }
      ]
    }
  ]
}